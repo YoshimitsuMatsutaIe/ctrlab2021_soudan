{
 "cells": [
  {
   "cell_type": "markdown",
   "metadata": {},
   "source": [
    "# Rのヤコビ行列などの計算"
   ]
  },
  {
   "cell_type": "code",
   "execution_count": null,
   "metadata": {},
   "outputs": [],
   "source": [
    "import sympy as sy\n",
    "from sympy import sqrt\n",
    "\n",
    "\n",
    "t = sy.Symbol(\"t\")\n",
    "l1, l2, l3 = sy.symbols(\"l1, l2, l3\")\n",
    "xi = sy.Symbol(\"xi\")\n",
    "c1, c2, c3, c4, c5, c6, c7, c8, c9, L0, r = sy.symbols(\n",
    "    \"c1, c2, c3, c4, c5, c6, c7, c8, c9, L0, r\"\n",
    ")\n",
    "\n",
    "L = sy.Matrix([[l1, l2, l3]]).T\n",
    "\n",
    "\n",
    "def calc_X(L, xi):\n",
    "    \"\"\"アクチュエータ空間からタスク空間への写像\n",
    "    \n",
    "    L = [L[0,0], L[1,0], L[2,0]] -> X = [x, y, z]\n",
    "    \"\"\"\n",
    "    \n",
    "    \n",
    "    A1 = L[0,0]**2 + L[1,0]**2 + L[1,0]**2 - \\\n",
    "        L[0,0]*L[1,0] - L[0,0]*L[2,0] - L[1,0]*L[2,0]\n",
    "    A2 = 2*L[0,0] - L[1,0] - L[2,0]\n",
    "    A3 = L[1,0] - L[2,0]\n",
    "    A4 = 3*L0 + L[0,0] + L[1,0] + L[2,0]\n",
    "    \n",
    "    x = -(A2 * A1**4 * A4 * xi**10) / ((c1 * r**9)) + \\\n",
    "        (A2 * A1**3 * A4 * xi**8) / (c2 * r**7) - \\\n",
    "            (A2 * A1**2 * A4 * xi**6) / (c3 * r**5) + \\\n",
    "                (A2 * A1 * A4 * xi**4) / (c4 * r**3) - \\\n",
    "                    (A2 * A4 * xi**2) / (c5 * r)\n",
    "    \n",
    "    y = -(sqrt(3) * A4 * A3 * A1**4 * xi**10) / (c1 * r**9) + \\\n",
    "        (sqrt(3) * A4 * A3 * A1**3 * xi**8) / (c2 * r**7) - \\\n",
    "            (sqrt(3) * A4 * A3 * A1**2 * xi**6) / (c3 * r**5) + \\\n",
    "                (sqrt(3) * A4 * A1 * A2 * xi**4) / (c4 * r**3) - \\\n",
    "                    (sqrt(3) * A4 * A3 * xi**2) / (c5 * r)\n",
    "    \n",
    "    z = (2 * A1**4 * A4 * xi**9) / (c6 * r**8) - \\\n",
    "        (4 * A1**3 * A4 * xi**7) / (c7 * r**6) + \\\n",
    "            (2 * A1**2 * A4 * xi**5) / (c8 * r**4) - \\\n",
    "                (2 * A1 *A4 * xi**3) / (c9 * r**2) + \\\n",
    "                    (A4 * xi) / 3\n",
    "\n",
    "    return sy.Matrix([[x, y, z]]).T"
   ]
  }
 ],
 "metadata": {
  "language_info": {
   "name": "python"
  },
  "orig_nbformat": 4
 },
 "nbformat": 4,
 "nbformat_minor": 2
}
