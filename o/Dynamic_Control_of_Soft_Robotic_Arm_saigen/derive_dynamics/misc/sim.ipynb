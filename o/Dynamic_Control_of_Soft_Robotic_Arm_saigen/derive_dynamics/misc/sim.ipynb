{
 "cells": [
  {
   "cell_type": "code",
   "execution_count": 3,
   "metadata": {},
   "outputs": [],
   "source": [
    "from sympy import sympify\n",
    "\n",
    "expor = sympify(\"Matrix([[-b1*l1*cos(a1) - l2*(b1 + b2)*cos(a1 + a2) - l3*(b1 + b2 + b3)*cos(a1 + a2 + a3) - l4*(b1 + b2 + b3 + b4)*cos(a1 + a2 + a3 + a4), -l2*(b1 + b2)*cos(a1 + a2) - l3*(b1 + b2 + b3)*cos(a1 + a2 + a3) - l4*(b1 + b2 + b3 + b4)*cos(a1 + a2 + a3 + a4), -l3*(b1 + b2 + b3)*cos(a1 + a2 + a3) - l4*(b1 + b2 + b3 + b4)*cos(a1 + a2 + a3 + a4), -l4*(b1 + b2 + b3 + b4)*cos(a1 + a2 + a3 + a4)], [-b1*l1*sin(a1) - l2*(b1 + b2)*sin(a1 + a2) - l3*(b1 + b2 + b3)*sin(a1 + a2 + a3) - l4*(b1 + b2 + b3 + b4)*sin(a1 + a2 + a3 + a4), -l2*(b1 + b2)*sin(a1 + a2) - l3*(b1 + b2 + b3)*sin(a1 + a2 + a3) - l4*(b1 + b2 + b3 + b4)*sin(a1 + a2 + a3 + a4), -l3*(b1 + b2 + b3)*sin(a1 + a2 + a3) - l4*(b1 + b2 + b3 + b4)*sin(a1 + a2 + a3 + a4), -l4*(b1 + b2 + b3 + b4)*sin(a1 + a2 + a3 + a4)]])\")"
   ]
  },
  {
   "cell_type": "code",
   "execution_count": 4,
   "metadata": {},
   "outputs": [
    {
     "data": {
      "text/latex": [
       "$\\displaystyle \\left[\\begin{matrix}- b_{1} l_{1} \\cos{\\left(a_{1} \\right)} - l_{2} \\left(b_{1} + b_{2}\\right) \\cos{\\left(a_{1} + a_{2} \\right)} - l_{3} \\left(b_{1} + b_{2} + b_{3}\\right) \\cos{\\left(a_{1} + a_{2} + a_{3} \\right)} - l_{4} \\left(b_{1} + b_{2} + b_{3} + b_{4}\\right) \\cos{\\left(a_{1} + a_{2} + a_{3} + a_{4} \\right)} & - l_{2} \\left(b_{1} + b_{2}\\right) \\cos{\\left(a_{1} + a_{2} \\right)} - l_{3} \\left(b_{1} + b_{2} + b_{3}\\right) \\cos{\\left(a_{1} + a_{2} + a_{3} \\right)} - l_{4} \\left(b_{1} + b_{2} + b_{3} + b_{4}\\right) \\cos{\\left(a_{1} + a_{2} + a_{3} + a_{4} \\right)} & - l_{3} \\left(b_{1} + b_{2} + b_{3}\\right) \\cos{\\left(a_{1} + a_{2} + a_{3} \\right)} - l_{4} \\left(b_{1} + b_{2} + b_{3} + b_{4}\\right) \\cos{\\left(a_{1} + a_{2} + a_{3} + a_{4} \\right)} & - l_{4} \\left(b_{1} + b_{2} + b_{3} + b_{4}\\right) \\cos{\\left(a_{1} + a_{2} + a_{3} + a_{4} \\right)}\\\\- b_{1} l_{1} \\sin{\\left(a_{1} \\right)} - l_{2} \\left(b_{1} + b_{2}\\right) \\sin{\\left(a_{1} + a_{2} \\right)} - l_{3} \\left(b_{1} + b_{2} + b_{3}\\right) \\sin{\\left(a_{1} + a_{2} + a_{3} \\right)} - l_{4} \\left(b_{1} + b_{2} + b_{3} + b_{4}\\right) \\sin{\\left(a_{1} + a_{2} + a_{3} + a_{4} \\right)} & - l_{2} \\left(b_{1} + b_{2}\\right) \\sin{\\left(a_{1} + a_{2} \\right)} - l_{3} \\left(b_{1} + b_{2} + b_{3}\\right) \\sin{\\left(a_{1} + a_{2} + a_{3} \\right)} - l_{4} \\left(b_{1} + b_{2} + b_{3} + b_{4}\\right) \\sin{\\left(a_{1} + a_{2} + a_{3} + a_{4} \\right)} & - l_{3} \\left(b_{1} + b_{2} + b_{3}\\right) \\sin{\\left(a_{1} + a_{2} + a_{3} \\right)} - l_{4} \\left(b_{1} + b_{2} + b_{3} + b_{4}\\right) \\sin{\\left(a_{1} + a_{2} + a_{3} + a_{4} \\right)} & - l_{4} \\left(b_{1} + b_{2} + b_{3} + b_{4}\\right) \\sin{\\left(a_{1} + a_{2} + a_{3} + a_{4} \\right)}\\end{matrix}\\right]$"
      ],
      "text/plain": [
       "Matrix([\n",
       "[-b1*l1*cos(a1) - l2*(b1 + b2)*cos(a1 + a2) - l3*(b1 + b2 + b3)*cos(a1 + a2 + a3) - l4*(b1 + b2 + b3 + b4)*cos(a1 + a2 + a3 + a4), -l2*(b1 + b2)*cos(a1 + a2) - l3*(b1 + b2 + b3)*cos(a1 + a2 + a3) - l4*(b1 + b2 + b3 + b4)*cos(a1 + a2 + a3 + a4), -l3*(b1 + b2 + b3)*cos(a1 + a2 + a3) - l4*(b1 + b2 + b3 + b4)*cos(a1 + a2 + a3 + a4), -l4*(b1 + b2 + b3 + b4)*cos(a1 + a2 + a3 + a4)],\n",
       "[-b1*l1*sin(a1) - l2*(b1 + b2)*sin(a1 + a2) - l3*(b1 + b2 + b3)*sin(a1 + a2 + a3) - l4*(b1 + b2 + b3 + b4)*sin(a1 + a2 + a3 + a4), -l2*(b1 + b2)*sin(a1 + a2) - l3*(b1 + b2 + b3)*sin(a1 + a2 + a3) - l4*(b1 + b2 + b3 + b4)*sin(a1 + a2 + a3 + a4), -l3*(b1 + b2 + b3)*sin(a1 + a2 + a3) - l4*(b1 + b2 + b3 + b4)*sin(a1 + a2 + a3 + a4), -l4*(b1 + b2 + b3 + b4)*sin(a1 + a2 + a3 + a4)]])"
      ]
     },
     "execution_count": 4,
     "metadata": {},
     "output_type": "execute_result"
    }
   ],
   "source": [
    "expor"
   ]
  }
 ],
 "metadata": {
  "interpreter": {
   "hash": "368756e83d2084993ac505becbe47825c8a72b0fc53c20a5043bb5b908d065dc"
  },
  "kernelspec": {
   "display_name": "Python 3.8.8 64-bit ('base': conda)",
   "language": "python",
   "name": "python3"
  },
  "language_info": {
   "codemirror_mode": {
    "name": "ipython",
    "version": 3
   },
   "file_extension": ".py",
   "mimetype": "text/x-python",
   "name": "python",
   "nbconvert_exporter": "python",
   "pygments_lexer": "ipython3",
   "version": "3.8.8"
  },
  "orig_nbformat": 4
 },
 "nbformat": 4,
 "nbformat_minor": 2
}
