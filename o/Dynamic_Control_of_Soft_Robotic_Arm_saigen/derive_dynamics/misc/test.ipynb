{
 "cells": [
  {
   "cell_type": "code",
   "execution_count": 1,
   "metadata": {},
   "outputs": [
    {
     "data": {
      "text/latex": [
       "$\\displaystyle \\left[\\begin{matrix}\\left[\\begin{matrix}1 & 2 & 3\\\\4 & 5 & 6\\\\7 & 8 & 9\\end{matrix}\\right] & \\left[\\begin{matrix}10 & 11 & 12\\\\13 & 14 & 15\\\\16 & 17 & 18\\end{matrix}\\right] & \\left[\\begin{matrix}19 & 20 & 21\\\\22 & 23 & 24\\\\25 & 26 & 27\\end{matrix}\\right]\\end{matrix}\\right]$"
      ],
      "text/plain": [
       "⎡⎡1  2  3⎤  ⎡10  11  12⎤  ⎡19  20  21⎤⎤\n",
       "⎢⎢       ⎥  ⎢          ⎥  ⎢          ⎥⎥\n",
       "⎢⎢4  5  6⎥  ⎢13  14  15⎥  ⎢22  23  24⎥⎥\n",
       "⎢⎢       ⎥  ⎢          ⎥  ⎢          ⎥⎥\n",
       "⎣⎣7  8  9⎦  ⎣16  17  18⎦  ⎣25  26  27⎦⎦"
      ]
     },
     "execution_count": 1,
     "metadata": {},
     "output_type": "execute_result"
    }
   ],
   "source": [
    "import sympy as sy\n",
    "from IPython.display import display\n",
    "sy.init_printing()\n",
    "\n",
    "\n",
    "A = sy.Array([\n",
    "    [\n",
    "        [1, 2, 3], [4, 5, 6], [7, 8, 9]\n",
    "    ],\n",
    "    [\n",
    "        [10, 11, 12], [13, 14, 15], [16, 17, 18]\n",
    "    ],\n",
    "    [\n",
    "        [19, 20, 21], [22, 23, 24], [25, 26, 27]\n",
    "    ]\n",
    "])\n",
    "\n",
    "A"
   ]
  },
  {
   "cell_type": "code",
   "execution_count": null,
   "metadata": {},
   "outputs": [],
   "source": []
  },
  {
   "cell_type": "code",
   "execution_count": 2,
   "metadata": {},
   "outputs": [
    {
     "data": {
      "text/latex": [
       "$\\displaystyle \\left[\\begin{matrix}1 & 2 & 3\\\\4 & 5 & 6\\\\7 & 8 & 9\\end{matrix}\\right]$"
      ],
      "text/plain": [
       "⎡1  2  3⎤\n",
       "⎢       ⎥\n",
       "⎢4  5  6⎥\n",
       "⎢       ⎥\n",
       "⎣7  8  9⎦"
      ]
     },
     "execution_count": 2,
     "metadata": {},
     "output_type": "execute_result"
    }
   ],
   "source": [
    "A[0, :, :]"
   ]
  },
  {
   "cell_type": "code",
   "execution_count": 3,
   "metadata": {},
   "outputs": [
    {
     "data": {
      "text/plain": [
       "sympy.matrices.dense.MutableDenseMatrix"
      ]
     },
     "execution_count": 3,
     "metadata": {},
     "output_type": "execute_result"
    }
   ],
   "source": [
    "type(sy.Matrix(A[0, :, :]))"
   ]
  },
  {
   "cell_type": "code",
   "execution_count": 4,
   "metadata": {},
   "outputs": [
    {
     "data": {
      "text/latex": [
       "$\\displaystyle \\left[\\begin{matrix}14\\\\32\\\\50\\end{matrix}\\right]$"
      ],
      "text/plain": [
       "⎡14⎤\n",
       "⎢  ⎥\n",
       "⎢32⎥\n",
       "⎢  ⎥\n",
       "⎣50⎦"
      ]
     },
     "execution_count": 4,
     "metadata": {},
     "output_type": "execute_result"
    }
   ],
   "source": [
    "B = sy.Matrix([[1, 2, 3]]).T\n",
    "\n",
    "sy.Matrix(A[0, :, :]) * B"
   ]
  },
  {
   "cell_type": "code",
   "execution_count": 5,
   "metadata": {},
   "outputs": [
    {
     "data": {
      "text/latex": [
       "$\\displaystyle \\left[\\begin{matrix}83 & 14 & 18\\\\29 & 28 & 89\\\\77 & 90 & 92\\end{matrix}\\right]$"
      ],
      "text/plain": [
       "⎡83  14  18⎤\n",
       "⎢          ⎥\n",
       "⎢29  28  89⎥\n",
       "⎢          ⎥\n",
       "⎣77  90  92⎦"
      ]
     },
     "execution_count": 5,
     "metadata": {},
     "output_type": "execute_result"
    }
   ],
   "source": [
    "b = sy.randMatrix(3,3)\n",
    "c = sy.randMatrix(3,3)\n",
    "b"
   ]
  },
  {
   "cell_type": "code",
   "execution_count": 6,
   "metadata": {},
   "outputs": [
    {
     "data": {
      "text/latex": [
       "$\\displaystyle \\left[\\begin{matrix}30 & 3 & 72\\\\88 & 31 & 13\\\\53 & 73 & 1\\end{matrix}\\right]$"
      ],
      "text/plain": [
       "⎡30  3   72⎤\n",
       "⎢          ⎥\n",
       "⎢88  31  13⎥\n",
       "⎢          ⎥\n",
       "⎣53  73  1 ⎦"
      ]
     },
     "execution_count": 6,
     "metadata": {},
     "output_type": "execute_result"
    }
   ],
   "source": [
    "c"
   ]
  },
  {
   "cell_type": "code",
   "execution_count": 7,
   "metadata": {},
   "outputs": [
    {
     "data": {
      "text/latex": [
       "$\\displaystyle \\left[\\begin{matrix}\\left[\\begin{matrix}83 & 14 & 18\\\\29 & 28 & 89\\\\77 & 90 & 92\\end{matrix}\\right] & \\left[\\begin{matrix}30 & 3 & 72\\\\88 & 31 & 13\\\\53 & 73 & 1\\end{matrix}\\right]\\end{matrix}\\right]$"
      ],
      "text/plain": [
       "⎡⎡83  14  18⎤  ⎡30  3   72⎤⎤\n",
       "⎢⎢          ⎥  ⎢          ⎥⎥\n",
       "⎢⎢29  28  89⎥  ⎢88  31  13⎥⎥\n",
       "⎢⎢          ⎥  ⎢          ⎥⎥\n",
       "⎣⎣77  90  92⎦  ⎣53  73  1 ⎦⎦"
      ]
     },
     "execution_count": 7,
     "metadata": {},
     "output_type": "execute_result"
    }
   ],
   "source": [
    "d = sy.tensor.Array([b,c], (2, 3, 3))\n",
    "d"
   ]
  },
  {
   "cell_type": "code",
   "execution_count": 8,
   "metadata": {},
   "outputs": [
    {
     "data": {
      "text/latex": [
       "$\\displaystyle \\left[\\begin{matrix}\\left[\\begin{matrix}83 & 14 & 18\\\\30 & 3 & 72\\end{matrix}\\right] & \\left[\\begin{matrix}29 & 28 & 89\\\\88 & 31 & 13\\end{matrix}\\right] & \\left[\\begin{matrix}77 & 90 & 92\\\\53 & 73 & 1\\end{matrix}\\right]\\end{matrix}\\right]$"
      ],
      "text/plain": [
       "⎡⎡83  14  18⎤  ⎡29  28  89⎤  ⎡77  90  92⎤⎤\n",
       "⎢⎢          ⎥  ⎢          ⎥  ⎢          ⎥⎥\n",
       "⎣⎣30  3   72⎦  ⎣88  31  13⎦  ⎣53  73  1 ⎦⎦"
      ]
     },
     "execution_count": 8,
     "metadata": {},
     "output_type": "execute_result"
    }
   ],
   "source": [
    "d = sy.permutedims(d, (1,0,2))\n",
    "d"
   ]
  },
  {
   "cell_type": "code",
   "execution_count": 9,
   "metadata": {},
   "outputs": [
    {
     "data": {
      "text/latex": [
       "$\\displaystyle \\left[\\begin{matrix}\\left[\\begin{matrix}83\\\\14\\\\18\\end{matrix}\\right] & \\left[\\begin{matrix}29\\\\28\\\\89\\end{matrix}\\right] & \\left[\\begin{matrix}77\\\\90\\\\92\\end{matrix}\\right]\\end{matrix}\\right]$"
      ],
      "text/plain": [
       "⎡⎡83⎤  ⎡29⎤  ⎡77⎤⎤\n",
       "⎢⎢  ⎥  ⎢  ⎥  ⎢  ⎥⎥\n",
       "⎢⎢14⎥  ⎢28⎥  ⎢90⎥⎥\n",
       "⎢⎢  ⎥  ⎢  ⎥  ⎢  ⎥⎥\n",
       "⎣⎣18⎦  ⎣89⎦  ⎣92⎦⎦"
      ]
     },
     "execution_count": 9,
     "metadata": {},
     "output_type": "execute_result"
    }
   ],
   "source": [
    "B = sy.tensor.Array(b, (1, 3, 3))\n",
    "B = B.reshape(3, 3, 1)\n",
    "B"
   ]
  },
  {
   "cell_type": "code",
   "execution_count": 10,
   "metadata": {},
   "outputs": [
    {
     "data": {
      "text/latex": [
       "$\\displaystyle \\left[\\begin{matrix}\\left[\\begin{matrix}30\\\\3\\\\72\\end{matrix}\\right] & \\left[\\begin{matrix}88\\\\31\\\\13\\end{matrix}\\right] & \\left[\\begin{matrix}53\\\\73\\\\1\\end{matrix}\\right]\\end{matrix}\\right]$"
      ],
      "text/plain": [
       "⎡⎡30⎤  ⎡88⎤  ⎡53⎤⎤\n",
       "⎢⎢  ⎥  ⎢  ⎥  ⎢  ⎥⎥\n",
       "⎢⎢3 ⎥  ⎢31⎥  ⎢73⎥⎥\n",
       "⎢⎢  ⎥  ⎢  ⎥  ⎢  ⎥⎥\n",
       "⎣⎣72⎦  ⎣13⎦  ⎣1 ⎦⎦"
      ]
     },
     "execution_count": 10,
     "metadata": {},
     "output_type": "execute_result"
    }
   ],
   "source": [
    "C = sy.tensor.Array(c, (1, 3, 3))\n",
    "C = C.reshape(3, 3, 1)\n",
    "C"
   ]
  },
  {
   "cell_type": "code",
   "execution_count": 11,
   "metadata": {},
   "outputs": [
    {
     "data": {
      "text/latex": [
       "$\\displaystyle \\left[\\begin{matrix}\\left[\\begin{matrix}83\\\\14\\\\18\\end{matrix}\\right] & \\left[\\begin{matrix}29\\\\28\\\\89\\end{matrix}\\right] & \\left[\\begin{matrix}77\\\\90\\\\92\\end{matrix}\\right]\\\\\\left[\\begin{matrix}30\\\\3\\\\72\\end{matrix}\\right] & \\left[\\begin{matrix}88\\\\31\\\\13\\end{matrix}\\right] & \\left[\\begin{matrix}53\\\\73\\\\1\\end{matrix}\\right]\\end{matrix}\\right]$"
      ],
      "text/plain": [
       "⎡⎡83⎤  ⎡29⎤  ⎡77⎤⎤\n",
       "⎢⎢  ⎥  ⎢  ⎥  ⎢  ⎥⎥\n",
       "⎢⎢14⎥  ⎢28⎥  ⎢90⎥⎥\n",
       "⎢⎢  ⎥  ⎢  ⎥  ⎢  ⎥⎥\n",
       "⎢⎣18⎦  ⎣89⎦  ⎣92⎦⎥\n",
       "⎢                ⎥\n",
       "⎢⎡30⎤  ⎡88⎤  ⎡53⎤⎥\n",
       "⎢⎢  ⎥  ⎢  ⎥  ⎢  ⎥⎥\n",
       "⎢⎢3 ⎥  ⎢31⎥  ⎢73⎥⎥\n",
       "⎢⎢  ⎥  ⎢  ⎥  ⎢  ⎥⎥\n",
       "⎣⎣72⎦  ⎣13⎦  ⎣1 ⎦⎦"
      ]
     },
     "execution_count": 11,
     "metadata": {},
     "output_type": "execute_result"
    }
   ],
   "source": [
    "D = sy.tensor.Array([B, C])\n",
    "D"
   ]
  },
  {
   "cell_type": "code",
   "execution_count": 12,
   "metadata": {},
   "outputs": [
    {
     "data": {
      "image/png": "[encoded data removed]",
      "text/latex": [
       "$\\displaystyle \\left( 2, \\  3, \\  3, \\  1\\right)$"
      ],
      "text/plain": [
       "(2, 3, 3, 1)"
      ]
     },
     "execution_count": 12,
     "metadata": {},
     "output_type": "execute_result"
    }
   ],
   "source": [
    "D.shape"
   ]
  },
  {
   "cell_type": "code",
   "execution_count": 13,
   "metadata": {},
   "outputs": [
    {
     "ename": "ValueError",
     "evalue": "cannot contract or diagonalize between axes of different dimension",
     "output_type": "error",
     "traceback": [
      "\u001b[0;31m---------------------------------------------------------------------------\u001b[0m",
      "\u001b[0;31mValueError\u001b[0m                                Traceback (most recent call last)",
      "\u001b[0;32m<ipython-input-13-5f3191963364>\u001b[0m in \u001b[0;36m<module>\u001b[0;34m\u001b[0m\n\u001b[0;32m----> 1\u001b[0;31m \u001b[0mD\u001b[0m \u001b[0;34m=\u001b[0m \u001b[0msy\u001b[0m\u001b[0;34m.\u001b[0m\u001b[0mtensorcontraction\u001b[0m\u001b[0;34m(\u001b[0m\u001b[0mD\u001b[0m\u001b[0;34m,\u001b[0m \u001b[0;34m(\u001b[0m\u001b[0;36m2\u001b[0m\u001b[0;34m,\u001b[0m \u001b[0;36m3\u001b[0m\u001b[0;34m,\u001b[0m \u001b[0;36m3\u001b[0m\u001b[0;34m)\u001b[0m\u001b[0;34m)\u001b[0m\u001b[0;34m\u001b[0m\u001b[0;34m\u001b[0m\u001b[0m\n\u001b[0m",
      "\u001b[0;32m~/anaconda3/lib/python3.8/site-packages/sympy/tensor/array/arrayop.py\u001b[0m in \u001b[0;36mtensorcontraction\u001b[0;34m(array, *contraction_axes)\u001b[0m\n\u001b[1;32m    165\u001b[0m         \u001b[0;32mreturn\u001b[0m \u001b[0mArrayContraction\u001b[0m\u001b[0;34m(\u001b[0m\u001b[0marray\u001b[0m\u001b[0;34m,\u001b[0m \u001b[0;34m*\u001b[0m\u001b[0mcontraction_axes\u001b[0m\u001b[0;34m)\u001b[0m\u001b[0;34m\u001b[0m\u001b[0;34m\u001b[0m\u001b[0m\n\u001b[1;32m    166\u001b[0m \u001b[0;34m\u001b[0m\u001b[0m\n\u001b[0;32m--> 167\u001b[0;31m     \u001b[0marray\u001b[0m\u001b[0;34m,\u001b[0m \u001b[0mremaining_indices\u001b[0m\u001b[0;34m,\u001b[0m \u001b[0mremaining_shape\u001b[0m\u001b[0;34m,\u001b[0m \u001b[0msummed_deltas\u001b[0m \u001b[0;34m=\u001b[0m \u001b[0m_util_contraction_diagonal\u001b[0m\u001b[0;34m(\u001b[0m\u001b[0marray\u001b[0m\u001b[0;34m,\u001b[0m \u001b[0;34m*\u001b[0m\u001b[0mcontraction_axes\u001b[0m\u001b[0;34m)\u001b[0m\u001b[0;34m\u001b[0m\u001b[0;34m\u001b[0m\u001b[0m\n\u001b[0m\u001b[1;32m    168\u001b[0m \u001b[0;34m\u001b[0m\u001b[0m\n\u001b[1;32m    169\u001b[0m     \u001b[0;31m# Compute the contracted array:\u001b[0m\u001b[0;34m\u001b[0m\u001b[0;34m\u001b[0m\u001b[0;34m\u001b[0m\u001b[0m\n",
      "\u001b[0;32m~/anaconda3/lib/python3.8/site-packages/sympy/tensor/array/arrayop.py\u001b[0m in \u001b[0;36m_util_contraction_diagonal\u001b[0;34m(array, *contraction_or_diagonal_axes)\u001b[0m\n\u001b[1;32m     91\u001b[0m                 \u001b[0;32mraise\u001b[0m \u001b[0mValueError\u001b[0m\u001b[0;34m(\u001b[0m\u001b[0;34m\"dimension specified more than once\"\u001b[0m\u001b[0;34m)\u001b[0m\u001b[0;34m\u001b[0m\u001b[0;34m\u001b[0m\u001b[0m\n\u001b[1;32m     92\u001b[0m             \u001b[0;32mif\u001b[0m \u001b[0mdim\u001b[0m \u001b[0;34m!=\u001b[0m \u001b[0marray\u001b[0m\u001b[0;34m.\u001b[0m\u001b[0mshape\u001b[0m\u001b[0;34m[\u001b[0m\u001b[0md\u001b[0m\u001b[0;34m]\u001b[0m\u001b[0;34m:\u001b[0m\u001b[0;34m\u001b[0m\u001b[0;34m\u001b[0m\u001b[0m\n\u001b[0;32m---> 93\u001b[0;31m                 \u001b[0;32mraise\u001b[0m \u001b[0mValueError\u001b[0m\u001b[0;34m(\u001b[0m\u001b[0;34m\"cannot contract or diagonalize between axes of different dimension\"\u001b[0m\u001b[0;34m)\u001b[0m\u001b[0;34m\u001b[0m\u001b[0;34m\u001b[0m\u001b[0m\n\u001b[0m\u001b[1;32m     94\u001b[0m             \u001b[0mtaken_dims\u001b[0m\u001b[0;34m.\u001b[0m\u001b[0madd\u001b[0m\u001b[0;34m(\u001b[0m\u001b[0md\u001b[0m\u001b[0;34m)\u001b[0m\u001b[0;34m\u001b[0m\u001b[0;34m\u001b[0m\u001b[0m\n\u001b[1;32m     95\u001b[0m \u001b[0;34m\u001b[0m\u001b[0m\n",
      "\u001b[0;31mValueError\u001b[0m: cannot contract or diagonalize between axes of different dimension"
     ]
    }
   ],
   "source": [
    "D = sy.tensorcontraction(D, (2, 3, 3))"
   ]
  }
 ],
 "metadata": {
  "interpreter": {
   "hash": "f4dfc3534a11df64ca8ab5b1d0d5f00bece38226cd6557b9a8a26359d97dd2dd"
  },
  "kernelspec": {
   "display_name": "Python 3.8.8 64-bit ('base': conda)",
   "language": "python",
   "name": "python3"
  },
  "language_info": {
   "codemirror_mode": {
    "name": "ipython",
    "version": 3
   },
   "file_extension": ".py",
   "mimetype": "text/x-python",
   "name": "python",
   "nbconvert_exporter": "python",
   "pygments_lexer": "ipython3",
   "version": "3.8.8"
  },
  "orig_nbformat": 4
 },
 "nbformat": 4,
 "nbformat_minor": 2
}
