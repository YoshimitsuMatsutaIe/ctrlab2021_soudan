{
 "cells": [
  {
   "cell_type": "code",
   "execution_count": 27,
   "metadata": {},
   "outputs": [
    {
     "ename": "TypeError",
     "evalue": "__init__() missing 2 required positional arguments: 'xi_large' and 'N'",
     "output_type": "error",
     "traceback": [
      "\u001b[1;31m---------------------------------------------------------------------------\u001b[0m",
      "\u001b[1;31mTypeError\u001b[0m                                 Traceback (most recent call last)",
      "\u001b[1;32m<ipython-input-27-afe97614a63b>\u001b[0m in \u001b[0;36m<module>\u001b[1;34m\u001b[0m\n\u001b[0;32m     10\u001b[0m \u001b[1;31m# xi_large = sy.MatrixSymbol('xi_large', N, 1)\u001b[0m\u001b[1;33m\u001b[0m\u001b[1;33m\u001b[0m\u001b[1;33m\u001b[0m\u001b[0m\n\u001b[0;32m     11\u001b[0m \u001b[1;33m\u001b[0m\u001b[0m\n\u001b[1;32m---> 12\u001b[1;33m \u001b[0mhoge\u001b[0m \u001b[1;33m=\u001b[0m \u001b[0mkinematics\u001b[0m\u001b[1;33m.\u001b[0m\u001b[0mGlobal\u001b[0m\u001b[1;33m(\u001b[0m\u001b[0mN\u001b[0m\u001b[1;33m)\u001b[0m\u001b[1;33m\u001b[0m\u001b[1;33m\u001b[0m\u001b[0m\n\u001b[0m\u001b[0;32m     13\u001b[0m \u001b[1;33m\u001b[0m\u001b[0m\n\u001b[0;32m     14\u001b[0m \u001b[1;33m\u001b[0m\u001b[0m\n",
      "\u001b[1;31mTypeError\u001b[0m: __init__() missing 2 required positional arguments: 'xi_large' and 'N'"
     ]
    }
   ],
   "source": [
    "import sympy as sy\n",
    "from IPython.display import display\n",
    "sy.init_printing()\n",
    "\n",
    "import kinematics\n",
    "\n",
    "\n",
    "N = 3\n",
    "# q_large = sy.MatrixSymbol('q_large', 3*N, 1)\n",
    "# xi_large = sy.MatrixSymbol('xi_large', N, 1)\n",
    "\n",
    "hoge = kinematics.Global(N)\n",
    "\n",
    "\n",
    "# d = sy.diff(hoge.Phi_s[1], q_large[0,0])\n",
    "\n",
    "# print(hoge.Phi_s[1], \"\\n\")\n",
    "# print(d,\"\\n\")\n",
    "# print(\"違い\", d - hoge.Phi_s[1])\n",
    "\n",
    "p = hoge.Phi_s[-1]\n",
    "# print(p.subs(xi_large[0,0], 1))\n",
    "print(p)"
   ]
  },
  {
   "cell_type": "code",
   "execution_count": null,
   "metadata": {},
   "outputs": [],
   "source": []
  }
 ],
 "metadata": {
  "interpreter": {
   "hash": "f4dfc3534a11df64ca8ab5b1d0d5f00bece38226cd6557b9a8a26359d97dd2dd"
  },
  "kernelspec": {
   "display_name": "Python 3.8.8 64-bit ('base': conda)",
   "language": "python",
   "name": "python3"
  },
  "language_info": {
   "codemirror_mode": {
    "name": "ipython",
    "version": 3
   },
   "file_extension": ".py",
   "mimetype": "text/x-python",
   "name": "python",
   "nbconvert_exporter": "python",
   "pygments_lexer": "ipython3",
   "version": "3.8.8"
  },
  "orig_nbformat": 4
 },
 "nbformat": 4,
 "nbformat_minor": 2
}
