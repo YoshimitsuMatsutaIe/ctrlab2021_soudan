{
 "cells": [
  {
   "cell_type": "code",
   "execution_count": 4,
   "metadata": {},
   "outputs": [
    {
     "data": {
      "text/latex": [
       "$\\displaystyle \\left[\\begin{matrix}- 160351958.315909 \\left(2 q_{large}_{0, 0} - q_{large}_{1, 0} - q_{large}_{2, 0}\\right) \\left(q_{large}_{0, 0} + q_{large}_{1, 0} + q_{large}_{2, 0} + 0.45\\right) \\left(q_{large}_{0, 0}^{2} - q_{large}_{0, 0} q_{large}_{1, 0} - q_{large}_{0, 0} q_{large}_{2, 0} + q_{large}_{1, 0}^{2} - q_{large}_{1, 0} q_{large}_{2, 0} + q_{large}_{2, 0}^{2}\\right)^{4} \\xi_{large}_{0, 0}^{10} + 5073636.18108931 \\left(2 q_{large}_{0, 0} - q_{large}_{1, 0} - q_{large}_{2, 0}\\right) \\left(q_{large}_{0, 0} + q_{large}_{1, 0} + q_{large}_{2, 0} + 0.45\\right) \\left(q_{large}_{0, 0}^{2} - q_{large}_{0, 0} q_{large}_{1, 0} - q_{large}_{0, 0} q_{large}_{2, 0} + q_{large}_{1, 0}^{2} - q_{large}_{1, 0} q_{large}_{2, 0} + q_{large}_{2, 0}^{2}\\right)^{3} \\xi_{large}_{0, 0}^{8} - 99887.2123151958 \\left(2 q_{large}_{0, 0} - q_{large}_{1, 0} - q_{large}_{2, 0}\\right) \\left(q_{large}_{0, 0} + q_{large}_{1, 0} + q_{large}_{2, 0} + 0.45\\right) \\left(q_{large}_{0, 0}^{2} - q_{large}_{0, 0} q_{large}_{1, 0} - q_{large}_{0, 0} q_{large}_{2, 0} + q_{large}_{1, 0}^{2} - q_{large}_{1, 0} q_{large}_{2, 0} + q_{large}_{2, 0}^{2}\\right)^{2} \\xi_{large}_{0, 0}^{6} + 1053.49794238683 \\left(2 q_{large}_{0, 0} - q_{large}_{1, 0} - q_{large}_{2, 0}\\right) \\left(q_{large}_{0, 0} + q_{large}_{1, 0} + q_{large}_{2, 0} + 0.45\\right) \\left(q_{large}_{0, 0}^{2} - q_{large}_{0, 0} q_{large}_{1, 0} - q_{large}_{0, 0} q_{large}_{2, 0} + q_{large}_{1, 0}^{2} - q_{large}_{1, 0} q_{large}_{2, 0} + q_{large}_{2, 0}^{2}\\right) \\xi_{large}_{0, 0}^{4} - 4.44444444444444 \\left(2 q_{large}_{0, 0} - q_{large}_{1, 0} - q_{large}_{2, 0}\\right) \\left(q_{large}_{0, 0} + q_{large}_{1, 0} + q_{large}_{2, 0} + 0.45\\right) \\xi_{large}_{0, 0}^{2}\\\\- 160351958.315909 \\sqrt{3} \\left(q_{large}_{1, 0} - q_{large}_{2, 0}\\right) \\left(q_{large}_{0, 0} + q_{large}_{1, 0} + q_{large}_{2, 0} + 0.45\\right) \\left(q_{large}_{0, 0}^{2} - q_{large}_{0, 0} q_{large}_{1, 0} - q_{large}_{0, 0} q_{large}_{2, 0} + q_{large}_{1, 0}^{2} - q_{large}_{1, 0} q_{large}_{2, 0} + q_{large}_{2, 0}^{2}\\right)^{4} \\xi_{large}_{0, 0}^{10} + 5073636.18108931 \\sqrt{3} \\left(q_{large}_{1, 0} - q_{large}_{2, 0}\\right) \\left(q_{large}_{0, 0} + q_{large}_{1, 0} + q_{large}_{2, 0} + 0.45\\right) \\left(q_{large}_{0, 0}^{2} - q_{large}_{0, 0} q_{large}_{1, 0} - q_{large}_{0, 0} q_{large}_{2, 0} + q_{large}_{1, 0}^{2} - q_{large}_{1, 0} q_{large}_{2, 0} + q_{large}_{2, 0}^{2}\\right)^{3} \\xi_{large}_{0, 0}^{8} - 99887.2123151958 \\sqrt{3} \\left(q_{large}_{1, 0} - q_{large}_{2, 0}\\right) \\left(q_{large}_{0, 0} + q_{large}_{1, 0} + q_{large}_{2, 0} + 0.45\\right) \\left(q_{large}_{0, 0}^{2} - q_{large}_{0, 0} q_{large}_{1, 0} - q_{large}_{0, 0} q_{large}_{2, 0} + q_{large}_{1, 0}^{2} - q_{large}_{1, 0} q_{large}_{2, 0} + q_{large}_{2, 0}^{2}\\right)^{2} \\xi_{large}_{0, 0}^{6} - 4.44444444444444 \\sqrt{3} \\left(q_{large}_{1, 0} - q_{large}_{2, 0}\\right) \\left(q_{large}_{0, 0} + q_{large}_{1, 0} + q_{large}_{2, 0} + 0.45\\right) \\xi_{large}_{0, 0}^{2} + 1053.49794238683 \\sqrt{3} \\left(2 q_{large}_{0, 0} - q_{large}_{1, 0} - q_{large}_{2, 0}\\right) \\left(q_{large}_{0, 0} + q_{large}_{1, 0} + q_{large}_{2, 0} + 0.45\\right) \\left(q_{large}_{0, 0}^{2} - q_{large}_{0, 0} q_{large}_{1, 0} - q_{large}_{0, 0} q_{large}_{2, 0} + q_{large}_{1, 0}^{2} - q_{large}_{1, 0} q_{large}_{2, 0} + q_{large}_{2, 0}^{2}\\right) \\xi_{large}_{0, 0}^{4}\\\\60131984.3684659 \\left(q_{large}_{0, 0} + q_{large}_{1, 0} + q_{large}_{2, 0} + 0.45\\right) \\left(q_{large}_{0, 0}^{2} - q_{large}_{0, 0} q_{large}_{1, 0} - q_{large}_{0, 0} q_{large}_{2, 0} + q_{large}_{1, 0}^{2} - q_{large}_{1, 0} q_{large}_{2, 0} + q_{large}_{2, 0}^{2}\\right)^{4} \\xi_{large}_{0, 0}^{9} - 1522090.85432679 \\left(q_{large}_{0, 0} + q_{large}_{1, 0} + q_{large}_{2, 0} + 0.45\\right) \\left(q_{large}_{0, 0}^{2} - q_{large}_{0, 0} q_{large}_{1, 0} - q_{large}_{0, 0} q_{large}_{2, 0} + q_{large}_{1, 0}^{2} - q_{large}_{1, 0} q_{large}_{2, 0} + q_{large}_{2, 0}^{2}\\right)^{3} \\xi_{large}_{0, 0}^{7} + 22474.6227709191 \\left(q_{large}_{0, 0} + q_{large}_{1, 0} + q_{large}_{2, 0} + 0.45\\right) \\left(q_{large}_{0, 0}^{2} - q_{large}_{0, 0} q_{large}_{1, 0} - q_{large}_{0, 0} q_{large}_{2, 0} + q_{large}_{1, 0}^{2} - q_{large}_{1, 0} q_{large}_{2, 0} + q_{large}_{2, 0}^{2}\\right)^{2} \\xi_{large}_{0, 0}^{5} - 79.0123456790123 \\left(q_{large}_{0, 0} + q_{large}_{1, 0} + q_{large}_{2, 0} + 0.45\\right) \\left(2 q_{large}_{0, 0}^{2} - 2 q_{large}_{0, 0} q_{large}_{1, 0} - 2 q_{large}_{0, 0} q_{large}_{2, 0} + 2 q_{large}_{1, 0}^{2} - 2 q_{large}_{1, 0} q_{large}_{2, 0} + 2 q_{large}_{2, 0}^{2}\\right) \\xi_{large}_{0, 0}^{3} + \\frac{\\left(q_{large}_{0, 0} + q_{large}_{1, 0} + q_{large}_{2, 0} + 0.45\\right) \\xi_{large}_{0, 0}}{3}\\end{matrix}\\right]$"
      ],
      "text/plain": [
       "Matrix([\n",
       "[-160351958.315909*(2*q_large[0, 0] - q_large[1, 0] - q_large[2, 0])*(q_large[0, 0] + q_large[1, 0] + q_large[2, 0] + 0.45)*(q_large[0, 0]**2 - q_large[0, 0]*q_large[1, 0] - q_large[0, 0]*q_large[2, 0] + q_large[1, 0]**2 - q_large[1, 0]*q_large[2, 0] + q_large[2, 0]**2)**4*xi_large[0, 0]**10 + 5073636.18108931*(2*q_large[0, 0] - q_large[1, 0] - q_large[2, 0])*(q_large[0, 0] + q_large[1, 0] + q_large[2, 0] + 0.45)*(q_large[0, 0]**2 - q_large[0, 0]*q_large[1, 0] - q_large[0, 0]*q_large[2, 0] + q_large[1, 0]**2 - q_large[1, 0]*q_large[2, 0] + q_large[2, 0]**2)**3*xi_large[0, 0]**8 - 99887.2123151958*(2*q_large[0, 0] - q_large[1, 0] - q_large[2, 0])*(q_large[0, 0] + q_large[1, 0] + q_large[2, 0] + 0.45)*(q_large[0, 0]**2 - q_large[0, 0]*q_large[1, 0] - q_large[0, 0]*q_large[2, 0] + q_large[1, 0]**2 - q_large[1, 0]*q_large[2, 0] + q_large[2, 0]**2)**2*xi_large[0, 0]**6 + 1053.49794238683*(2*q_large[0, 0] - q_large[1, 0] - q_large[2, 0])*(q_large[0, 0] + q_large[1, 0] + q_large[2, 0] + 0.45)*(q_large[0, 0]**2 - q_large[0, 0]*q_large[1, 0] - q_large[0, 0]*q_large[2, 0] + q_large[1, 0]**2 - q_large[1, 0]*q_large[2, 0] + q_large[2, 0]**2)*xi_large[0, 0]**4 - 4.44444444444444*(2*q_large[0, 0] - q_large[1, 0] - q_large[2, 0])*(q_large[0, 0] + q_large[1, 0] + q_large[2, 0] + 0.45)*xi_large[0, 0]**2],\n",
       "[                                -160351958.315909*sqrt(3)*(q_large[1, 0] - q_large[2, 0])*(q_large[0, 0] + q_large[1, 0] + q_large[2, 0] + 0.45)*(q_large[0, 0]**2 - q_large[0, 0]*q_large[1, 0] - q_large[0, 0]*q_large[2, 0] + q_large[1, 0]**2 - q_large[1, 0]*q_large[2, 0] + q_large[2, 0]**2)**4*xi_large[0, 0]**10 + 5073636.18108931*sqrt(3)*(q_large[1, 0] - q_large[2, 0])*(q_large[0, 0] + q_large[1, 0] + q_large[2, 0] + 0.45)*(q_large[0, 0]**2 - q_large[0, 0]*q_large[1, 0] - q_large[0, 0]*q_large[2, 0] + q_large[1, 0]**2 - q_large[1, 0]*q_large[2, 0] + q_large[2, 0]**2)**3*xi_large[0, 0]**8 - 99887.2123151958*sqrt(3)*(q_large[1, 0] - q_large[2, 0])*(q_large[0, 0] + q_large[1, 0] + q_large[2, 0] + 0.45)*(q_large[0, 0]**2 - q_large[0, 0]*q_large[1, 0] - q_large[0, 0]*q_large[2, 0] + q_large[1, 0]**2 - q_large[1, 0]*q_large[2, 0] + q_large[2, 0]**2)**2*xi_large[0, 0]**6 - 4.44444444444444*sqrt(3)*(q_large[1, 0] - q_large[2, 0])*(q_large[0, 0] + q_large[1, 0] + q_large[2, 0] + 0.45)*xi_large[0, 0]**2 + 1053.49794238683*sqrt(3)*(2*q_large[0, 0] - q_large[1, 0] - q_large[2, 0])*(q_large[0, 0] + q_large[1, 0] + q_large[2, 0] + 0.45)*(q_large[0, 0]**2 - q_large[0, 0]*q_large[1, 0] - q_large[0, 0]*q_large[2, 0] + q_large[1, 0]**2 - q_large[1, 0]*q_large[2, 0] + q_large[2, 0]**2)*xi_large[0, 0]**4],\n",
       "[                                                                                                                                                                                                                                                                  60131984.3684659*(q_large[0, 0] + q_large[1, 0] + q_large[2, 0] + 0.45)*(q_large[0, 0]**2 - q_large[0, 0]*q_large[1, 0] - q_large[0, 0]*q_large[2, 0] + q_large[1, 0]**2 - q_large[1, 0]*q_large[2, 0] + q_large[2, 0]**2)**4*xi_large[0, 0]**9 - 1522090.85432679*(q_large[0, 0] + q_large[1, 0] + q_large[2, 0] + 0.45)*(q_large[0, 0]**2 - q_large[0, 0]*q_large[1, 0] - q_large[0, 0]*q_large[2, 0] + q_large[1, 0]**2 - q_large[1, 0]*q_large[2, 0] + q_large[2, 0]**2)**3*xi_large[0, 0]**7 + 22474.6227709191*(q_large[0, 0] + q_large[1, 0] + q_large[2, 0] + 0.45)*(q_large[0, 0]**2 - q_large[0, 0]*q_large[1, 0] - q_large[0, 0]*q_large[2, 0] + q_large[1, 0]**2 - q_large[1, 0]*q_large[2, 0] + q_large[2, 0]**2)**2*xi_large[0, 0]**5 - 79.0123456790123*(q_large[0, 0] + q_large[1, 0] + q_large[2, 0] + 0.45)*(2*q_large[0, 0]**2 - 2*q_large[0, 0]*q_large[1, 0] - 2*q_large[0, 0]*q_large[2, 0] + 2*q_large[1, 0]**2 - 2*q_large[1, 0]*q_large[2, 0] + 2*q_large[2, 0]**2)*xi_large[0, 0]**3 + (q_large[0, 0] + q_large[1, 0] + q_large[2, 0] + 0.45)*xi_large[0, 0]/3]])"
      ]
     },
     "metadata": {},
     "output_type": "display_data"
    }
   ],
   "source": [
    "import sympy as sy\n",
    "from IPython.display import display\n",
    "\n",
    "import kinematics\n",
    "\n",
    "\n",
    "N = 3\n",
    "q_large = sy.MatrixSymbol('q_large', 3*N, 1)\n",
    "xi_large = sy.MatrixSymbol('xi_large', N, 1)\n",
    "\n",
    "hoge = kinematics.Global(q_large, xi_large, N)\n",
    "\n",
    "display(hoge.Phi_s[0])"
   ]
  }
 ],
 "metadata": {
  "interpreter": {
   "hash": "f4dfc3534a11df64ca8ab5b1d0d5f00bece38226cd6557b9a8a26359d97dd2dd"
  },
  "kernelspec": {
   "display_name": "Python 3.8.8 64-bit ('base': conda)",
   "language": "python",
   "name": "python3"
  },
  "language_info": {
   "codemirror_mode": {
    "name": "ipython",
    "version": 3
   },
   "file_extension": ".py",
   "mimetype": "text/x-python",
   "name": "python",
   "nbconvert_exporter": "python",
   "pygments_lexer": "ipython3",
   "version": "3.8.8"
  },
  "orig_nbformat": 4
 },
 "nbformat": 4,
 "nbformat_minor": 2
}
