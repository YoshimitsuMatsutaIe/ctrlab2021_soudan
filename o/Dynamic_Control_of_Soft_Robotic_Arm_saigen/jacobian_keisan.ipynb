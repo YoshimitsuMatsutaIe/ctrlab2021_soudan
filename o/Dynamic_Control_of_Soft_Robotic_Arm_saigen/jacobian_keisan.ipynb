{
 "cells": [
  {
   "cell_type": "markdown",
   "metadata": {},
   "source": [
    "# ヤコビ行列の計算"
   ]
  },
  {
   "cell_type": "code",
   "execution_count": 1,
   "metadata": {},
   "outputs": [],
   "source": [
    "import sympy as sy\n",
    "from sympy import sqrt, sin, cos\n",
    "\n",
    "l1, l2, l3 = sy.symbols(\"l1, l2, l3\")\n",
    "lam, phi, theta = sy.symbols(\"lam, phi, theta\")\n",
    "xi = sy.Symbol(\"xi\")\n",
    "\n",
    "L0, r = sy.symbols(\"L0, r\")\n",
    "\n",
    "\n",
    "\n",
    "q_vec = sy.Matrix([[l1, l2, l3]]).T\n",
    "c_vec = sy.Matrix([[lam, phi, theta]]).T"
   ]
  },
  {
   "cell_type": "code",
   "execution_count": 2,
   "metadata": {},
   "outputs": [],
   "source": [
    "def mapping_from_actuator_to_configuration(q, xi):\n",
    "    \"\"\"アクチュエータ空間から配置空間への写像\"\"\"\n",
    "    \n",
    "    l1 = q[0,0]\n",
    "    l2 = q[1,0]\n",
    "    l3 = q[2,0]\n",
    "    \n",
    "    A1 = l1**2 + l2**2 + l3**2 - \\\n",
    "        l1*l2 - l1*l3 - l2*l3\n",
    "    A2 = 2*l1 - l2 - l3\n",
    "    A3 = l2 - l3\n",
    "    A4 = 3*L0 + l1 + l2 + l3\n",
    "    \n",
    "    lam = A4 / 2*sqrt(A1)\n",
    "    phi = 2*sqrt(A1) / 3*r\n",
    "    theta = sy.atan(sqrt(3) * (-A3) / (-A2))\n",
    "    \n",
    "    return sy.Matrix([[lam, phi, theta]]).T\n",
    "\n",
    "\n",
    "def mapping_from_configration_to_task_p(c, xi):\n",
    "    \"\"\"配置空間からタスク空間pへの写像\"\"\"\n",
    "    \n",
    "    lam = c[0, 0]\n",
    "    phi = c[1, 0]\n",
    "    theta = c[2, 0]\n",
    "    \n",
    "    return sy.Matrix([\n",
    "        [lam * cos(theta) * (1 - cos(xi * phi))],\n",
    "        [lam * sin(theta) * (1 - cos(xi * phi))],\n",
    "        [lam * sin(xi * phi)],\n",
    "    ])"
   ]
  },
  {
   "cell_type": "markdown",
   "metadata": {},
   "source": [
    "配置空間のアクチュエータ空間による偏微分"
   ]
  },
  {
   "cell_type": "code",
   "execution_count": 3,
   "metadata": {},
   "outputs": [
    {
     "data": {
      "text/latex": [
       "$\\displaystyle \\left[\\begin{matrix}\\frac{\\left(l_{1} - \\frac{l_{2}}{2} - \\frac{l_{3}}{2}\\right) \\left(\\frac{3 L_{0}}{2} + \\frac{l_{1}}{2} + \\frac{l_{2}}{2} + \\frac{l_{3}}{2}\\right)}{\\sqrt{l_{1}^{2} - l_{1} l_{2} - l_{1} l_{3} + l_{2}^{2} - l_{2} l_{3} + l_{3}^{2}}} + \\frac{\\sqrt{l_{1}^{2} - l_{1} l_{2} - l_{1} l_{3} + l_{2}^{2} - l_{2} l_{3} + l_{3}^{2}}}{2} & \\frac{\\left(- \\frac{l_{1}}{2} + l_{2} - \\frac{l_{3}}{2}\\right) \\left(\\frac{3 L_{0}}{2} + \\frac{l_{1}}{2} + \\frac{l_{2}}{2} + \\frac{l_{3}}{2}\\right)}{\\sqrt{l_{1}^{2} - l_{1} l_{2} - l_{1} l_{3} + l_{2}^{2} - l_{2} l_{3} + l_{3}^{2}}} + \\frac{\\sqrt{l_{1}^{2} - l_{1} l_{2} - l_{1} l_{3} + l_{2}^{2} - l_{2} l_{3} + l_{3}^{2}}}{2} & \\frac{\\left(- \\frac{l_{1}}{2} - \\frac{l_{2}}{2} + l_{3}\\right) \\left(\\frac{3 L_{0}}{2} + \\frac{l_{1}}{2} + \\frac{l_{2}}{2} + \\frac{l_{3}}{2}\\right)}{\\sqrt{l_{1}^{2} - l_{1} l_{2} - l_{1} l_{3} + l_{2}^{2} - l_{2} l_{3} + l_{3}^{2}}} + \\frac{\\sqrt{l_{1}^{2} - l_{1} l_{2} - l_{1} l_{3} + l_{2}^{2} - l_{2} l_{3} + l_{3}^{2}}}{2}\\\\\\frac{2 r \\left(l_{1} - \\frac{l_{2}}{2} - \\frac{l_{3}}{2}\\right)}{3 \\sqrt{l_{1}^{2} - l_{1} l_{2} - l_{1} l_{3} + l_{2}^{2} - l_{2} l_{3} + l_{3}^{2}}} & \\frac{2 r \\left(- \\frac{l_{1}}{2} + l_{2} - \\frac{l_{3}}{2}\\right)}{3 \\sqrt{l_{1}^{2} - l_{1} l_{2} - l_{1} l_{3} + l_{2}^{2} - l_{2} l_{3} + l_{3}^{2}}} & \\frac{2 r \\left(- \\frac{l_{1}}{2} - \\frac{l_{2}}{2} + l_{3}\\right)}{3 \\sqrt{l_{1}^{2} - l_{1} l_{2} - l_{1} l_{3} + l_{2}^{2} - l_{2} l_{3} + l_{3}^{2}}}\\\\\\frac{2 \\sqrt{3} \\left(- l_{2} + l_{3}\\right)}{\\left(\\frac{3 \\left(- l_{2} + l_{3}\\right)^{2}}{\\left(- 2 l_{1} + l_{2} + l_{3}\\right)^{2}} + 1\\right) \\left(- 2 l_{1} + l_{2} + l_{3}\\right)^{2}} & \\frac{- \\frac{\\sqrt{3} \\left(- l_{2} + l_{3}\\right)}{\\left(- 2 l_{1} + l_{2} + l_{3}\\right)^{2}} - \\frac{\\sqrt{3}}{- 2 l_{1} + l_{2} + l_{3}}}{\\frac{3 \\left(- l_{2} + l_{3}\\right)^{2}}{\\left(- 2 l_{1} + l_{2} + l_{3}\\right)^{2}} + 1} & \\frac{- \\frac{\\sqrt{3} \\left(- l_{2} + l_{3}\\right)}{\\left(- 2 l_{1} + l_{2} + l_{3}\\right)^{2}} + \\frac{\\sqrt{3}}{- 2 l_{1} + l_{2} + l_{3}}}{\\frac{3 \\left(- l_{2} + l_{3}\\right)^{2}}{\\left(- 2 l_{1} + l_{2} + l_{3}\\right)^{2}} + 1}\\end{matrix}\\right]$"
      ],
      "text/plain": [
       "Matrix([\n",
       "[(l1 - l2/2 - l3/2)*(3*L0/2 + l1/2 + l2/2 + l3/2)/sqrt(l1**2 - l1*l2 - l1*l3 + l2**2 - l2*l3 + l3**2) + sqrt(l1**2 - l1*l2 - l1*l3 + l2**2 - l2*l3 + l3**2)/2, (-l1/2 + l2 - l3/2)*(3*L0/2 + l1/2 + l2/2 + l3/2)/sqrt(l1**2 - l1*l2 - l1*l3 + l2**2 - l2*l3 + l3**2) + sqrt(l1**2 - l1*l2 - l1*l3 + l2**2 - l2*l3 + l3**2)/2, (-l1/2 - l2/2 + l3)*(3*L0/2 + l1/2 + l2/2 + l3/2)/sqrt(l1**2 - l1*l2 - l1*l3 + l2**2 - l2*l3 + l3**2) + sqrt(l1**2 - l1*l2 - l1*l3 + l2**2 - l2*l3 + l3**2)/2],\n",
       "[                                                                              2*r*(l1 - l2/2 - l3/2)/(3*sqrt(l1**2 - l1*l2 - l1*l3 + l2**2 - l2*l3 + l3**2)),                                                                               2*r*(-l1/2 + l2 - l3/2)/(3*sqrt(l1**2 - l1*l2 - l1*l3 + l2**2 - l2*l3 + l3**2)),                                                                               2*r*(-l1/2 - l2/2 + l3)/(3*sqrt(l1**2 - l1*l2 - l1*l3 + l2**2 - l2*l3 + l3**2))],\n",
       "[                                                                      2*sqrt(3)*(-l2 + l3)/((3*(-l2 + l3)**2/(-2*l1 + l2 + l3)**2 + 1)*(-2*l1 + l2 + l3)**2),                                             (-sqrt(3)*(-l2 + l3)/(-2*l1 + l2 + l3)**2 - sqrt(3)/(-2*l1 + l2 + l3))/(3*(-l2 + l3)**2/(-2*l1 + l2 + l3)**2 + 1),                                             (-sqrt(3)*(-l2 + l3)/(-2*l1 + l2 + l3)**2 + sqrt(3)/(-2*l1 + l2 + l3))/(3*(-l2 + l3)**2/(-2*l1 + l2 + l3)**2 + 1)]])"
      ]
     },
     "execution_count": 3,
     "metadata": {},
     "output_type": "execute_result"
    }
   ],
   "source": [
    "c = mapping_from_actuator_to_configuration(q_vec, xi)\n",
    "Jc = c.jacobian(q_vec)\n",
    "Jc"
   ]
  },
  {
   "cell_type": "code",
   "execution_count": 4,
   "metadata": {},
   "outputs": [
    {
     "name": "stdout",
     "output_type": "stream",
     "text": [
      "Matrix([[(l1 - l2/2 - l3/2)*(3*L0/2 + l1/2 + l2/2 + l3/2)/sqrt(l1**2 - l1*l2 - l1*l3 + l2**2 - l2*l3 + l3**2) + sqrt(l1**2 - l1*l2 - l1*l3 + l2**2 - l2*l3 + l3**2)/2, (-l1/2 + l2 - l3/2)*(3*L0/2 + l1/2 + l2/2 + l3/2)/sqrt(l1**2 - l1*l2 - l1*l3 + l2**2 - l2*l3 + l3**2) + sqrt(l1**2 - l1*l2 - l1*l3 + l2**2 - l2*l3 + l3**2)/2, (-l1/2 - l2/2 + l3)*(3*L0/2 + l1/2 + l2/2 + l3/2)/sqrt(l1**2 - l1*l2 - l1*l3 + l2**2 - l2*l3 + l3**2) + sqrt(l1**2 - l1*l2 - l1*l3 + l2**2 - l2*l3 + l3**2)/2], [2*r*(l1 - l2/2 - l3/2)/(3*sqrt(l1**2 - l1*l2 - l1*l3 + l2**2 - l2*l3 + l3**2)), 2*r*(-l1/2 + l2 - l3/2)/(3*sqrt(l1**2 - l1*l2 - l1*l3 + l2**2 - l2*l3 + l3**2)), 2*r*(-l1/2 - l2/2 + l3)/(3*sqrt(l1**2 - l1*l2 - l1*l3 + l2**2 - l2*l3 + l3**2))], [2*sqrt(3)*(-l2 + l3)/((3*(-l2 + l3)**2/(-2*l1 + l2 + l3)**2 + 1)*(-2*l1 + l2 + l3)**2), (-sqrt(3)*(-l2 + l3)/(-2*l1 + l2 + l3)**2 - sqrt(3)/(-2*l1 + l2 + l3))/(3*(-l2 + l3)**2/(-2*l1 + l2 + l3)**2 + 1), (-sqrt(3)*(-l2 + l3)/(-2*l1 + l2 + l3)**2 + sqrt(3)/(-2*l1 + l2 + l3))/(3*(-l2 + l3)**2/(-2*l1 + l2 + l3)**2 + 1)]])\n"
     ]
    }
   ],
   "source": [
    "print(Jc)"
   ]
  },
  {
   "cell_type": "markdown",
   "metadata": {},
   "source": [
    "タスク空間の配置空間による偏微分"
   ]
  },
  {
   "cell_type": "code",
   "execution_count": 5,
   "metadata": {},
   "outputs": [
    {
     "data": {
      "text/latex": [
       "$\\displaystyle \\left[\\begin{matrix}\\left(1 - \\cos{\\left(\\phi \\xi \\right)}\\right) \\cos{\\left(\\theta \\right)} & lam \\xi \\sin{\\left(\\phi \\xi \\right)} \\cos{\\left(\\theta \\right)} & - lam \\left(1 - \\cos{\\left(\\phi \\xi \\right)}\\right) \\sin{\\left(\\theta \\right)}\\\\\\left(1 - \\cos{\\left(\\phi \\xi \\right)}\\right) \\sin{\\left(\\theta \\right)} & lam \\xi \\sin{\\left(\\theta \\right)} \\sin{\\left(\\phi \\xi \\right)} & lam \\left(1 - \\cos{\\left(\\phi \\xi \\right)}\\right) \\cos{\\left(\\theta \\right)}\\\\\\sin{\\left(\\phi \\xi \\right)} & lam \\xi \\cos{\\left(\\phi \\xi \\right)} & 0\\end{matrix}\\right]$"
      ],
      "text/plain": [
       "Matrix([\n",
       "[(1 - cos(phi*xi))*cos(theta), lam*xi*sin(phi*xi)*cos(theta), -lam*(1 - cos(phi*xi))*sin(theta)],\n",
       "[(1 - cos(phi*xi))*sin(theta), lam*xi*sin(theta)*sin(phi*xi),  lam*(1 - cos(phi*xi))*cos(theta)],\n",
       "[                 sin(phi*xi),            lam*xi*cos(phi*xi),                                 0]])"
      ]
     },
     "execution_count": 5,
     "metadata": {},
     "output_type": "execute_result"
    }
   ],
   "source": [
    "p = mapping_from_configration_to_task_p(c_vec, xi)\n",
    "Jp = p.jacobian(c_vec)\n",
    "Jp"
   ]
  },
  {
   "cell_type": "code",
   "execution_count": 6,
   "metadata": {},
   "outputs": [
    {
     "name": "stdout",
     "output_type": "stream",
     "text": [
      "Matrix([[(1 - cos(phi*xi))*cos(theta), lam*xi*sin(phi*xi)*cos(theta), -lam*(1 - cos(phi*xi))*sin(theta)], [(1 - cos(phi*xi))*sin(theta), lam*xi*sin(theta)*sin(phi*xi), lam*(1 - cos(phi*xi))*cos(theta)], [sin(phi*xi), lam*xi*cos(phi*xi), 0]])\n"
     ]
    }
   ],
   "source": [
    "print(Jp)"
   ]
  },
  {
   "cell_type": "markdown",
   "metadata": {},
   "source": [
    "いっぺんに計算"
   ]
  },
  {
   "cell_type": "code",
   "execution_count": 9,
   "metadata": {},
   "outputs": [],
   "source": [
    "p_zenbu = mapping_from_configration_to_task_p(c, xi)\n",
    "\n",
    "J_all = p_zenbu.jacobian(q_vec)\n",
    "J_all.simplify()"
   ]
  },
  {
   "cell_type": "code",
   "execution_count": 11,
   "metadata": {},
   "outputs": [
    {
     "data": {
      "text/latex": [
       "$\\displaystyle \\left[\\begin{matrix}\\frac{\\left(3 \\left(l_{2} - l_{3}\\right)^{2} + \\left(- 2 l_{1} + l_{2} + l_{3}\\right)^{2}\\right) \\left(36 \\left(l_{2} - l_{3}\\right)^{2} \\left(\\cos{\\left(\\frac{2 r \\xi \\sqrt{l_{1}^{2} - l_{1} l_{2} - l_{1} l_{3} + l_{2}^{2} - l_{2} l_{3} + l_{3}^{2}}}{3} \\right)} - 1\\right) \\left(3 L_{0} + l_{1} + l_{2} + l_{3}\\right) \\left(l_{1}^{2} - l_{1} l_{2} - l_{1} l_{3} + l_{2}^{2} - l_{2} l_{3} + l_{3}^{2}\\right) + 2 \\left(- r \\xi \\left(- 2 l_{1} + l_{2} + l_{3}\\right) \\left(3 L_{0} + l_{1} + l_{2} + l_{3}\\right) \\sin{\\left(\\frac{2 r \\xi \\sqrt{l_{1}^{2} - l_{1} l_{2} - l_{1} l_{3} + l_{2}^{2} - l_{2} l_{3} + l_{3}^{2}}}{3} \\right)} + 6 \\sqrt{l_{1}^{2} - l_{1} l_{2} - l_{1} l_{3} + l_{2}^{2} - l_{2} l_{3} + l_{3}^{2}} \\sin^{2}{\\left(\\frac{r \\xi \\sqrt{l_{1}^{2} - l_{1} l_{2} - l_{1} l_{3} + l_{2}^{2} - l_{2} l_{3} + l_{3}^{2}}}{3} \\right)}\\right) \\left(3 \\left(l_{2} - l_{3}\\right)^{2} + \\left(- 2 l_{1} + l_{2} + l_{3}\\right)^{2}\\right) \\left(- 2 l_{1} + l_{2} + l_{3}\\right) \\sqrt{l_{1}^{2} - l_{1} l_{2} - l_{1} l_{3} + l_{2}^{2} - l_{2} l_{3} + l_{3}^{2}} + 3 \\left(3 \\left(l_{2} - l_{3}\\right)^{2} + \\left(- 2 l_{1} + l_{2} + l_{3}\\right)^{2}\\right) \\left(\\cos{\\left(\\frac{2 r \\xi \\sqrt{l_{1}^{2} - l_{1} l_{2} - l_{1} l_{3} + l_{2}^{2} - l_{2} l_{3} + l_{3}^{2}}}{3} \\right)} - 1\\right) \\left(- 2 l_{1} + l_{2} + l_{3}\\right)^{2} \\left(3 L_{0} + l_{1} + l_{2} + l_{3}\\right)\\right)}{12 \\left(\\frac{3 \\left(l_{2} - l_{3}\\right)^{2} + \\left(- 2 l_{1} + l_{2} + l_{3}\\right)^{2}}{\\left(- 2 l_{1} + l_{2} + l_{3}\\right)^{2}}\\right)^{\\frac{5}{2}} \\left(- 2 l_{1} + l_{2} + l_{3}\\right)^{5} \\sqrt{l_{1}^{2} - l_{1} l_{2} - l_{1} l_{3} + l_{2}^{2} - l_{2} l_{3} + l_{3}^{2}}} & \\frac{\\left(3 \\left(l_{2} - l_{3}\\right)^{2} + \\left(- 2 l_{1} + l_{2} + l_{3}\\right)^{2}\\right) \\left(- 18 \\left(\\left(- l_{2} + l_{3}\\right) \\left(- 2 l_{1} + l_{2} + l_{3}\\right) + \\left(l_{2} - l_{3}\\right)^{2}\\right) \\left(\\cos{\\left(\\frac{2 r \\xi \\sqrt{l_{1}^{2} - l_{1} l_{2} - l_{1} l_{3} + l_{2}^{2} - l_{2} l_{3} + l_{3}^{2}}}{3} \\right)} - 1\\right) \\left(3 L_{0} + l_{1} + l_{2} + l_{3}\\right) \\left(l_{1}^{2} - l_{1} l_{2} - l_{1} l_{3} + l_{2}^{2} - l_{2} l_{3} + l_{3}^{2}\\right) + 2 \\left(- r \\xi \\left(l_{1} - 2 l_{2} + l_{3}\\right) \\left(3 L_{0} + l_{1} + l_{2} + l_{3}\\right) \\sin{\\left(\\frac{2 r \\xi \\sqrt{l_{1}^{2} - l_{1} l_{2} - l_{1} l_{3} + l_{2}^{2} - l_{2} l_{3} + l_{3}^{2}}}{3} \\right)} + 6 \\sqrt{l_{1}^{2} - l_{1} l_{2} - l_{1} l_{3} + l_{2}^{2} - l_{2} l_{3} + l_{3}^{2}} \\sin^{2}{\\left(\\frac{r \\xi \\sqrt{l_{1}^{2} - l_{1} l_{2} - l_{1} l_{3} + l_{2}^{2} - l_{2} l_{3} + l_{3}^{2}}}{3} \\right)}\\right) \\left(3 \\left(l_{2} - l_{3}\\right)^{2} + \\left(- 2 l_{1} + l_{2} + l_{3}\\right)^{2}\\right) \\left(- 2 l_{1} + l_{2} + l_{3}\\right) \\sqrt{l_{1}^{2} - l_{1} l_{2} - l_{1} l_{3} + l_{2}^{2} - l_{2} l_{3} + l_{3}^{2}} + 3 \\left(3 \\left(l_{2} - l_{3}\\right)^{2} + \\left(- 2 l_{1} + l_{2} + l_{3}\\right)^{2}\\right) \\left(\\cos{\\left(\\frac{2 r \\xi \\sqrt{l_{1}^{2} - l_{1} l_{2} - l_{1} l_{3} + l_{2}^{2} - l_{2} l_{3} + l_{3}^{2}}}{3} \\right)} - 1\\right) \\left(- 2 l_{1} + l_{2} + l_{3}\\right) \\left(l_{1} - 2 l_{2} + l_{3}\\right) \\left(3 L_{0} + l_{1} + l_{2} + l_{3}\\right)\\right)}{12 \\left(\\frac{3 \\left(l_{2} - l_{3}\\right)^{2} + \\left(- 2 l_{1} + l_{2} + l_{3}\\right)^{2}}{\\left(- 2 l_{1} + l_{2} + l_{3}\\right)^{2}}\\right)^{\\frac{5}{2}} \\left(- 2 l_{1} + l_{2} + l_{3}\\right)^{5} \\sqrt{l_{1}^{2} - l_{1} l_{2} - l_{1} l_{3} + l_{2}^{2} - l_{2} l_{3} + l_{3}^{2}}} & \\frac{\\left(3 \\left(l_{2} - l_{3}\\right)^{2} + \\left(- 2 l_{1} + l_{2} + l_{3}\\right)^{2}\\right) \\left(- 36 \\left(- l_{1} + l_{2}\\right) \\left(l_{2} - l_{3}\\right) \\left(\\cos{\\left(\\frac{2 r \\xi \\sqrt{l_{1}^{2} - l_{1} l_{2} - l_{1} l_{3} + l_{2}^{2} - l_{2} l_{3} + l_{3}^{2}}}{3} \\right)} - 1\\right) \\left(3 L_{0} + l_{1} + l_{2} + l_{3}\\right) \\left(l_{1}^{2} - l_{1} l_{2} - l_{1} l_{3} + l_{2}^{2} - l_{2} l_{3} + l_{3}^{2}\\right) + 2 \\left(- r \\xi \\left(l_{1} + l_{2} - 2 l_{3}\\right) \\left(3 L_{0} + l_{1} + l_{2} + l_{3}\\right) \\sin{\\left(\\frac{2 r \\xi \\sqrt{l_{1}^{2} - l_{1} l_{2} - l_{1} l_{3} + l_{2}^{2} - l_{2} l_{3} + l_{3}^{2}}}{3} \\right)} + 6 \\sqrt{l_{1}^{2} - l_{1} l_{2} - l_{1} l_{3} + l_{2}^{2} - l_{2} l_{3} + l_{3}^{2}} \\sin^{2}{\\left(\\frac{r \\xi \\sqrt{l_{1}^{2} - l_{1} l_{2} - l_{1} l_{3} + l_{2}^{2} - l_{2} l_{3} + l_{3}^{2}}}{3} \\right)}\\right) \\left(3 \\left(l_{2} - l_{3}\\right)^{2} + \\left(- 2 l_{1} + l_{2} + l_{3}\\right)^{2}\\right) \\left(- 2 l_{1} + l_{2} + l_{3}\\right) \\sqrt{l_{1}^{2} - l_{1} l_{2} - l_{1} l_{3} + l_{2}^{2} - l_{2} l_{3} + l_{3}^{2}} + 3 \\left(3 \\left(l_{2} - l_{3}\\right)^{2} + \\left(- 2 l_{1} + l_{2} + l_{3}\\right)^{2}\\right) \\left(\\cos{\\left(\\frac{2 r \\xi \\sqrt{l_{1}^{2} - l_{1} l_{2} - l_{1} l_{3} + l_{2}^{2} - l_{2} l_{3} + l_{3}^{2}}}{3} \\right)} - 1\\right) \\left(- 2 l_{1} + l_{2} + l_{3}\\right) \\left(l_{1} + l_{2} - 2 l_{3}\\right) \\left(3 L_{0} + l_{1} + l_{2} + l_{3}\\right)\\right)}{12 \\left(\\frac{3 \\left(l_{2} - l_{3}\\right)^{2} + \\left(- 2 l_{1} + l_{2} + l_{3}\\right)^{2}}{\\left(- 2 l_{1} + l_{2} + l_{3}\\right)^{2}}\\right)^{\\frac{5}{2}} \\left(- 2 l_{1} + l_{2} + l_{3}\\right)^{5} \\sqrt{l_{1}^{2} - l_{1} l_{2} - l_{1} l_{3} + l_{2}^{2} - l_{2} l_{3} + l_{3}^{2}}}\\\\\\frac{\\sqrt{3} \\left(l_{2} - l_{3}\\right) \\left(3 \\left(l_{2} - l_{3}\\right)^{2} + \\left(- 2 l_{1} + l_{2} + l_{3}\\right)^{2}\\right)^{2} \\left(2 r \\xi \\left(3 \\left(l_{2} - l_{3}\\right)^{2} + \\left(- 2 l_{1} + l_{2} + l_{3}\\right)^{2}\\right) \\left(- 2 l_{1} + l_{2} + l_{3}\\right)^{2} \\left(3 L_{0} + l_{1} + l_{2} + l_{3}\\right) \\sqrt{l_{1}^{2} - l_{1} l_{2} - l_{1} l_{3} + l_{2}^{2} - l_{2} l_{3} + l_{3}^{2}} \\sin{\\left(\\frac{2 r \\xi \\sqrt{l_{1}^{2} - l_{1} l_{2} - l_{1} l_{3} + l_{2}^{2} - l_{2} l_{3} + l_{3}^{2}}}{3} \\right)} - 36 \\left(l_{2} - l_{3}\\right)^{2} \\left(\\cos{\\left(\\frac{2 r \\xi \\sqrt{l_{1}^{2} - l_{1} l_{2} - l_{1} l_{3} + l_{2}^{2} - l_{2} l_{3} + l_{3}^{2}}}{3} \\right)} - 1\\right) \\left(3 L_{0} + l_{1} + l_{2} + l_{3}\\right) \\left(l_{1}^{2} - l_{1} l_{2} - l_{1} l_{3} + l_{2}^{2} - l_{2} l_{3} + l_{3}^{2}\\right) - 3 \\left(3 \\left(l_{2} - l_{3}\\right)^{2} + \\left(- 2 l_{1} + l_{2} + l_{3}\\right)^{2}\\right) \\left(\\cos{\\left(\\frac{2 r \\xi \\sqrt{l_{1}^{2} - l_{1} l_{2} - l_{1} l_{3} + l_{2}^{2} - l_{2} l_{3} + l_{3}^{2}}}{3} \\right)} - 1\\right) \\left(- 2 l_{1} + l_{2} + l_{3}\\right)^{2} \\left(3 L_{0} + l_{1} + l_{2} + l_{3}\\right) + 6 \\left(3 \\left(l_{2} - l_{3}\\right)^{2} + \\left(- 2 l_{1} + l_{2} + l_{3}\\right)^{2}\\right) \\left(\\cos{\\left(\\frac{2 r \\xi \\sqrt{l_{1}^{2} - l_{1} l_{2} - l_{1} l_{3} + l_{2}^{2} - l_{2} l_{3} + l_{3}^{2}}}{3} \\right)} - 1\\right) \\left(- 2 l_{1} + l_{2} + l_{3}\\right) \\left(l_{1}^{2} - l_{1} l_{2} - l_{1} l_{3} + l_{2}^{2} - l_{2} l_{3} + l_{3}^{2}\\right) + 12 \\left(3 \\left(l_{2} - l_{3}\\right)^{2} + \\left(- 2 l_{1} + l_{2} + l_{3}\\right)^{2}\\right) \\left(\\cos{\\left(\\frac{2 r \\xi \\sqrt{l_{1}^{2} - l_{1} l_{2} - l_{1} l_{3} + l_{2}^{2} - l_{2} l_{3} + l_{3}^{2}}}{3} \\right)} - 1\\right) \\left(3 L_{0} + l_{1} + l_{2} + l_{3}\\right) \\left(l_{1}^{2} - l_{1} l_{2} - l_{1} l_{3} + l_{2}^{2} - l_{2} l_{3} + l_{3}^{2}\\right)\\right)}{12 \\left(\\frac{3 \\left(l_{2} - l_{3}\\right)^{2} + \\left(- 2 l_{1} + l_{2} + l_{3}\\right)^{2}}{\\left(- 2 l_{1} + l_{2} + l_{3}\\right)^{2}}\\right)^{\\frac{7}{2}} \\left(- 2 l_{1} + l_{2} + l_{3}\\right)^{8} \\sqrt{l_{1}^{2} - l_{1} l_{2} - l_{1} l_{3} + l_{2}^{2} - l_{2} l_{3} + l_{3}^{2}}} & \\frac{\\sqrt{3} \\left(\\frac{3 \\left(l_{2} - l_{3}\\right)^{2} + \\left(- 2 l_{1} + l_{2} + l_{3}\\right)^{2}}{\\left(- 2 l_{1} + l_{2} + l_{3}\\right)^{2}}\\right)^{\\frac{3}{2}} \\left(- 2 l_{1} + l_{2} + l_{3}\\right)^{2} \\left(18 \\left(l_{2} - l_{3}\\right) \\left(\\left(- l_{2} + l_{3}\\right) \\left(- 2 l_{1} + l_{2} + l_{3}\\right) + \\left(l_{2} - l_{3}\\right)^{2}\\right) \\left(\\cos{\\left(\\frac{2 r \\xi \\sqrt{l_{1}^{2} - l_{1} l_{2} - l_{1} l_{3} + l_{2}^{2} - l_{2} l_{3} + l_{3}^{2}}}{3} \\right)} - 1\\right) \\left(3 L_{0} + l_{1} + l_{2} + l_{3}\\right) \\left(l_{1}^{2} - l_{1} l_{2} - l_{1} l_{3} + l_{2}^{2} - l_{2} l_{3} + l_{3}^{2}\\right) - 3 \\left(l_{2} - l_{3}\\right) \\left(3 \\left(l_{2} - l_{3}\\right)^{2} + \\left(- 2 l_{1} + l_{2} + l_{3}\\right)^{2}\\right) \\left(\\cos{\\left(\\frac{2 r \\xi \\sqrt{l_{1}^{2} - l_{1} l_{2} - l_{1} l_{3} + l_{2}^{2} - l_{2} l_{3} + l_{3}^{2}}}{3} \\right)} - 1\\right) \\left(- 2 l_{1} + l_{2} + l_{3}\\right) \\left(l_{1} - 2 l_{2} + l_{3}\\right) \\left(3 L_{0} + l_{1} + l_{2} + l_{3}\\right) - 6 \\left(l_{2} - l_{3}\\right) \\left(3 \\left(l_{2} - l_{3}\\right)^{2} + \\left(- 2 l_{1} + l_{2} + l_{3}\\right)^{2}\\right) \\left(\\cos{\\left(\\frac{2 r \\xi \\sqrt{l_{1}^{2} - l_{1} l_{2} - l_{1} l_{3} + l_{2}^{2} - l_{2} l_{3} + l_{3}^{2}}}{3} \\right)} - 1\\right) \\left(3 L_{0} + l_{1} + l_{2} + l_{3}\\right) \\left(l_{1}^{2} - l_{1} l_{2} - l_{1} l_{3} + l_{2}^{2} - l_{2} l_{3} + l_{3}^{2}\\right) + 2 \\left(3 \\left(l_{2} - l_{3}\\right)^{2} + \\left(- 2 l_{1} + l_{2} + l_{3}\\right)^{2}\\right) \\left(- 2 l_{1} + l_{2} + l_{3}\\right) \\left(r \\xi \\left(l_{2} - l_{3}\\right) \\left(l_{1} - 2 l_{2} + l_{3}\\right) \\left(3 L_{0} + l_{1} + l_{2} + l_{3}\\right) \\sin{\\left(\\frac{2 r \\xi \\sqrt{l_{1}^{2} - l_{1} l_{2} - l_{1} l_{3} + l_{2}^{2} - l_{2} l_{3} + l_{3}^{2}}}{3} \\right)} + 3 \\left(l_{2} - l_{3}\\right) \\left(\\cos{\\left(\\frac{2 r \\xi \\sqrt{l_{1}^{2} - l_{1} l_{2} - l_{1} l_{3} + l_{2}^{2} - l_{2} l_{3} + l_{3}^{2}}}{3} \\right)} - 1\\right) \\sqrt{l_{1}^{2} - l_{1} l_{2} - l_{1} l_{3} + l_{2}^{2} - l_{2} l_{3} + l_{3}^{2}} + 3 \\left(\\cos{\\left(\\frac{2 r \\xi \\sqrt{l_{1}^{2} - l_{1} l_{2} - l_{1} l_{3} + l_{2}^{2} - l_{2} l_{3} + l_{3}^{2}}}{3} \\right)} - 1\\right) \\left(3 L_{0} + l_{1} + l_{2} + l_{3}\\right) \\sqrt{l_{1}^{2} - l_{1} l_{2} - l_{1} l_{3} + l_{2}^{2} - l_{2} l_{3} + l_{3}^{2}}\\right) \\sqrt{l_{1}^{2} - l_{1} l_{2} - l_{1} l_{3} + l_{2}^{2} - l_{2} l_{3} + l_{3}^{2}}\\right)}{12 \\left(3 \\left(l_{2} - l_{3}\\right)^{2} + \\left(- 2 l_{1} + l_{2} + l_{3}\\right)^{2}\\right)^{3} \\sqrt{l_{1}^{2} - l_{1} l_{2} - l_{1} l_{3} + l_{2}^{2} - l_{2} l_{3} + l_{3}^{2}}} & \\frac{\\sqrt{3} \\left(\\frac{3 \\left(l_{2} - l_{3}\\right)^{2} + \\left(- 2 l_{1} + l_{2} + l_{3}\\right)^{2}}{\\left(- 2 l_{1} + l_{2} + l_{3}\\right)^{2}}\\right)^{\\frac{3}{2}} \\left(- 2 l_{1} + l_{2} + l_{3}\\right)^{2} \\left(3 \\left(- l_{1} + l_{2}\\right) \\left(l_{2} - l_{3}\\right)^{2} \\left(\\cos{\\left(\\frac{2 r \\xi \\sqrt{l_{1}^{2} - l_{1} l_{2} - l_{1} l_{3} + l_{2}^{2} - l_{2} l_{3} + l_{3}^{2}}}{3} \\right)} - 1\\right) \\left(3 L_{0} + l_{1} + l_{2} + l_{3}\\right) \\left(l_{1}^{2} - l_{1} l_{2} - l_{1} l_{3} + l_{2}^{2} - l_{2} l_{3} + l_{3}^{2}\\right) - \\frac{\\left(l_{2} - l_{3}\\right) \\left(3 \\left(l_{2} - l_{3}\\right)^{2} + \\left(- 2 l_{1} + l_{2} + l_{3}\\right)^{2}\\right) \\left(\\cos{\\left(\\frac{2 r \\xi \\sqrt{l_{1}^{2} - l_{1} l_{2} - l_{1} l_{3} + l_{2}^{2} - l_{2} l_{3} + l_{3}^{2}}}{3} \\right)} - 1\\right) \\left(- 2 l_{1} + l_{2} + l_{3}\\right) \\left(l_{1} + l_{2} - 2 l_{3}\\right) \\left(3 L_{0} + l_{1} + l_{2} + l_{3}\\right)}{4} - \\frac{\\left(l_{2} - l_{3}\\right) \\left(3 \\left(l_{2} - l_{3}\\right)^{2} + \\left(- 2 l_{1} + l_{2} + l_{3}\\right)^{2}\\right) \\left(\\cos{\\left(\\frac{2 r \\xi \\sqrt{l_{1}^{2} - l_{1} l_{2} - l_{1} l_{3} + l_{2}^{2} - l_{2} l_{3} + l_{3}^{2}}}{3} \\right)} - 1\\right) \\left(3 L_{0} + l_{1} + l_{2} + l_{3}\\right) \\left(l_{1}^{2} - l_{1} l_{2} - l_{1} l_{3} + l_{2}^{2} - l_{2} l_{3} + l_{3}^{2}\\right)}{2} + \\frac{\\left(3 \\left(l_{2} - l_{3}\\right)^{2} + \\left(- 2 l_{1} + l_{2} + l_{3}\\right)^{2}\\right) \\left(- 2 l_{1} + l_{2} + l_{3}\\right) \\left(r \\xi \\left(l_{2} - l_{3}\\right) \\left(l_{1} + l_{2} - 2 l_{3}\\right) \\left(3 L_{0} + l_{1} + l_{2} + l_{3}\\right) \\sin{\\left(\\frac{2 r \\xi \\sqrt{l_{1}^{2} - l_{1} l_{2} - l_{1} l_{3} + l_{2}^{2} - l_{2} l_{3} + l_{3}^{2}}}{3} \\right)} + 3 \\left(l_{2} - l_{3}\\right) \\left(\\cos{\\left(\\frac{2 r \\xi \\sqrt{l_{1}^{2} - l_{1} l_{2} - l_{1} l_{3} + l_{2}^{2} - l_{2} l_{3} + l_{3}^{2}}}{3} \\right)} - 1\\right) \\sqrt{l_{1}^{2} - l_{1} l_{2} - l_{1} l_{3} + l_{2}^{2} - l_{2} l_{3} + l_{3}^{2}} - 3 \\left(\\cos{\\left(\\frac{2 r \\xi \\sqrt{l_{1}^{2} - l_{1} l_{2} - l_{1} l_{3} + l_{2}^{2} - l_{2} l_{3} + l_{3}^{2}}}{3} \\right)} - 1\\right) \\left(3 L_{0} + l_{1} + l_{2} + l_{3}\\right) \\sqrt{l_{1}^{2} - l_{1} l_{2} - l_{1} l_{3} + l_{2}^{2} - l_{2} l_{3} + l_{3}^{2}}\\right) \\sqrt{l_{1}^{2} - l_{1} l_{2} - l_{1} l_{3} + l_{2}^{2} - l_{2} l_{3} + l_{3}^{2}}}{6}\\right)}{\\left(3 \\left(l_{2} - l_{3}\\right)^{2} + \\left(- 2 l_{1} + l_{2} + l_{3}\\right)^{2}\\right)^{3} \\sqrt{l_{1}^{2} - l_{1} l_{2} - l_{1} l_{3} + l_{2}^{2} - l_{2} l_{3} + l_{3}^{2}}}\\\\\\frac{2 \\left(- r \\xi \\left(- 2 l_{1} + l_{2} + l_{3}\\right) \\left(3 L_{0} + l_{1} + l_{2} + l_{3}\\right) \\cos{\\left(\\frac{2 r \\xi \\sqrt{l_{1}^{2} - l_{1} l_{2} - l_{1} l_{3} + l_{2}^{2} - l_{2} l_{3} + l_{3}^{2}}}{3} \\right)} + 3 \\sqrt{l_{1}^{2} - l_{1} l_{2} - l_{1} l_{3} + l_{2}^{2} - l_{2} l_{3} + l_{3}^{2}} \\sin{\\left(\\frac{2 r \\xi \\sqrt{l_{1}^{2} - l_{1} l_{2} - l_{1} l_{3} + l_{2}^{2} - l_{2} l_{3} + l_{3}^{2}}}{3} \\right)}\\right) \\sqrt{l_{1}^{2} - l_{1} l_{2} - l_{1} l_{3} + l_{2}^{2} - l_{2} l_{3} + l_{3}^{2}} - 3 \\left(- 2 l_{1} + l_{2} + l_{3}\\right) \\left(3 L_{0} + l_{1} + l_{2} + l_{3}\\right) \\sin{\\left(\\frac{2 r \\xi \\sqrt{l_{1}^{2} - l_{1} l_{2} - l_{1} l_{3} + l_{2}^{2} - l_{2} l_{3} + l_{3}^{2}}}{3} \\right)}}{12 \\sqrt{l_{1}^{2} - l_{1} l_{2} - l_{1} l_{3} + l_{2}^{2} - l_{2} l_{3} + l_{3}^{2}}} & \\frac{2 \\left(- r \\xi \\left(l_{1} - 2 l_{2} + l_{3}\\right) \\left(3 L_{0} + l_{1} + l_{2} + l_{3}\\right) \\cos{\\left(\\frac{2 r \\xi \\sqrt{l_{1}^{2} - l_{1} l_{2} - l_{1} l_{3} + l_{2}^{2} - l_{2} l_{3} + l_{3}^{2}}}{3} \\right)} + 3 \\sqrt{l_{1}^{2} - l_{1} l_{2} - l_{1} l_{3} + l_{2}^{2} - l_{2} l_{3} + l_{3}^{2}} \\sin{\\left(\\frac{2 r \\xi \\sqrt{l_{1}^{2} - l_{1} l_{2} - l_{1} l_{3} + l_{2}^{2} - l_{2} l_{3} + l_{3}^{2}}}{3} \\right)}\\right) \\sqrt{l_{1}^{2} - l_{1} l_{2} - l_{1} l_{3} + l_{2}^{2} - l_{2} l_{3} + l_{3}^{2}} - 3 \\left(l_{1} - 2 l_{2} + l_{3}\\right) \\left(3 L_{0} + l_{1} + l_{2} + l_{3}\\right) \\sin{\\left(\\frac{2 r \\xi \\sqrt{l_{1}^{2} - l_{1} l_{2} - l_{1} l_{3} + l_{2}^{2} - l_{2} l_{3} + l_{3}^{2}}}{3} \\right)}}{12 \\sqrt{l_{1}^{2} - l_{1} l_{2} - l_{1} l_{3} + l_{2}^{2} - l_{2} l_{3} + l_{3}^{2}}} & \\frac{2 \\left(- r \\xi \\left(l_{1} + l_{2} - 2 l_{3}\\right) \\left(3 L_{0} + l_{1} + l_{2} + l_{3}\\right) \\cos{\\left(\\frac{2 r \\xi \\sqrt{l_{1}^{2} - l_{1} l_{2} - l_{1} l_{3} + l_{2}^{2} - l_{2} l_{3} + l_{3}^{2}}}{3} \\right)} + 3 \\sqrt{l_{1}^{2} - l_{1} l_{2} - l_{1} l_{3} + l_{2}^{2} - l_{2} l_{3} + l_{3}^{2}} \\sin{\\left(\\frac{2 r \\xi \\sqrt{l_{1}^{2} - l_{1} l_{2} - l_{1} l_{3} + l_{2}^{2} - l_{2} l_{3} + l_{3}^{2}}}{3} \\right)}\\right) \\sqrt{l_{1}^{2} - l_{1} l_{2} - l_{1} l_{3} + l_{2}^{2} - l_{2} l_{3} + l_{3}^{2}} - 3 \\left(l_{1} + l_{2} - 2 l_{3}\\right) \\left(3 L_{0} + l_{1} + l_{2} + l_{3}\\right) \\sin{\\left(\\frac{2 r \\xi \\sqrt{l_{1}^{2} - l_{1} l_{2} - l_{1} l_{3} + l_{2}^{2} - l_{2} l_{3} + l_{3}^{2}}}{3} \\right)}}{12 \\sqrt{l_{1}^{2} - l_{1} l_{2} - l_{1} l_{3} + l_{2}^{2} - l_{2} l_{3} + l_{3}^{2}}}\\end{matrix}\\right]$"
      ],
      "text/plain": [
       "Matrix([\n",
       "[                                                                                                                                                                                                                                                         (3*(l2 - l3)**2 + (-2*l1 + l2 + l3)**2)*(36*(l2 - l3)**2*(cos(2*r*xi*sqrt(l1**2 - l1*l2 - l1*l3 + l2**2 - l2*l3 + l3**2)/3) - 1)*(3*L0 + l1 + l2 + l3)*(l1**2 - l1*l2 - l1*l3 + l2**2 - l2*l3 + l3**2) + 2*(-r*xi*(-2*l1 + l2 + l3)*(3*L0 + l1 + l2 + l3)*sin(2*r*xi*sqrt(l1**2 - l1*l2 - l1*l3 + l2**2 - l2*l3 + l3**2)/3) + 6*sqrt(l1**2 - l1*l2 - l1*l3 + l2**2 - l2*l3 + l3**2)*sin(r*xi*sqrt(l1**2 - l1*l2 - l1*l3 + l2**2 - l2*l3 + l3**2)/3)**2)*(3*(l2 - l3)**2 + (-2*l1 + l2 + l3)**2)*(-2*l1 + l2 + l3)*sqrt(l1**2 - l1*l2 - l1*l3 + l2**2 - l2*l3 + l3**2) + 3*(3*(l2 - l3)**2 + (-2*l1 + l2 + l3)**2)*(cos(2*r*xi*sqrt(l1**2 - l1*l2 - l1*l3 + l2**2 - l2*l3 + l3**2)/3) - 1)*(-2*l1 + l2 + l3)**2*(3*L0 + l1 + l2 + l3))/(12*((3*(l2 - l3)**2 + (-2*l1 + l2 + l3)**2)/(-2*l1 + l2 + l3)**2)**(5/2)*(-2*l1 + l2 + l3)**5*sqrt(l1**2 - l1*l2 - l1*l3 + l2**2 - l2*l3 + l3**2)),                                                                                                                                                                                                                                                                                                                                                                                                                 (3*(l2 - l3)**2 + (-2*l1 + l2 + l3)**2)*(-18*((-l2 + l3)*(-2*l1 + l2 + l3) + (l2 - l3)**2)*(cos(2*r*xi*sqrt(l1**2 - l1*l2 - l1*l3 + l2**2 - l2*l3 + l3**2)/3) - 1)*(3*L0 + l1 + l2 + l3)*(l1**2 - l1*l2 - l1*l3 + l2**2 - l2*l3 + l3**2) + 2*(-r*xi*(l1 - 2*l2 + l3)*(3*L0 + l1 + l2 + l3)*sin(2*r*xi*sqrt(l1**2 - l1*l2 - l1*l3 + l2**2 - l2*l3 + l3**2)/3) + 6*sqrt(l1**2 - l1*l2 - l1*l3 + l2**2 - l2*l3 + l3**2)*sin(r*xi*sqrt(l1**2 - l1*l2 - l1*l3 + l2**2 - l2*l3 + l3**2)/3)**2)*(3*(l2 - l3)**2 + (-2*l1 + l2 + l3)**2)*(-2*l1 + l2 + l3)*sqrt(l1**2 - l1*l2 - l1*l3 + l2**2 - l2*l3 + l3**2) + 3*(3*(l2 - l3)**2 + (-2*l1 + l2 + l3)**2)*(cos(2*r*xi*sqrt(l1**2 - l1*l2 - l1*l3 + l2**2 - l2*l3 + l3**2)/3) - 1)*(-2*l1 + l2 + l3)*(l1 - 2*l2 + l3)*(3*L0 + l1 + l2 + l3))/(12*((3*(l2 - l3)**2 + (-2*l1 + l2 + l3)**2)/(-2*l1 + l2 + l3)**2)**(5/2)*(-2*l1 + l2 + l3)**5*sqrt(l1**2 - l1*l2 - l1*l3 + l2**2 - l2*l3 + l3**2)),                                                                                                                                                                                                                                                                                                                                                                                                      (3*(l2 - l3)**2 + (-2*l1 + l2 + l3)**2)*(-36*(-l1 + l2)*(l2 - l3)*(cos(2*r*xi*sqrt(l1**2 - l1*l2 - l1*l3 + l2**2 - l2*l3 + l3**2)/3) - 1)*(3*L0 + l1 + l2 + l3)*(l1**2 - l1*l2 - l1*l3 + l2**2 - l2*l3 + l3**2) + 2*(-r*xi*(l1 + l2 - 2*l3)*(3*L0 + l1 + l2 + l3)*sin(2*r*xi*sqrt(l1**2 - l1*l2 - l1*l3 + l2**2 - l2*l3 + l3**2)/3) + 6*sqrt(l1**2 - l1*l2 - l1*l3 + l2**2 - l2*l3 + l3**2)*sin(r*xi*sqrt(l1**2 - l1*l2 - l1*l3 + l2**2 - l2*l3 + l3**2)/3)**2)*(3*(l2 - l3)**2 + (-2*l1 + l2 + l3)**2)*(-2*l1 + l2 + l3)*sqrt(l1**2 - l1*l2 - l1*l3 + l2**2 - l2*l3 + l3**2) + 3*(3*(l2 - l3)**2 + (-2*l1 + l2 + l3)**2)*(cos(2*r*xi*sqrt(l1**2 - l1*l2 - l1*l3 + l2**2 - l2*l3 + l3**2)/3) - 1)*(-2*l1 + l2 + l3)*(l1 + l2 - 2*l3)*(3*L0 + l1 + l2 + l3))/(12*((3*(l2 - l3)**2 + (-2*l1 + l2 + l3)**2)/(-2*l1 + l2 + l3)**2)**(5/2)*(-2*l1 + l2 + l3)**5*sqrt(l1**2 - l1*l2 - l1*l3 + l2**2 - l2*l3 + l3**2))],\n",
       "[sqrt(3)*(l2 - l3)*(3*(l2 - l3)**2 + (-2*l1 + l2 + l3)**2)**2*(2*r*xi*(3*(l2 - l3)**2 + (-2*l1 + l2 + l3)**2)*(-2*l1 + l2 + l3)**2*(3*L0 + l1 + l2 + l3)*sqrt(l1**2 - l1*l2 - l1*l3 + l2**2 - l2*l3 + l3**2)*sin(2*r*xi*sqrt(l1**2 - l1*l2 - l1*l3 + l2**2 - l2*l3 + l3**2)/3) - 36*(l2 - l3)**2*(cos(2*r*xi*sqrt(l1**2 - l1*l2 - l1*l3 + l2**2 - l2*l3 + l3**2)/3) - 1)*(3*L0 + l1 + l2 + l3)*(l1**2 - l1*l2 - l1*l3 + l2**2 - l2*l3 + l3**2) - 3*(3*(l2 - l3)**2 + (-2*l1 + l2 + l3)**2)*(cos(2*r*xi*sqrt(l1**2 - l1*l2 - l1*l3 + l2**2 - l2*l3 + l3**2)/3) - 1)*(-2*l1 + l2 + l3)**2*(3*L0 + l1 + l2 + l3) + 6*(3*(l2 - l3)**2 + (-2*l1 + l2 + l3)**2)*(cos(2*r*xi*sqrt(l1**2 - l1*l2 - l1*l3 + l2**2 - l2*l3 + l3**2)/3) - 1)*(-2*l1 + l2 + l3)*(l1**2 - l1*l2 - l1*l3 + l2**2 - l2*l3 + l3**2) + 12*(3*(l2 - l3)**2 + (-2*l1 + l2 + l3)**2)*(cos(2*r*xi*sqrt(l1**2 - l1*l2 - l1*l3 + l2**2 - l2*l3 + l3**2)/3) - 1)*(3*L0 + l1 + l2 + l3)*(l1**2 - l1*l2 - l1*l3 + l2**2 - l2*l3 + l3**2))/(12*((3*(l2 - l3)**2 + (-2*l1 + l2 + l3)**2)/(-2*l1 + l2 + l3)**2)**(7/2)*(-2*l1 + l2 + l3)**8*sqrt(l1**2 - l1*l2 - l1*l3 + l2**2 - l2*l3 + l3**2)), sqrt(3)*((3*(l2 - l3)**2 + (-2*l1 + l2 + l3)**2)/(-2*l1 + l2 + l3)**2)**(3/2)*(-2*l1 + l2 + l3)**2*(18*(l2 - l3)*((-l2 + l3)*(-2*l1 + l2 + l3) + (l2 - l3)**2)*(cos(2*r*xi*sqrt(l1**2 - l1*l2 - l1*l3 + l2**2 - l2*l3 + l3**2)/3) - 1)*(3*L0 + l1 + l2 + l3)*(l1**2 - l1*l2 - l1*l3 + l2**2 - l2*l3 + l3**2) - 3*(l2 - l3)*(3*(l2 - l3)**2 + (-2*l1 + l2 + l3)**2)*(cos(2*r*xi*sqrt(l1**2 - l1*l2 - l1*l3 + l2**2 - l2*l3 + l3**2)/3) - 1)*(-2*l1 + l2 + l3)*(l1 - 2*l2 + l3)*(3*L0 + l1 + l2 + l3) - 6*(l2 - l3)*(3*(l2 - l3)**2 + (-2*l1 + l2 + l3)**2)*(cos(2*r*xi*sqrt(l1**2 - l1*l2 - l1*l3 + l2**2 - l2*l3 + l3**2)/3) - 1)*(3*L0 + l1 + l2 + l3)*(l1**2 - l1*l2 - l1*l3 + l2**2 - l2*l3 + l3**2) + 2*(3*(l2 - l3)**2 + (-2*l1 + l2 + l3)**2)*(-2*l1 + l2 + l3)*(r*xi*(l2 - l3)*(l1 - 2*l2 + l3)*(3*L0 + l1 + l2 + l3)*sin(2*r*xi*sqrt(l1**2 - l1*l2 - l1*l3 + l2**2 - l2*l3 + l3**2)/3) + 3*(l2 - l3)*(cos(2*r*xi*sqrt(l1**2 - l1*l2 - l1*l3 + l2**2 - l2*l3 + l3**2)/3) - 1)*sqrt(l1**2 - l1*l2 - l1*l3 + l2**2 - l2*l3 + l3**2) + 3*(cos(2*r*xi*sqrt(l1**2 - l1*l2 - l1*l3 + l2**2 - l2*l3 + l3**2)/3) - 1)*(3*L0 + l1 + l2 + l3)*sqrt(l1**2 - l1*l2 - l1*l3 + l2**2 - l2*l3 + l3**2))*sqrt(l1**2 - l1*l2 - l1*l3 + l2**2 - l2*l3 + l3**2))/(12*(3*(l2 - l3)**2 + (-2*l1 + l2 + l3)**2)**3*sqrt(l1**2 - l1*l2 - l1*l3 + l2**2 - l2*l3 + l3**2)), sqrt(3)*((3*(l2 - l3)**2 + (-2*l1 + l2 + l3)**2)/(-2*l1 + l2 + l3)**2)**(3/2)*(-2*l1 + l2 + l3)**2*(3*(-l1 + l2)*(l2 - l3)**2*(cos(2*r*xi*sqrt(l1**2 - l1*l2 - l1*l3 + l2**2 - l2*l3 + l3**2)/3) - 1)*(3*L0 + l1 + l2 + l3)*(l1**2 - l1*l2 - l1*l3 + l2**2 - l2*l3 + l3**2) - (l2 - l3)*(3*(l2 - l3)**2 + (-2*l1 + l2 + l3)**2)*(cos(2*r*xi*sqrt(l1**2 - l1*l2 - l1*l3 + l2**2 - l2*l3 + l3**2)/3) - 1)*(-2*l1 + l2 + l3)*(l1 + l2 - 2*l3)*(3*L0 + l1 + l2 + l3)/4 - (l2 - l3)*(3*(l2 - l3)**2 + (-2*l1 + l2 + l3)**2)*(cos(2*r*xi*sqrt(l1**2 - l1*l2 - l1*l3 + l2**2 - l2*l3 + l3**2)/3) - 1)*(3*L0 + l1 + l2 + l3)*(l1**2 - l1*l2 - l1*l3 + l2**2 - l2*l3 + l3**2)/2 + (3*(l2 - l3)**2 + (-2*l1 + l2 + l3)**2)*(-2*l1 + l2 + l3)*(r*xi*(l2 - l3)*(l1 + l2 - 2*l3)*(3*L0 + l1 + l2 + l3)*sin(2*r*xi*sqrt(l1**2 - l1*l2 - l1*l3 + l2**2 - l2*l3 + l3**2)/3) + 3*(l2 - l3)*(cos(2*r*xi*sqrt(l1**2 - l1*l2 - l1*l3 + l2**2 - l2*l3 + l3**2)/3) - 1)*sqrt(l1**2 - l1*l2 - l1*l3 + l2**2 - l2*l3 + l3**2) - 3*(cos(2*r*xi*sqrt(l1**2 - l1*l2 - l1*l3 + l2**2 - l2*l3 + l3**2)/3) - 1)*(3*L0 + l1 + l2 + l3)*sqrt(l1**2 - l1*l2 - l1*l3 + l2**2 - l2*l3 + l3**2))*sqrt(l1**2 - l1*l2 - l1*l3 + l2**2 - l2*l3 + l3**2)/6)/((3*(l2 - l3)**2 + (-2*l1 + l2 + l3)**2)**3*sqrt(l1**2 - l1*l2 - l1*l3 + l2**2 - l2*l3 + l3**2))],\n",
       "[                                                                                                                                                                                                                                                                                                                                                                                                                                                                                                                                                                                                                                                                        (2*(-r*xi*(-2*l1 + l2 + l3)*(3*L0 + l1 + l2 + l3)*cos(2*r*xi*sqrt(l1**2 - l1*l2 - l1*l3 + l2**2 - l2*l3 + l3**2)/3) + 3*sqrt(l1**2 - l1*l2 - l1*l3 + l2**2 - l2*l3 + l3**2)*sin(2*r*xi*sqrt(l1**2 - l1*l2 - l1*l3 + l2**2 - l2*l3 + l3**2)/3))*sqrt(l1**2 - l1*l2 - l1*l3 + l2**2 - l2*l3 + l3**2) - 3*(-2*l1 + l2 + l3)*(3*L0 + l1 + l2 + l3)*sin(2*r*xi*sqrt(l1**2 - l1*l2 - l1*l3 + l2**2 - l2*l3 + l3**2)/3))/(12*sqrt(l1**2 - l1*l2 - l1*l3 + l2**2 - l2*l3 + l3**2)),                                                                                                                                                                                                                                                                                                                                                                                                                                                                                                                                                                                                                                                                                                                                                                                                                                                                                 (2*(-r*xi*(l1 - 2*l2 + l3)*(3*L0 + l1 + l2 + l3)*cos(2*r*xi*sqrt(l1**2 - l1*l2 - l1*l3 + l2**2 - l2*l3 + l3**2)/3) + 3*sqrt(l1**2 - l1*l2 - l1*l3 + l2**2 - l2*l3 + l3**2)*sin(2*r*xi*sqrt(l1**2 - l1*l2 - l1*l3 + l2**2 - l2*l3 + l3**2)/3))*sqrt(l1**2 - l1*l2 - l1*l3 + l2**2 - l2*l3 + l3**2) - 3*(l1 - 2*l2 + l3)*(3*L0 + l1 + l2 + l3)*sin(2*r*xi*sqrt(l1**2 - l1*l2 - l1*l3 + l2**2 - l2*l3 + l3**2)/3))/(12*sqrt(l1**2 - l1*l2 - l1*l3 + l2**2 - l2*l3 + l3**2)),                                                                                                                                                                                                                                                                                                                                                                                                                                                                                                                                                                                                                                                                                                                                                                                                                                             (2*(-r*xi*(l1 + l2 - 2*l3)*(3*L0 + l1 + l2 + l3)*cos(2*r*xi*sqrt(l1**2 - l1*l2 - l1*l3 + l2**2 - l2*l3 + l3**2)/3) + 3*sqrt(l1**2 - l1*l2 - l1*l3 + l2**2 - l2*l3 + l3**2)*sin(2*r*xi*sqrt(l1**2 - l1*l2 - l1*l3 + l2**2 - l2*l3 + l3**2)/3))*sqrt(l1**2 - l1*l2 - l1*l3 + l2**2 - l2*l3 + l3**2) - 3*(l1 + l2 - 2*l3)*(3*L0 + l1 + l2 + l3)*sin(2*r*xi*sqrt(l1**2 - l1*l2 - l1*l3 + l2**2 - l2*l3 + l3**2)/3))/(12*sqrt(l1**2 - l1*l2 - l1*l3 + l2**2 - l2*l3 + l3**2))]])"
      ]
     },
     "execution_count": 11,
     "metadata": {},
     "output_type": "execute_result"
    }
   ],
   "source": [
    "J_all"
   ]
  },
  {
   "cell_type": "code",
   "execution_count": 10,
   "metadata": {},
   "outputs": [
    {
     "name": "stdout",
     "output_type": "stream",
     "text": [
      "Matrix([[(3*(l2 - l3)**2 + (-2*l1 + l2 + l3)**2)*(36*(l2 - l3)**2*(cos(2*r*xi*sqrt(l1**2 - l1*l2 - l1*l3 + l2**2 - l2*l3 + l3**2)/3) - 1)*(3*L0 + l1 + l2 + l3)*(l1**2 - l1*l2 - l1*l3 + l2**2 - l2*l3 + l3**2) + 2*(-r*xi*(-2*l1 + l2 + l3)*(3*L0 + l1 + l2 + l3)*sin(2*r*xi*sqrt(l1**2 - l1*l2 - l1*l3 + l2**2 - l2*l3 + l3**2)/3) + 6*sqrt(l1**2 - l1*l2 - l1*l3 + l2**2 - l2*l3 + l3**2)*sin(r*xi*sqrt(l1**2 - l1*l2 - l1*l3 + l2**2 - l2*l3 + l3**2)/3)**2)*(3*(l2 - l3)**2 + (-2*l1 + l2 + l3)**2)*(-2*l1 + l2 + l3)*sqrt(l1**2 - l1*l2 - l1*l3 + l2**2 - l2*l3 + l3**2) + 3*(3*(l2 - l3)**2 + (-2*l1 + l2 + l3)**2)*(cos(2*r*xi*sqrt(l1**2 - l1*l2 - l1*l3 + l2**2 - l2*l3 + l3**2)/3) - 1)*(-2*l1 + l2 + l3)**2*(3*L0 + l1 + l2 + l3))/(12*((3*(l2 - l3)**2 + (-2*l1 + l2 + l3)**2)/(-2*l1 + l2 + l3)**2)**(5/2)*(-2*l1 + l2 + l3)**5*sqrt(l1**2 - l1*l2 - l1*l3 + l2**2 - l2*l3 + l3**2)), (3*(l2 - l3)**2 + (-2*l1 + l2 + l3)**2)*(-18*((-l2 + l3)*(-2*l1 + l2 + l3) + (l2 - l3)**2)*(cos(2*r*xi*sqrt(l1**2 - l1*l2 - l1*l3 + l2**2 - l2*l3 + l3**2)/3) - 1)*(3*L0 + l1 + l2 + l3)*(l1**2 - l1*l2 - l1*l3 + l2**2 - l2*l3 + l3**2) + 2*(-r*xi*(l1 - 2*l2 + l3)*(3*L0 + l1 + l2 + l3)*sin(2*r*xi*sqrt(l1**2 - l1*l2 - l1*l3 + l2**2 - l2*l3 + l3**2)/3) + 6*sqrt(l1**2 - l1*l2 - l1*l3 + l2**2 - l2*l3 + l3**2)*sin(r*xi*sqrt(l1**2 - l1*l2 - l1*l3 + l2**2 - l2*l3 + l3**2)/3)**2)*(3*(l2 - l3)**2 + (-2*l1 + l2 + l3)**2)*(-2*l1 + l2 + l3)*sqrt(l1**2 - l1*l2 - l1*l3 + l2**2 - l2*l3 + l3**2) + 3*(3*(l2 - l3)**2 + (-2*l1 + l2 + l3)**2)*(cos(2*r*xi*sqrt(l1**2 - l1*l2 - l1*l3 + l2**2 - l2*l3 + l3**2)/3) - 1)*(-2*l1 + l2 + l3)*(l1 - 2*l2 + l3)*(3*L0 + l1 + l2 + l3))/(12*((3*(l2 - l3)**2 + (-2*l1 + l2 + l3)**2)/(-2*l1 + l2 + l3)**2)**(5/2)*(-2*l1 + l2 + l3)**5*sqrt(l1**2 - l1*l2 - l1*l3 + l2**2 - l2*l3 + l3**2)), (3*(l2 - l3)**2 + (-2*l1 + l2 + l3)**2)*(-36*(-l1 + l2)*(l2 - l3)*(cos(2*r*xi*sqrt(l1**2 - l1*l2 - l1*l3 + l2**2 - l2*l3 + l3**2)/3) - 1)*(3*L0 + l1 + l2 + l3)*(l1**2 - l1*l2 - l1*l3 + l2**2 - l2*l3 + l3**2) + 2*(-r*xi*(l1 + l2 - 2*l3)*(3*L0 + l1 + l2 + l3)*sin(2*r*xi*sqrt(l1**2 - l1*l2 - l1*l3 + l2**2 - l2*l3 + l3**2)/3) + 6*sqrt(l1**2 - l1*l2 - l1*l3 + l2**2 - l2*l3 + l3**2)*sin(r*xi*sqrt(l1**2 - l1*l2 - l1*l3 + l2**2 - l2*l3 + l3**2)/3)**2)*(3*(l2 - l3)**2 + (-2*l1 + l2 + l3)**2)*(-2*l1 + l2 + l3)*sqrt(l1**2 - l1*l2 - l1*l3 + l2**2 - l2*l3 + l3**2) + 3*(3*(l2 - l3)**2 + (-2*l1 + l2 + l3)**2)*(cos(2*r*xi*sqrt(l1**2 - l1*l2 - l1*l3 + l2**2 - l2*l3 + l3**2)/3) - 1)*(-2*l1 + l2 + l3)*(l1 + l2 - 2*l3)*(3*L0 + l1 + l2 + l3))/(12*((3*(l2 - l3)**2 + (-2*l1 + l2 + l3)**2)/(-2*l1 + l2 + l3)**2)**(5/2)*(-2*l1 + l2 + l3)**5*sqrt(l1**2 - l1*l2 - l1*l3 + l2**2 - l2*l3 + l3**2))], [sqrt(3)*(l2 - l3)*(3*(l2 - l3)**2 + (-2*l1 + l2 + l3)**2)**2*(2*r*xi*(3*(l2 - l3)**2 + (-2*l1 + l2 + l3)**2)*(-2*l1 + l2 + l3)**2*(3*L0 + l1 + l2 + l3)*sqrt(l1**2 - l1*l2 - l1*l3 + l2**2 - l2*l3 + l3**2)*sin(2*r*xi*sqrt(l1**2 - l1*l2 - l1*l3 + l2**2 - l2*l3 + l3**2)/3) - 36*(l2 - l3)**2*(cos(2*r*xi*sqrt(l1**2 - l1*l2 - l1*l3 + l2**2 - l2*l3 + l3**2)/3) - 1)*(3*L0 + l1 + l2 + l3)*(l1**2 - l1*l2 - l1*l3 + l2**2 - l2*l3 + l3**2) - 3*(3*(l2 - l3)**2 + (-2*l1 + l2 + l3)**2)*(cos(2*r*xi*sqrt(l1**2 - l1*l2 - l1*l3 + l2**2 - l2*l3 + l3**2)/3) - 1)*(-2*l1 + l2 + l3)**2*(3*L0 + l1 + l2 + l3) + 6*(3*(l2 - l3)**2 + (-2*l1 + l2 + l3)**2)*(cos(2*r*xi*sqrt(l1**2 - l1*l2 - l1*l3 + l2**2 - l2*l3 + l3**2)/3) - 1)*(-2*l1 + l2 + l3)*(l1**2 - l1*l2 - l1*l3 + l2**2 - l2*l3 + l3**2) + 12*(3*(l2 - l3)**2 + (-2*l1 + l2 + l3)**2)*(cos(2*r*xi*sqrt(l1**2 - l1*l2 - l1*l3 + l2**2 - l2*l3 + l3**2)/3) - 1)*(3*L0 + l1 + l2 + l3)*(l1**2 - l1*l2 - l1*l3 + l2**2 - l2*l3 + l3**2))/(12*((3*(l2 - l3)**2 + (-2*l1 + l2 + l3)**2)/(-2*l1 + l2 + l3)**2)**(7/2)*(-2*l1 + l2 + l3)**8*sqrt(l1**2 - l1*l2 - l1*l3 + l2**2 - l2*l3 + l3**2)), sqrt(3)*((3*(l2 - l3)**2 + (-2*l1 + l2 + l3)**2)/(-2*l1 + l2 + l3)**2)**(3/2)*(-2*l1 + l2 + l3)**2*(18*(l2 - l3)*((-l2 + l3)*(-2*l1 + l2 + l3) + (l2 - l3)**2)*(cos(2*r*xi*sqrt(l1**2 - l1*l2 - l1*l3 + l2**2 - l2*l3 + l3**2)/3) - 1)*(3*L0 + l1 + l2 + l3)*(l1**2 - l1*l2 - l1*l3 + l2**2 - l2*l3 + l3**2) - 3*(l2 - l3)*(3*(l2 - l3)**2 + (-2*l1 + l2 + l3)**2)*(cos(2*r*xi*sqrt(l1**2 - l1*l2 - l1*l3 + l2**2 - l2*l3 + l3**2)/3) - 1)*(-2*l1 + l2 + l3)*(l1 - 2*l2 + l3)*(3*L0 + l1 + l2 + l3) - 6*(l2 - l3)*(3*(l2 - l3)**2 + (-2*l1 + l2 + l3)**2)*(cos(2*r*xi*sqrt(l1**2 - l1*l2 - l1*l3 + l2**2 - l2*l3 + l3**2)/3) - 1)*(3*L0 + l1 + l2 + l3)*(l1**2 - l1*l2 - l1*l3 + l2**2 - l2*l3 + l3**2) + 2*(3*(l2 - l3)**2 + (-2*l1 + l2 + l3)**2)*(-2*l1 + l2 + l3)*(r*xi*(l2 - l3)*(l1 - 2*l2 + l3)*(3*L0 + l1 + l2 + l3)*sin(2*r*xi*sqrt(l1**2 - l1*l2 - l1*l3 + l2**2 - l2*l3 + l3**2)/3) + 3*(l2 - l3)*(cos(2*r*xi*sqrt(l1**2 - l1*l2 - l1*l3 + l2**2 - l2*l3 + l3**2)/3) - 1)*sqrt(l1**2 - l1*l2 - l1*l3 + l2**2 - l2*l3 + l3**2) + 3*(cos(2*r*xi*sqrt(l1**2 - l1*l2 - l1*l3 + l2**2 - l2*l3 + l3**2)/3) - 1)*(3*L0 + l1 + l2 + l3)*sqrt(l1**2 - l1*l2 - l1*l3 + l2**2 - l2*l3 + l3**2))*sqrt(l1**2 - l1*l2 - l1*l3 + l2**2 - l2*l3 + l3**2))/(12*(3*(l2 - l3)**2 + (-2*l1 + l2 + l3)**2)**3*sqrt(l1**2 - l1*l2 - l1*l3 + l2**2 - l2*l3 + l3**2)), sqrt(3)*((3*(l2 - l3)**2 + (-2*l1 + l2 + l3)**2)/(-2*l1 + l2 + l3)**2)**(3/2)*(-2*l1 + l2 + l3)**2*(3*(-l1 + l2)*(l2 - l3)**2*(cos(2*r*xi*sqrt(l1**2 - l1*l2 - l1*l3 + l2**2 - l2*l3 + l3**2)/3) - 1)*(3*L0 + l1 + l2 + l3)*(l1**2 - l1*l2 - l1*l3 + l2**2 - l2*l3 + l3**2) - (l2 - l3)*(3*(l2 - l3)**2 + (-2*l1 + l2 + l3)**2)*(cos(2*r*xi*sqrt(l1**2 - l1*l2 - l1*l3 + l2**2 - l2*l3 + l3**2)/3) - 1)*(-2*l1 + l2 + l3)*(l1 + l2 - 2*l3)*(3*L0 + l1 + l2 + l3)/4 - (l2 - l3)*(3*(l2 - l3)**2 + (-2*l1 + l2 + l3)**2)*(cos(2*r*xi*sqrt(l1**2 - l1*l2 - l1*l3 + l2**2 - l2*l3 + l3**2)/3) - 1)*(3*L0 + l1 + l2 + l3)*(l1**2 - l1*l2 - l1*l3 + l2**2 - l2*l3 + l3**2)/2 + (3*(l2 - l3)**2 + (-2*l1 + l2 + l3)**2)*(-2*l1 + l2 + l3)*(r*xi*(l2 - l3)*(l1 + l2 - 2*l3)*(3*L0 + l1 + l2 + l3)*sin(2*r*xi*sqrt(l1**2 - l1*l2 - l1*l3 + l2**2 - l2*l3 + l3**2)/3) + 3*(l2 - l3)*(cos(2*r*xi*sqrt(l1**2 - l1*l2 - l1*l3 + l2**2 - l2*l3 + l3**2)/3) - 1)*sqrt(l1**2 - l1*l2 - l1*l3 + l2**2 - l2*l3 + l3**2) - 3*(cos(2*r*xi*sqrt(l1**2 - l1*l2 - l1*l3 + l2**2 - l2*l3 + l3**2)/3) - 1)*(3*L0 + l1 + l2 + l3)*sqrt(l1**2 - l1*l2 - l1*l3 + l2**2 - l2*l3 + l3**2))*sqrt(l1**2 - l1*l2 - l1*l3 + l2**2 - l2*l3 + l3**2)/6)/((3*(l2 - l3)**2 + (-2*l1 + l2 + l3)**2)**3*sqrt(l1**2 - l1*l2 - l1*l3 + l2**2 - l2*l3 + l3**2))], [(2*(-r*xi*(-2*l1 + l2 + l3)*(3*L0 + l1 + l2 + l3)*cos(2*r*xi*sqrt(l1**2 - l1*l2 - l1*l3 + l2**2 - l2*l3 + l3**2)/3) + 3*sqrt(l1**2 - l1*l2 - l1*l3 + l2**2 - l2*l3 + l3**2)*sin(2*r*xi*sqrt(l1**2 - l1*l2 - l1*l3 + l2**2 - l2*l3 + l3**2)/3))*sqrt(l1**2 - l1*l2 - l1*l3 + l2**2 - l2*l3 + l3**2) - 3*(-2*l1 + l2 + l3)*(3*L0 + l1 + l2 + l3)*sin(2*r*xi*sqrt(l1**2 - l1*l2 - l1*l3 + l2**2 - l2*l3 + l3**2)/3))/(12*sqrt(l1**2 - l1*l2 - l1*l3 + l2**2 - l2*l3 + l3**2)), (2*(-r*xi*(l1 - 2*l2 + l3)*(3*L0 + l1 + l2 + l3)*cos(2*r*xi*sqrt(l1**2 - l1*l2 - l1*l3 + l2**2 - l2*l3 + l3**2)/3) + 3*sqrt(l1**2 - l1*l2 - l1*l3 + l2**2 - l2*l3 + l3**2)*sin(2*r*xi*sqrt(l1**2 - l1*l2 - l1*l3 + l2**2 - l2*l3 + l3**2)/3))*sqrt(l1**2 - l1*l2 - l1*l3 + l2**2 - l2*l3 + l3**2) - 3*(l1 - 2*l2 + l3)*(3*L0 + l1 + l2 + l3)*sin(2*r*xi*sqrt(l1**2 - l1*l2 - l1*l3 + l2**2 - l2*l3 + l3**2)/3))/(12*sqrt(l1**2 - l1*l2 - l1*l3 + l2**2 - l2*l3 + l3**2)), (2*(-r*xi*(l1 + l2 - 2*l3)*(3*L0 + l1 + l2 + l3)*cos(2*r*xi*sqrt(l1**2 - l1*l2 - l1*l3 + l2**2 - l2*l3 + l3**2)/3) + 3*sqrt(l1**2 - l1*l2 - l1*l3 + l2**2 - l2*l3 + l3**2)*sin(2*r*xi*sqrt(l1**2 - l1*l2 - l1*l3 + l2**2 - l2*l3 + l3**2)/3))*sqrt(l1**2 - l1*l2 - l1*l3 + l2**2 - l2*l3 + l3**2) - 3*(l1 + l2 - 2*l3)*(3*L0 + l1 + l2 + l3)*sin(2*r*xi*sqrt(l1**2 - l1*l2 - l1*l3 + l2**2 - l2*l3 + l3**2)/3))/(12*sqrt(l1**2 - l1*l2 - l1*l3 + l2**2 - l2*l3 + l3**2))]])\n"
     ]
    }
   ],
   "source": [
    "print(J_all)"
   ]
  }
 ],
 "metadata": {
  "interpreter": {
   "hash": "368756e83d2084993ac505becbe47825c8a72b0fc53c20a5043bb5b908d065dc"
  },
  "kernelspec": {
   "display_name": "Python 3.8.8 64-bit ('base': conda)",
   "language": "python",
   "name": "python3"
  },
  "language_info": {
   "codemirror_mode": {
    "name": "ipython",
    "version": 3
   },
   "file_extension": ".py",
   "mimetype": "text/x-python",
   "name": "python",
   "nbconvert_exporter": "python",
   "pygments_lexer": "ipython3",
   "version": "3.8.8"
  },
  "orig_nbformat": 4
 },
 "nbformat": 4,
 "nbformat_minor": 2
}
