{
 "cells": [
  {
   "cell_type": "markdown",
   "metadata": {},
   "source": [
    "# ヤコビ行列とヘッセ行列の計算"
   ]
  },
  {
   "cell_type": "code",
   "execution_count": null,
   "metadata": {},
   "outputs": [],
   "source": [
    "import sympy as sy\n",
    "from sympy import sqrt\n",
    "\n",
    "\n",
    "t = sy.Symbol(\"t\")\n",
    "l1, l2, l3 = sy.symbols(\"l1, l2, l3\")\n",
    "xi = sy.Symbol(\"xi\")\n",
    "c1, c2, c3, c4, c5, c6, c7, c8, c9, L0, r = sy.symbols(\n",
    "    \"c1, c2, c3, c4, c5, c6, c7, c8, c9, L0, r\"\n",
    ")\n",
    "\n",
    "L = sy.Matrix([[l1, l2, l3]]).T\n",
    "\n",
    "\n",
    "def calc_X(L, xi):\n",
    "    \"\"\"アクチュエータ空間からタスク空間への写像\n",
    "    \n",
    "    L = [L[0,0], L[1,0], L[2,0]] -> X = [x, y, z]\n",
    "    \"\"\"\n",
    "    \n",
    "    \n",
    "    A1 = L[0,0]**2 + L[1,0]**2 + L[1,0]**2 - \\\n",
    "        L[0,0]*L[1,0] - L[0,0]*L[2,0] - L[1,0]*L[2,0]\n",
    "    A2 = 2*L[0,0] - L[1,0] - L[2,0]\n",
    "    A3 = L[1,0] - L[2,0]\n",
    "    A4 = 3*L0 + L[0,0] + L[1,0] + L[2,0]\n",
    "    \n",
    "    x = -(A2 * A1**4 * A4 * xi**10) / ((c1 * r**9)) + \\\n",
    "        (A2 * A1**3 * A4 * xi**8) / (c2 * r**7) - \\\n",
    "            (A2 * A1**2 * A4 * xi**6) / (c3 * r**5) + \\\n",
    "                (A2 * A1 * A4 * xi**4) / (c4 * r**3) - \\\n",
    "                    (A2 * A4 * xi**2) / (c5 * r)\n",
    "    \n",
    "    y = -(sqrt(3) * A4 * A3 * A1**4 * xi**10) / (c1 * r**9) + \\\n",
    "        (sqrt(3) * A4 * A3 * A1**3 * xi**8) / (c2 * r**7) - \\\n",
    "            (sqrt(3) * A4 * A3 * A1**2 * xi**6) / (c3 * r**5) + \\\n",
    "                (sqrt(3) * A4 * A1 * A2 * xi**4) / (c4 * r**3) - \\\n",
    "                    (sqrt(3) * A4 * A3 * xi**2) / (c5 * r)\n",
    "    \n",
    "    z = (2 * A1**4 * A4 * xi**9) / (c6 * r**8) - \\\n",
    "        (4 * A1**3 * A4 * xi**7) / (c7 * r**6) + \\\n",
    "            (2 * A1**2 * A4 * xi**5) / (c8 * r**4) - \\\n",
    "                (2 * A1 *A4 * xi**3) / (c9 * r**2) + \\\n",
    "                    (A4 * xi) / 3\n",
    "\n",
    "    return sy.Matrix([[x, y, z]]).T\n"
   ]
  },
  {
   "cell_type": "markdown",
   "metadata": {},
   "source": [
    "ヤコビ行列を計算"
   ]
  },
  {
   "cell_type": "code",
   "execution_count": null,
   "metadata": {},
   "outputs": [],
   "source": [
    "X = calc_X(L, xi)\n",
    "\n",
    "J = X.jacobian(L)\n",
    "J"
   ]
  },
  {
   "cell_type": "code",
   "execution_count": null,
   "metadata": {},
   "outputs": [],
   "source": [
    "print(J)"
   ]
  },
  {
   "cell_type": "markdown",
   "metadata": {},
   "source": [
    "誤差関数の絶対値のヤコビ行列とヘッセ行列を計算"
   ]
  },
  {
   "cell_type": "code",
   "execution_count": null,
   "metadata": {},
   "outputs": [],
   "source": [
    "xd, yd, zd = sy.symbols(\"xd, yd, zd\")\n",
    "\n",
    "\n",
    "e = sy.sqrt((xd - X[0,0])**2 + (yd - X[1,0])**2 + (zd - X[2,0])**2)\n",
    "\n",
    "Je = sy.Matrix([\n",
    "    [sy.diff(e, l1)],\n",
    "    [sy.diff(e, l2)],\n",
    "    [sy.diff(e, l3)],\n",
    "])\n",
    "#Je.simplify()"
   ]
  },
  {
   "cell_type": "code",
   "execution_count": null,
   "metadata": {},
   "outputs": [],
   "source": [
    "print(Je)"
   ]
  },
  {
   "cell_type": "code",
   "execution_count": null,
   "metadata": {},
   "outputs": [],
   "source": [
    "H = sy.matrices.dense.hessian(e, L)\n",
    "#H.simplify()\n",
    "print(H)"
   ]
  }
 ],
 "metadata": {
  "interpreter": {
   "hash": "f4dfc3534a11df64ca8ab5b1d0d5f00bece38226cd6557b9a8a26359d97dd2dd"
  },
  "kernelspec": {
   "display_name": "Python 3.8.8 64-bit ('base': conda)",
   "language": "python",
   "name": "python3"
  },
  "language_info": {
   "codemirror_mode": {
    "name": "ipython",
    "version": 3
   },
   "file_extension": ".py",
   "mimetype": "text/x-python",
   "name": "python",
   "nbconvert_exporter": "python",
   "pygments_lexer": "ipython3",
   "version": "3.8.8"
  },
  "orig_nbformat": 4
 },
 "nbformat": 4,
 "nbformat_minor": 2
}
