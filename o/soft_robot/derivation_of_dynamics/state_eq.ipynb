{
 "cells": [
  {
   "cell_type": "markdown",
   "metadata": {},
   "source": [
    "# 状態方程式の導出"
   ]
  },
  {
   "cell_type": "code",
   "execution_count": 18,
   "metadata": {},
   "outputs": [
    {
     "data": {
      "text/latex": [
       "$\\displaystyle K q + a M{\\left(q \\right)} + \\omega \\left(D + C{\\left(q,\\omega \\right)}\\right) - \\tau + G{\\left(q \\right)} + H{\\left(q,\\omega \\right)}$"
      ],
      "text/plain": [
       "K*q + a*M(q) + omega*(D + C(q, omega)) - tau + G(q) + H(q, omega)"
      ]
     },
     "execution_count": 18,
     "metadata": {},
     "output_type": "execute_result"
    }
   ],
   "source": [
    "import sympy as sy\n",
    "\n",
    "q, omega, a = sy.symbols(\"q, omega, a\")\n",
    "M = sy.Function(\"M\")\n",
    "C = sy.Function(\"C\")\n",
    "G = sy.Function(\"G\")\n",
    "H = sy.Function(\"H\")\n",
    "K, D = sy.symbols(\"K, D\")\n",
    "\n",
    "tau = sy.Symbol(\"tau\")\n",
    "\n",
    "M(q)*a + (C(q, omega)+D)*omega + K*q + G(q) + H(q, omega)-tau"
   ]
  },
  {
   "cell_type": "code",
   "execution_count": 17,
   "metadata": {},
   "outputs": [
    {
     "data": {
      "text/latex": [
       "$\\displaystyle K q + a M{\\left(q \\right)} + \\omega \\left(D + C{\\left(q,\\omega \\right)}\\right) + G{\\left(q \\right)} + H{\\left(q,\\omega \\right)}$"
      ],
      "text/plain": [
       "K*q + a*M(q) + omega*(D + C(q, omega)) + G(q) + H(q, omega)"
      ]
     },
     "execution_count": 17,
     "metadata": {},
     "output_type": "execute_result"
    }
   ],
   "source": [
    "tau"
   ]
  }
 ],
 "metadata": {
  "interpreter": {
   "hash": "368756e83d2084993ac505becbe47825c8a72b0fc53c20a5043bb5b908d065dc"
  },
  "kernelspec": {
   "display_name": "Python 3.9.7 64-bit ('base': conda)",
   "language": "python",
   "name": "python3"
  },
  "language_info": {
   "codemirror_mode": {
    "name": "ipython",
    "version": 3
   },
   "file_extension": ".py",
   "mimetype": "text/x-python",
   "name": "python",
   "nbconvert_exporter": "python",
   "pygments_lexer": "ipython3",
   "version": "3.9.7"
  },
  "orig_nbformat": 4
 },
 "nbformat": 4,
 "nbformat_minor": 2
}
