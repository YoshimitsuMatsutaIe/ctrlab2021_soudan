{
 "cells": [
  {
   "cell_type": "code",
   "execution_count": 17,
   "metadata": {},
   "outputs": [],
   "source": [
    "import sympy as sy\n",
    "from sympy.utilities.codegen import codegen\n",
    "\n",
    "x, a, b, c = sy.symbols(\"x a b c\")\n",
    "\n",
    "f = sy.Matrix([[x, a], [b, c]])\n",
    "\n"
   ]
  },
  {
   "cell_type": "code",
   "execution_count": 18,
   "metadata": {},
   "outputs": [],
   "source": [
    "args = (x, a, b, c)\n",
    "func = sy.lambdify(args, f, \"numpy\")"
   ]
  },
  {
   "cell_type": "code",
   "execution_count": 19,
   "metadata": {},
   "outputs": [
    {
     "data": {
      "text/plain": [
       "array([[0, 1],\n",
       "       [2, 3]])"
      ]
     },
     "execution_count": 19,
     "metadata": {},
     "output_type": "execute_result"
    }
   ],
   "source": [
    "func(0, 1, 2, 3)"
   ]
  },
  {
   "cell_type": "code",
   "execution_count": 20,
   "metadata": {},
   "outputs": [],
   "source": [
    "[(c_name, c_code), (h_name, c_header)] = codegen(\n",
    "    name_expr=(\"diff\", f),\n",
    "    language=\"C\",\n",
    "    project=\"multi_pendulum\",\n",
    "    to_files=False\n",
    ")"
   ]
  },
  {
   "cell_type": "code",
   "execution_count": 21,
   "metadata": {},
   "outputs": [
    {
     "name": "stdout",
     "output_type": "stream",
     "text": [
      "diff.c\n",
      "/******************************************************************************\n",
      " *                       Code generated with sympy 1.8                        *\n",
      " *                                                                            *\n",
      " *              See http://www.sympy.org/ for more information.               *\n",
      " *                                                                            *\n",
      " *                   This file is part of 'multi_pendulum'                    *\n",
      " ******************************************************************************/\n",
      "#include \"diff.h\"\n",
      "#include <math.h>\n",
      "\n",
      "void diff(double a, double b, double c, double x, double *out_8456883115516561320) {\n",
      "\n",
      "   out_8456883115516561320[0] = x;\n",
      "   out_8456883115516561320[1] = a;\n",
      "   out_8456883115516561320[2] = b;\n",
      "   out_8456883115516561320[3] = c;\n",
      "\n",
      "}\n",
      "\n",
      "diff.h\n",
      "/******************************************************************************\n",
      " *                       Code generated with sympy 1.8                        *\n",
      " *                                                                            *\n",
      " *              See http://www.sympy.org/ for more information.               *\n",
      " *                                                                            *\n",
      " *                   This file is part of 'multi_pendulum'                    *\n",
      " ******************************************************************************/\n",
      "\n",
      "\n",
      "#ifndef MULTI_PENDULUM__DIFF__H\n",
      "#define MULTI_PENDULUM__DIFF__H\n",
      "\n",
      "void diff(double a, double b, double c, double x, double *out_8456883115516561320);\n",
      "\n",
      "#endif\n",
      "\n",
      "\n"
     ]
    }
   ],
   "source": [
    "print( c_name )\n",
    "print( c_code )\n",
    "print( h_name )\n",
    "print( c_header )\n",
    "\n",
    "f = open(c_name, 'w')\n",
    "f.write(c_code)\n",
    "f.close()\n",
    "\n",
    "f = open(h_name, 'w')\n",
    "f.write(c_header)\n",
    "f.close()"
   ]
  }
 ],
 "metadata": {
  "interpreter": {
   "hash": "368756e83d2084993ac505becbe47825c8a72b0fc53c20a5043bb5b908d065dc"
  },
  "kernelspec": {
   "display_name": "Python 3.8.8 64-bit ('base': conda)",
   "language": "python",
   "name": "python3"
  },
  "language_info": {
   "codemirror_mode": {
    "name": "ipython",
    "version": 3
   },
   "file_extension": ".py",
   "mimetype": "text/x-python",
   "name": "python",
   "nbconvert_exporter": "python",
   "pygments_lexer": "ipython3",
   "version": "3.8.8"
  },
  "orig_nbformat": 4
 },
 "nbformat": 4,
 "nbformat_minor": 2
}
