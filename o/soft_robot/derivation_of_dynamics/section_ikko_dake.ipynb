{
 "cells": [
  {
   "cell_type": "markdown",
   "metadata": {},
   "source": [
    "# セクション一個だけのダイナミクスを導出"
   ]
  },
  {
   "cell_type": "markdown",
   "metadata": {},
   "source": [
    "必要なものをインポート"
   ]
  },
  {
   "cell_type": "code",
   "execution_count": 2,
   "metadata": {},
   "outputs": [],
   "source": [
    "import sympy as sy\n",
    "from sympy.printing.numpy import NumPyPrinter\n",
    "from sympy import julia_code\n",
    "import tqdm\n",
    "import os\n",
    "from pathlib import Path\n",
    "\n",
    "\n",
    "from kinematics import Local\n",
    "from dynamics import operate_V, operate_tilde, operate_T2\n",
    "from dynamics import Dynamics\n",
    "\n"
   ]
  },
  {
   "cell_type": "code",
   "execution_count": 3,
   "metadata": {},
   "outputs": [],
   "source": [
    "# パラメータ\n",
    "Ixx = 1.0\n",
    "m = 0.13\n",
    "G_v = sy.Matrix([[0, 0, -9.81]]).T\n",
    "Ki = 1700  # 弾性係数\n",
    "Di = 110  # ダンピング"
   ]
  },
  {
   "cell_type": "markdown",
   "metadata": {},
   "source": [
    "変数を宣言"
   ]
  },
  {
   "cell_type": "code",
   "execution_count": 4,
   "metadata": {},
   "outputs": [],
   "source": [
    "# アクチュエータベクトル\n",
    "l1, l2, l3 = sy.symbols(\"l1, l2, l3\")\n",
    "q = sy.Matrix([[l1, l2, l3]]).T\n",
    "\n",
    "# アクチュエータベクトルの微分\n",
    "l1_dot, l2_dot, l3_dot = sy.symbols(\"l1_dot, l2_dot, l3_dot\")\n",
    "q_dot = sy.Matrix([[l1_dot, l2_dot, l3_dot]]).T\n",
    "\n",
    "# ディスク位置を表すスカラ変数\n",
    "xi = sy.Symbol(\"xi\")"
   ]
  },
  {
   "cell_type": "markdown",
   "metadata": {},
   "source": [
    "運動学関係"
   ]
  },
  {
   "cell_type": "code",
   "execution_count": 5,
   "metadata": {},
   "outputs": [],
   "source": [
    "kinema = Local()\n",
    "\n",
    "P = kinema.P(q, xi)  # 位置ベクトル\n",
    "R = kinema.R(q, xi)  # 回転行列\n",
    "\n",
    "\n",
    "# 位置のアクチュエータ微分\n",
    "dPdl1 = sy.diff(P, l1)\n",
    "dPdl2 = sy.diff(P, l2)\n",
    "dPdl3 = sy.diff(P, l3)\n",
    "\n",
    "# 回転行列のアクチュエータ微分\n",
    "dRdl1 = sy.diff(R, l1)\n",
    "dRdl2 = sy.diff(R, l2)\n",
    "dRdl3 = sy.diff(R, l3)"
   ]
  },
  {
   "cell_type": "markdown",
   "metadata": {},
   "source": [
    "慣性行列"
   ]
  },
  {
   "cell_type": "code",
   "execution_count": 6,
   "metadata": {},
   "outputs": [],
   "source": [
    "# 回転方向の慣性行列\n",
    "M_omega_1_1 = Ixx * sy.integrate(\n",
    "    operate_T2(dRdl1 * dRdl1),\n",
    "    (xi, 0, 1)\n",
    ")\n",
    "M_omega_1_2 = Ixx * sy.integrate(\n",
    "    operate_T2(dRdl1 * dRdl2),\n",
    "    (xi, 0, 1)\n",
    ")\n",
    "M_omega_1_3 = Ixx * sy.integrate(\n",
    "    operate_T2(dRdl1 * dRdl3),\n",
    "    (xi, 0, 1)\n",
    ")\n",
    "M_omega_2_1 = Ixx * sy.integrate(\n",
    "    operate_T2(dRdl2 * dRdl1),\n",
    "    (xi, 0, 1)\n",
    ")\n",
    "M_omega_2_2 = Ixx * sy.integrate(\n",
    "    operate_T2(dRdl2 * dRdl2),\n",
    "    (xi, 0, 1)\n",
    ")\n",
    "M_omega_2_3 = Ixx * sy.integrate(\n",
    "    operate_T2(dRdl2 * dRdl3),\n",
    "    (xi, 0, 1)\n",
    ")\n",
    "M_omega_3_1 = Ixx * sy.integrate(\n",
    "    operate_T2(dRdl3 * dRdl1),\n",
    "    (xi, 0, 1)\n",
    ")\n",
    "M_omega_3_2 = Ixx * sy.integrate(\n",
    "    operate_T2(dRdl3 * dRdl2),\n",
    "    (xi, 0, 1)\n",
    ")\n",
    "M_omega_3_3 = Ixx * sy.integrate(\n",
    "    operate_T2(dRdl3 * dRdl3),\n",
    "    (xi, 0, 1)\n",
    ")\n",
    "M_omega = sy.Matrix([\n",
    "    [M_omega_1_1, M_omega_1_2, M_omega_1_3],\n",
    "    [M_omega_2_1, M_omega_2_2, M_omega_2_3],\n",
    "    [M_omega_3_1, M_omega_3_2, M_omega_3_3],\n",
    "])\n"
   ]
  },
  {
   "cell_type": "code",
   "execution_count": 7,
   "metadata": {},
   "outputs": [],
   "source": [
    "# 並進運動の回転行列\n",
    "M_v_1_1 = m * sy.integrate(\n",
    "    dPdl1.T * dPdl1,\n",
    "    (xi, 0, 1)\n",
    ")\n",
    "M_v_1_2 = m * sy.integrate(\n",
    "    dPdl1.T * dPdl2,\n",
    "    (xi, 0, 1)\n",
    ")\n",
    "M_v_1_3 = m * sy.integrate(\n",
    "    dPdl1.T * dPdl3,\n",
    "    (xi, 0, 1)\n",
    ")\n",
    "M_v_2_1 = m * sy.integrate(\n",
    "    dPdl2.T * dPdl1,\n",
    "    (xi, 0, 1)\n",
    ")\n",
    "M_v_2_2 = m * sy.integrate(\n",
    "    dPdl2.T * dPdl2,\n",
    "    (xi, 0, 1)\n",
    ")\n",
    "M_v_2_3 = m * sy.integrate(\n",
    "    dPdl2.T * dPdl3,\n",
    "    (xi, 0, 1)\n",
    ")\n",
    "M_v_3_1 = m * sy.integrate(\n",
    "    dPdl3.T * dPdl1,\n",
    "    (xi, 0, 1)\n",
    ")\n",
    "M_v_3_2 = m * sy.integrate(\n",
    "    dPdl3.T * dPdl2,\n",
    "    (xi, 0, 1)\n",
    ")\n",
    "M_v_3_3 = m * sy.integrate(\n",
    "    dPdl3.T * dPdl3,\n",
    "    (xi, 0, 1)\n",
    ")\n",
    "M_v = sy.Matrix([\n",
    "    [M_v_1_1, M_v_1_2, M_v_1_3],\n",
    "    [M_v_2_1, M_v_2_2, M_v_2_3],\n",
    "    [M_v_3_1, M_v_3_2, M_v_3_3],\n",
    "])"
   ]
  },
  {
   "cell_type": "code",
   "execution_count": 8,
   "metadata": {},
   "outputs": [],
   "source": [
    "M = M_omega + M_v  # 慣性行列"
   ]
  },
  {
   "cell_type": "markdown",
   "metadata": {},
   "source": [
    "遠心力とコリオリ"
   ]
  },
  {
   "cell_type": "code",
   "execution_count": 9,
   "metadata": {},
   "outputs": [],
   "source": [
    "# 慣性行列のアクチュエータ微分\n",
    "M_1_1_diff_by_l1 = sy.diff(M[0, 0], l1)\n",
    "M_1_1_diff_by_l2 = sy.diff(M[0, 0], l2)\n",
    "M_1_1_diff_by_l3 = sy.diff(M[0, 0], l3)\n",
    "\n",
    "M_1_2_diff_by_l1 = sy.diff(M[0, 1], l1)\n",
    "M_1_2_diff_by_l2 = sy.diff(M[0, 1], l2)\n",
    "M_1_2_diff_by_l3 = sy.diff(M[0, 1], l3)\n",
    "\n",
    "M_1_3_diff_by_l1 = sy.diff(M[0, 2], l1)\n",
    "M_1_3_diff_by_l2 = sy.diff(M[0, 2], l2)\n",
    "M_1_3_diff_by_l3 = sy.diff(M[0, 2], l3)\n",
    "\n",
    "M_2_1_diff_by_l1 = sy.diff(M[1, 0], l1)\n",
    "M_2_1_diff_by_l2 = sy.diff(M[1, 0], l2)\n",
    "M_2_1_diff_by_l3 = sy.diff(M[1, 0], l3)\n",
    "\n",
    "M_2_2_diff_by_l1 = sy.diff(M[1, 1], l1)\n",
    "M_2_2_diff_by_l2 = sy.diff(M[1, 1], l2)\n",
    "M_2_2_diff_by_l3 = sy.diff(M[1, 1], l3)\n",
    "\n",
    "M_2_3_diff_by_l1 = sy.diff(M[1, 2], l1)\n",
    "M_2_3_diff_by_l2 = sy.diff(M[1, 2], l2)\n",
    "M_2_3_diff_by_l3 = sy.diff(M[1, 2], l3)\n",
    "\n",
    "M_3_1_diff_by_l1 = sy.diff(M[2, 0], l1)\n",
    "M_3_1_diff_by_l2 = sy.diff(M[2, 0], l2)\n",
    "M_3_1_diff_by_l3 = sy.diff(M[2, 0], l3)\n",
    "\n",
    "M_3_2_diff_by_l1 = sy.diff(M[2, 1], l1)\n",
    "M_3_2_diff_by_l2 = sy.diff(M[2, 1], l2)\n",
    "M_3_2_diff_by_l3 = sy.diff(M[2, 1], l3)\n",
    "\n",
    "M_3_3_diff_by_l1 = sy.diff(M[2, 2], l1)\n",
    "M_3_3_diff_by_l2 = sy.diff(M[2, 2], l2)\n",
    "M_3_3_diff_by_l3 = sy.diff(M[2, 2], l3)\n",
    "\n",
    "M_dot = [\n",
    "    [\n",
    "        [M_1_1_diff_by_l1, M_1_1_diff_by_l2, M_1_1_diff_by_l3,],\n",
    "        [M_1_2_diff_by_l1, M_1_2_diff_by_l2, M_1_3_diff_by_l3,],\n",
    "        [M_1_3_diff_by_l1, M_1_3_diff_by_l2, M_1_3_diff_by_l3,],\n",
    "    ],\n",
    "    [\n",
    "        [M_2_1_diff_by_l1, M_2_1_diff_by_l2, M_2_1_diff_by_l3,],\n",
    "        [M_2_2_diff_by_l1, M_2_2_diff_by_l2, M_2_3_diff_by_l3,],\n",
    "        [M_2_3_diff_by_l1, M_2_3_diff_by_l2, M_2_3_diff_by_l3,],\n",
    "    ],\n",
    "    [\n",
    "        [M_3_1_diff_by_l1, M_3_1_diff_by_l2, M_3_1_diff_by_l3,],\n",
    "        [M_3_2_diff_by_l1, M_3_2_diff_by_l2, M_3_3_diff_by_l3,],\n",
    "        [M_3_3_diff_by_l1, M_3_3_diff_by_l2, M_3_3_diff_by_l3,],\n",
    "    ],\n",
    "]  # 混乱するのでまとめる"
   ]
  },
  {
   "cell_type": "code",
   "execution_count": 10,
   "metadata": {},
   "outputs": [],
   "source": [
    "def Gamma(i, j, k):\n",
    "    \"\"\"慣性行列のクリストッフェル記号\"\"\"\n",
    "    return 1/2 * (M_dot[k][j][i] + M_dot[k][i][j] - M_dot[i][j][k])\n",
    "\n",
    "C_1_1 = sum([Gamma(0, 0, i) * q_dot[i, 0] for i in range(3)])\n",
    "C_1_2 = sum([Gamma(0, 1, i) * q_dot[i, 0] for i in range(3)])\n",
    "C_1_3 = sum([Gamma(0, 2, i) * q_dot[i, 0] for i in range(3)])\n",
    "\n",
    "C_2_1 = sum([Gamma(1, 0, i) * q_dot[i, 0] for i in range(3)])\n",
    "C_2_2 = sum([Gamma(1, 1, i) * q_dot[i, 0] for i in range(3)])\n",
    "C_2_3 = sum([Gamma(1, 2, i) * q_dot[i, 0] for i in range(3)])\n",
    "\n",
    "C_3_1 = sum([Gamma(2, 0, i) * q_dot[i, 0] for i in range(3)])\n",
    "C_3_2 = sum([Gamma(2, 1, i) * q_dot[i, 0] for i in range(3)])\n",
    "C_3_3 = sum([Gamma(2, 2, i) * q_dot[i, 0] for i in range(3)])\n",
    "\n",
    "C = sy.Matrix([\n",
    "    [C_1_1, C_1_2, C_1_3,],\n",
    "    [C_2_1, C_2_2, C_2_3,],\n",
    "    [C_3_1, C_3_2, C_3_3,],\n",
    "])  # コリオリ・遠心力"
   ]
  },
  {
   "cell_type": "markdown",
   "metadata": {},
   "source": [
    "重力ベクトル"
   ]
  },
  {
   "cell_type": "code",
   "execution_count": 11,
   "metadata": {},
   "outputs": [],
   "source": [
    "# 線速度ヤコビアン\n",
    "J_v_1 = R.T * dPdl1\n",
    "J_v_2 = R.T * dPdl2\n",
    "J_v_3 = R.T * dPdl3\n",
    "\n",
    "G_1 = m * sy.integrate(\n",
    "    J_v_1.T * R.T * G_v,\n",
    "    (xi, 0, 1)\n",
    ")\n",
    "G_2 = m * sy.integrate(\n",
    "    J_v_2.T * R.T * G_v,\n",
    "    (xi, 0, 1)\n",
    ")\n",
    "G_3 = m * sy.integrate(\n",
    "    J_v_3.T * R.T * G_v,\n",
    "    (xi, 0, 1)\n",
    ")\n",
    "G = sy.Matrix([[G_1, G_2, G_3]]).T  # 重力ベクトル"
   ]
  },
  {
   "cell_type": "markdown",
   "metadata": {},
   "source": [
    "その他"
   ]
  },
  {
   "cell_type": "code",
   "execution_count": 12,
   "metadata": {},
   "outputs": [],
   "source": [
    "K = sy.diag([Ki, Ki, Ki], unpack=True)\n",
    "D = sy.diag([Di, Di, Di], unpack=True)"
   ]
  },
  {
   "cell_type": "markdown",
   "metadata": {},
   "source": [
    "式を整理（時間かかる）"
   ]
  },
  {
   "cell_type": "code",
   "execution_count": 13,
   "metadata": {},
   "outputs": [],
   "source": [
    "M = sy.simplify(M)\n",
    "C = sy.simplify(C)\n",
    "G = sy.simplify(G)"
   ]
  },
  {
   "cell_type": "markdown",
   "metadata": {},
   "source": [
    "結果をファイルに保存"
   ]
  },
  {
   "cell_type": "code",
   "execution_count": null,
   "metadata": {},
   "outputs": [],
   "source": [
    "cwd = str(Path().resolve())\n",
    "base = cwd + \"/../derived/ikko_dake\""
   ]
  },
  {
   "cell_type": "code",
   "execution_count": 14,
   "metadata": {},
   "outputs": [],
   "source": [
    "# numpyスタイルの数式を生成\n",
    "dir_name = base + '/eqs/numpy_style'\n",
    "os.makedirs(dir_name, exist_ok=True)\n",
    "\n",
    "numpy_word = \"import numpy\\ndef f(q, q_dot, xi):\\n    l1, l2, l3 = q[0,0], q[1,0], q[2,0]\\n    l1_dot, l2_dot, l3_dot = q_dot[0,0], q_dot[1,0], q_dot[2,0]\\n\\n    return \"\n",
    "\n",
    "\n",
    "name = dir_name + \"/Phi0\" + \".py\"\n",
    "f = open(name, 'w')\n",
    "f.write(numpy_word)\n",
    "f.write(NumPyPrinter().doprint(P))\n",
    "f.close()\n",
    "\n",
    "\n",
    "name = dir_name + \"/Theta0\" + \".py\"\n",
    "f = open(name, 'w')\n",
    "f.write(numpy_word)\n",
    "f.write(NumPyPrinter().doprint(R))\n",
    "f.close()\n",
    "\n",
    "for i in range(3):\n",
    "    for j in range(3):\n",
    "        f = open(dir_name + \"/M\" + str(i) + \"_\" + str(j) + \".py\", 'w')\n",
    "        f.write(numpy_word)\n",
    "        f.write(NumPyPrinter().doprint(M[i, j]))\n",
    "        f.close()\n",
    "\n",
    "for i in range(3):\n",
    "    for j in range(3):\n",
    "        f = open(dir_name + \"/C\" + str(i) + \"_\" + str(j) + \".py\", 'w')\n",
    "        f.write(numpy_word)\n",
    "        f.write(NumPyPrinter().doprint(C[i, j]))\n",
    "        f.close()\n",
    "\n",
    "for i in range(3):\n",
    "    f = open(dir_name + \"/G\" + str(i) + \".py\", 'w')\n",
    "    f.write(numpy_word)\n",
    "    f.write(NumPyPrinter().doprint(G[i, 0]))\n",
    "    f.close()\n",
    "\n",
    "f = open(dir_name + \"/K\" + \".py\", 'w')\n",
    "f.write(numpy_word)\n",
    "f.write(NumPyPrinter().doprint(K))\n",
    "f.close()\n",
    "\n",
    "f = open(dir_name + \"/D\" + \".py\", 'w')\n",
    "f.write(numpy_word)\n",
    "f.write(NumPyPrinter().doprint(D))\n",
    "f.close()\n"
   ]
  },
  {
   "cell_type": "code",
   "execution_count": 15,
   "metadata": {},
   "outputs": [],
   "source": [
    "# じゅりあのコード生成\n",
    "dir_name = base + '/eqs/julia_style'\n",
    "os.makedirs(dir_name, exist_ok=True)\n",
    "\n",
    "julia_word = \"function f(q::Vector{T}, q_dot::Vector{T}, xi::T) where T\\n    l1 = q[1]\\n    l2 = q[2]\\n    l3 = q[3]\\n    l1_dot = q_dot[1]\\n    l2_dot = q_dot[2]\\n    l3_dot = q_dot[3]\\n    \\n    \"\n",
    "\n",
    "\n",
    "name = dir_name + \"/Phi0\" + \".jl\"\n",
    "f = open(name, 'w')\n",
    "f.write(\"module \" + \"Phi\" + \"\\n\")\n",
    "f.write(julia_word)\n",
    "f.write(julia_code(P))\n",
    "f.write(\"\\nend\\nend\")\n",
    "f.close()\n",
    "\n",
    "\n",
    "name = dir_name + \"/Theta0\" + \".jl\"\n",
    "f = open(name, 'w')\n",
    "f.write(\"module \" + \"Theta\" + \"\\n\")\n",
    "f.write(julia_word)\n",
    "f.write(julia_code(R))\n",
    "f.write(\"\\nend\\nend\")\n",
    "f.close()\n",
    "\n",
    "for i in range(3):\n",
    "    for j in range(3):\n",
    "        f = open(dir_name + \"/M\" + str(i) + \"_\" + str(j) + \".jl\", 'w')\n",
    "        f.write(\"module \" + \"M\" + str(i) + \"_\" + str(j) + \"\\n\")\n",
    "        f.write(julia_word)\n",
    "        f.write(julia_code(M[i, j]))\n",
    "        f.write(\"\\nend\\nend\")\n",
    "        f.close()\n",
    "\n",
    "for i in range(3):\n",
    "    for j in range(3):\n",
    "        f = open(dir_name + \"/C\" + str(i) + \"_\" + str(j) + \".jl\", 'w')\n",
    "        f.write(\"module \" + \"C\" + str(i) + \"_\" + str(j) + \"\\n\")\n",
    "        f.write(julia_word)\n",
    "        f.write(julia_code(C[i, j]))\n",
    "        f.write(\"\\nend\\nend\")\n",
    "        f.close()\n",
    "\n",
    "for i in range(3):\n",
    "    f = open(dir_name + \"/G\" + str(i) + \".jl\", 'w')\n",
    "    f.write(\"module \" + \"G\" + str(i) + \"\\n\")\n",
    "    f.write(julia_word)\n",
    "    f.write(julia_code(G[i, 0]))\n",
    "    f.write(\"\\nend\\nend\")\n",
    "    f.close()\n",
    "\n",
    "f = open(dir_name + \"/K\" + \".jl\", 'w')\n",
    "f.write(\"module \" + \"G\" + \"\\n\")\n",
    "f.write(julia_word)\n",
    "f.write(julia_code(K))\n",
    "f.write(\"\\nend\\nend\")\n",
    "f.close()\n",
    "\n",
    "f = open(dir_name + \"/D\" + \".jl\", 'w')\n",
    "f.write(\"module \" + \"G\" + \"\\n\")\n",
    "f.write(julia_word)\n",
    "f.write(julia_code(D))\n",
    "f.write(\"\\nend\\nend\")\n",
    "f.close()\n"
   ]
  }
 ],
 "metadata": {
  "interpreter": {
   "hash": "368756e83d2084993ac505becbe47825c8a72b0fc53c20a5043bb5b908d065dc"
  },
  "kernelspec": {
   "display_name": "Python 3.9.7 64-bit ('base': conda)",
   "language": "python",
   "name": "python3"
  },
  "language_info": {
   "codemirror_mode": {
    "name": "ipython",
    "version": 3
   },
   "file_extension": ".py",
   "mimetype": "text/x-python",
   "name": "python",
   "nbconvert_exporter": "python",
   "pygments_lexer": "ipython3",
   "version": "3.9.7"
  },
  "orig_nbformat": 4
 },
 "nbformat": 4,
 "nbformat_minor": 2
}
