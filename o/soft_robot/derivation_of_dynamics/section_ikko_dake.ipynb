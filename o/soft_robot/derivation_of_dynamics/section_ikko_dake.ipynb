{
 "cells": [
  {
   "cell_type": "markdown",
   "metadata": {},
   "source": [
    "# セクション一個だけのダイナミクスを導出"
   ]
  },
  {
   "cell_type": "markdown",
   "metadata": {},
   "source": [
    "必要なものをインポート"
   ]
  },
  {
   "cell_type": "code",
   "execution_count": 11,
   "metadata": {},
   "outputs": [],
   "source": [
    "import sympy as sy\n",
    "import tqdm\n",
    "\n",
    "\n",
    "from kinematics import Local\n",
    "from dynamics import operate_V, operate_tilde, operate_T2\n",
    "from dynamics import Dynamics\n",
    "\n"
   ]
  },
  {
   "cell_type": "code",
   "execution_count": 12,
   "metadata": {},
   "outputs": [],
   "source": [
    "# パラメータ\n",
    "Ixx = 1.0\n",
    "m = 0.13\n",
    "g = sy.Matrix([[0, 0, -9.81]]).T\n",
    "k_e = 1700  # 弾性係数"
   ]
  },
  {
   "cell_type": "markdown",
   "metadata": {},
   "source": [
    "変数を宣言"
   ]
  },
  {
   "cell_type": "code",
   "execution_count": 13,
   "metadata": {},
   "outputs": [],
   "source": [
    "# アクチュエータベクトル\n",
    "l1, l2, l3 = sy.symbols(\"l1, l2, l3\")\n",
    "q = sy.Matrix([[l1, l2, l3]]).T\n",
    "\n",
    "# アクチュエータベクトルの微分\n",
    "l1_dot, l2_dot, l3_dot = sy.symbols(\"l1_dot, l2_dot, l3_dot\")\n",
    "q_dot = sy.Matrix([[l1_dot, l2_dot, l3_dot]]).T\n",
    "\n",
    "# ディスク位置を表すスカラ変数\n",
    "xi = sy.Symbol(\"xi\")"
   ]
  },
  {
   "cell_type": "markdown",
   "metadata": {},
   "source": [
    "運動学関係"
   ]
  },
  {
   "cell_type": "code",
   "execution_count": 14,
   "metadata": {},
   "outputs": [],
   "source": [
    "kinema = Local()\n",
    "\n",
    "P = kinema.P(q, xi)  # 位置ベクトル\n",
    "R = kinema.R(q, xi)  # 回転行列\n",
    "\n",
    "\n",
    "# 位置のアクチュエータ微分\n",
    "dPdl1 = sy.diff(P, l1)\n",
    "dPdl2 = sy.diff(P, l2)\n",
    "dPdl3 = sy.diff(P, l3)\n",
    "\n",
    "# 回転行列のアクチュエータ微分\n",
    "dRdl1 = sy.diff(R, l1)\n",
    "dRdl2 = sy.diff(R, l2)\n",
    "dRdl3 = sy.diff(R, l3)"
   ]
  },
  {
   "cell_type": "markdown",
   "metadata": {},
   "source": [
    "慣性行列"
   ]
  },
  {
   "cell_type": "code",
   "execution_count": 16,
   "metadata": {},
   "outputs": [],
   "source": [
    "# 回転方向の慣性行列\n",
    "M_omega_1_1 = Ixx * sy.integrate(\n",
    "    operate_T2(dRdl1 * dRdl1),\n",
    "    (xi, 0, 1)\n",
    ")\n",
    "M_omega_1_2 = Ixx * sy.integrate(\n",
    "    operate_T2(dRdl1 * dRdl2),\n",
    "    (xi, 0, 1)\n",
    ")\n",
    "M_omega_1_3 = Ixx * sy.integrate(\n",
    "    operate_T2(dRdl1 * dRdl3),\n",
    "    (xi, 0, 1)\n",
    ")\n",
    "M_omega_2_1 = Ixx * sy.integrate(\n",
    "    operate_T2(dRdl2 * dRdl1),\n",
    "    (xi, 0, 1)\n",
    ")\n",
    "M_omega_2_2 = Ixx * sy.integrate(\n",
    "    operate_T2(dRdl2 * dRdl2),\n",
    "    (xi, 0, 1)\n",
    ")\n",
    "M_omega_2_3 = Ixx * sy.integrate(\n",
    "    operate_T2(dRdl2 * dRdl3),\n",
    "    (xi, 0, 1)\n",
    ")\n",
    "M_omega_3_1 = Ixx * sy.integrate(\n",
    "    operate_T2(dRdl3 * dRdl1),\n",
    "    (xi, 0, 1)\n",
    ")\n",
    "M_omega_3_2 = Ixx * sy.integrate(\n",
    "    operate_T2(dRdl3 * dRdl2),\n",
    "    (xi, 0, 1)\n",
    ")\n",
    "M_omega_3_3 = Ixx * sy.integrate(\n",
    "    operate_T2(dRdl3 * dRdl3),\n",
    "    (xi, 0, 1)\n",
    ")\n",
    "M_omega = sy.Matrix([\n",
    "    [M_omega_1_1, M_omega_1_2, M_omega_1_3],\n",
    "    [M_omega_2_1, M_omega_2_2, M_omega_2_3],\n",
    "    [M_omega_3_1, M_omega_3_2, M_omega_3_3],\n",
    "])\n"
   ]
  },
  {
   "cell_type": "code",
   "execution_count": 17,
   "metadata": {},
   "outputs": [],
   "source": [
    "# 並進運動の回転行列\n",
    "M_v_1_1 = m * sy.integrate(\n",
    "    dPdl1.T * dPdl1,\n",
    "    (xi, 0, 1)\n",
    ")\n",
    "M_v_1_2 = m * sy.integrate(\n",
    "    dPdl1.T * dPdl2,\n",
    "    (xi, 0, 1)\n",
    ")\n",
    "M_v_1_3 = m * sy.integrate(\n",
    "    dPdl1.T * dPdl3,\n",
    "    (xi, 0, 1)\n",
    ")\n",
    "M_v_2_1 = m * sy.integrate(\n",
    "    dPdl2.T * dPdl1,\n",
    "    (xi, 0, 1)\n",
    ")\n",
    "M_v_2_2 = m * sy.integrate(\n",
    "    dPdl2.T * dPdl2,\n",
    "    (xi, 0, 1)\n",
    ")\n",
    "M_v_2_3 = m * sy.integrate(\n",
    "    dPdl2.T * dPdl3,\n",
    "    (xi, 0, 1)\n",
    ")\n",
    "M_v_3_1 = m * sy.integrate(\n",
    "    dPdl3.T * dPdl1,\n",
    "    (xi, 0, 1)\n",
    ")\n",
    "M_v_3_2 = m * sy.integrate(\n",
    "    dPdl3.T * dPdl2,\n",
    "    (xi, 0, 1)\n",
    ")\n",
    "M_v_3_3 = m * sy.integrate(\n",
    "    dPdl3.T * dPdl3,\n",
    "    (xi, 0, 1)\n",
    ")\n",
    "M_v = sy.Matrix([\n",
    "    [M_v_1_1, M_v_1_2, M_v_1_3],\n",
    "    [M_v_2_1, M_v_2_2, M_v_2_3],\n",
    "    [M_v_3_1, M_v_3_2, M_v_3_3],\n",
    "])"
   ]
  },
  {
   "cell_type": "code",
   "execution_count": 18,
   "metadata": {},
   "outputs": [],
   "source": [
    "M = M_omega + M_v"
   ]
  },
  {
   "cell_type": "markdown",
   "metadata": {},
   "source": [
    "遠心力とコリオリ"
   ]
  },
  {
   "cell_type": "code",
   "execution_count": 20,
   "metadata": {},
   "outputs": [],
   "source": [
    "# 慣性行列のアクチュエータ微分\n",
    "M_1_1_diff_by_l1 = sy.diff(M[0, 0], l1)\n",
    "M_1_1_diff_by_l2 = sy.diff(M[0, 0], l2)\n",
    "M_1_1_diff_by_l3 = sy.diff(M[0, 0], l3)\n",
    "\n",
    "M_1_2_diff_by_l1 = sy.diff(M[0, 1], l1)\n",
    "M_1_2_diff_by_l2 = sy.diff(M[0, 1], l2)\n",
    "M_1_2_diff_by_l3 = sy.diff(M[0, 1], l3)\n",
    "\n",
    "M_1_3_diff_by_l1 = sy.diff(M[0, 2], l1)\n",
    "M_1_3_diff_by_l2 = sy.diff(M[0, 2], l2)\n",
    "M_1_3_diff_by_l3 = sy.diff(M[0, 2], l3)\n",
    "\n",
    "M_2_1_diff_by_l1 = sy.diff(M[1, 0], l1)\n",
    "M_2_1_diff_by_l2 = sy.diff(M[1, 0], l2)\n",
    "M_2_1_diff_by_l3 = sy.diff(M[1, 0], l3)\n",
    "\n",
    "M_2_2_diff_by_l1 = sy.diff(M[1, 1], l1)\n",
    "M_2_2_diff_by_l2 = sy.diff(M[1, 1], l2)\n",
    "M_2_2_diff_by_l3 = sy.diff(M[1, 1], l3)\n",
    "\n",
    "M_2_3_diff_by_l1 = sy.diff(M[1, 2], l1)\n",
    "M_2_3_diff_by_l2 = sy.diff(M[1, 2], l2)\n",
    "M_2_3_diff_by_l3 = sy.diff(M[1, 2], l3)\n",
    "\n",
    "M_3_1_diff_by_l1 = sy.diff(M[2, 0], l1)\n",
    "M_3_1_diff_by_l2 = sy.diff(M[2, 0], l2)\n",
    "M_3_1_diff_by_l3 = sy.diff(M[2, 0], l3)\n",
    "\n",
    "M_3_2_diff_by_l1 = sy.diff(M[2, 1], l1)\n",
    "M_3_2_diff_by_l2 = sy.diff(M[2, 1], l2)\n",
    "M_3_2_diff_by_l3 = sy.diff(M[2, 1], l3)\n",
    "\n",
    "M_3_3_diff_by_l1 = sy.diff(M[2, 2], l1)\n",
    "M_3_3_diff_by_l2 = sy.diff(M[2, 2], l2)\n",
    "M_3_3_diff_by_l3 = sy.diff(M[2, 2], l3)"
   ]
  },
  {
   "cell_type": "code",
   "execution_count": null,
   "metadata": {},
   "outputs": [],
   "source": [
    "# 慣性行列のクリストッフェル記号\n",
    "Gamma_1_1_1 = 1/2 *()"
   ]
  }
 ],
 "metadata": {
  "interpreter": {
   "hash": "368756e83d2084993ac505becbe47825c8a72b0fc53c20a5043bb5b908d065dc"
  },
  "kernelspec": {
   "display_name": "Python 3.9.7 64-bit ('base': conda)",
   "language": "python",
   "name": "python3"
  },
  "language_info": {
   "codemirror_mode": {
    "name": "ipython",
    "version": 3
   },
   "file_extension": ".py",
   "mimetype": "text/x-python",
   "name": "python",
   "nbconvert_exporter": "python",
   "pygments_lexer": "ipython3",
   "version": "3.9.7"
  },
  "orig_nbformat": 4
 },
 "nbformat": 4,
 "nbformat_minor": 2
}
