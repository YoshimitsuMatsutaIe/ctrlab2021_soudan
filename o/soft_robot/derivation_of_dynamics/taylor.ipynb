{
 "cells": [
  {
   "cell_type": "markdown",
   "metadata": {},
   "source": [
    "# 低次の多変量テイラー展開式を導出"
   ]
  },
  {
   "cell_type": "code",
   "execution_count": 10,
   "metadata": {},
   "outputs": [],
   "source": [
    "import sympy as sy\n",
    "from sympy import diff\n",
    "from sympy.printing.numpy import NumPyPrinter\n",
    "\n",
    "import original_kinematics\n",
    "\n",
    "from pathlib import Path\n",
    "import os"
   ]
  },
  {
   "cell_type": "markdown",
   "metadata": {},
   "source": [
    "必要なシンボリック変数を宣言"
   ]
  },
  {
   "cell_type": "code",
   "execution_count": 11,
   "metadata": {},
   "outputs": [],
   "source": [
    "N = 3  # テイラー展開の次数\n",
    "\n",
    "# アクチュエータベクトル\n",
    "l1, l2, l3 = sy.symbols(\"l1, l2, l3\")\n",
    "q = sy.Matrix([[l1, l2, l3]]).T\n",
    "\n",
    "# ディスク位置を表すスカラ変数\n",
    "xi = sy.Symbol(\"xi\")\n",
    "\n",
    "\n",
    "l1a, l2a, l3a = sy.symbols(\"l1a, l2a, l3a\")  # 平衡点"
   ]
  },
  {
   "cell_type": "markdown",
   "metadata": {},
   "source": [
    "テイラー展開する対象の式を導出"
   ]
  },
  {
   "cell_type": "code",
   "execution_count": 12,
   "metadata": {},
   "outputs": [],
   "source": [
    "kinema = original_kinematics.Local()\n",
    "\n",
    "P = kinema.P(q, xi)\n",
    "R = kinema.R(q, xi)\n"
   ]
  },
  {
   "cell_type": "markdown",
   "metadata": {},
   "source": [
    "テイラー展開式を導出"
   ]
  },
  {
   "cell_type": "code",
   "execution_count": 13,
   "metadata": {},
   "outputs": [
    {
     "data": {
      "text/latex": [
       "$\\displaystyle a^{2} + 2 a b + 2 a c + b^{2} + 2 b c + c^{2}$"
      ],
      "text/plain": [
       "a**2 + 2*a*b + 2*a*c + b**2 + 2*b*c + c**2"
      ]
     },
     "execution_count": 13,
     "metadata": {},
     "output_type": "execute_result"
    }
   ],
   "source": [
    "a, b, c = sy.symbols(\"a, b, c\")\n",
    "((a+b+c)**2).expand()"
   ]
  },
  {
   "cell_type": "code",
   "execution_count": 14,
   "metadata": {},
   "outputs": [
    {
     "data": {
      "text/latex": [
       "$\\displaystyle a^{3} + 3 a^{2} b + 3 a^{2} c + 3 a b^{2} + 6 a b c + 3 a c^{2} + b^{3} + 3 b^{2} c + 3 b c^{2} + c^{3}$"
      ],
      "text/plain": [
       "a**3 + 3*a**2*b + 3*a**2*c + 3*a*b**2 + 6*a*b*c + 3*a*c**2 + b**3 + 3*b**2*c + 3*b*c**2 + c**3"
      ]
     },
     "execution_count": 14,
     "metadata": {},
     "output_type": "execute_result"
    }
   ],
   "source": [
    "((a+b+c)**3).expand()"
   ]
  },
  {
   "cell_type": "markdown",
   "metadata": {},
   "source": [
    "テイラー展開（マクローリン展開）を実行"
   ]
  },
  {
   "cell_type": "code",
   "execution_count": 15,
   "metadata": {},
   "outputs": [],
   "source": [
    "\n",
    "def multi_maclaurin_2(f):\n",
    "    \"\"\"a周りの2次の多変数テイラー展開\"\"\"\n",
    "    f0 = f.subs([(l1, l1a), (l2, l2a), (l3, l3a)])\n",
    "    \n",
    "    f1 = diff(f, l1).subs([(l1, l1a), (l2, l2a), (l3, l3a)])*(l1-l1a) +\\\n",
    "        diff(f, l2).subs([(l1, l1a), (l2, l2a), (l3, l3a)])*(l2-l2a) +\\\n",
    "            diff(f, l3).subs([(l1, l1a), (l2, l2a), (l3, l3a)])*(l3-l3a)\n",
    "    \n",
    "    f2 = 1/2*(\n",
    "        diff(diff(f, l1), l1).subs([(l1, l1a), (l2, l2a), (l3, l3a)])*(l1-l1a)**2 +\\\n",
    "            diff(diff(f, l2), l2).subs([(l1, l1a), (l2, l2a), (l3, l3a)])*(l2-l2a)**2 +\\\n",
    "                diff(diff(f, l3), l3).subs([(l1, l1a), (l2, l2a), (l3, l3a)])*(l3-l3a)**2 +\\\n",
    "                    2*diff(diff(f, l1), l2).subs([(l1, l1a), (l2, l2a), (l3, l3a)])*(l1-l1a)*(l2-l2a) +\\\n",
    "                        2*diff(diff(f, l2), l3).subs([(l1, l1a), (l2, l2a), (l3, l3a)])*(l2-l2a)*(l3-l3a) +\\\n",
    "                            2*diff(diff(f, l3), l1).subs([(l1, l1a), (l2, l2a), (l3, l3a)])*(l3-l3a)*(l1-l1a)\n",
    "    )\n",
    "    \n",
    "    return f0 + f1 + f2\n",
    "\n",
    "\n",
    "\n",
    "P_series = []\n",
    "for i in range(3):\n",
    "    P_series.append(\n",
    "        multi_maclaurin_2(P[i, 0])\n",
    "    )\n",
    "\n",
    "R_series = [[]]*3\n",
    "for i in range(3):\n",
    "    for j in range(3):\n",
    "        R_series[i].append(\n",
    "            multi_maclaurin_2(R[i, j])\n",
    "        )\n"
   ]
  },
  {
   "cell_type": "code",
   "execution_count": 16,
   "metadata": {},
   "outputs": [],
   "source": [
    "# 微小値をlaに代入\n",
    "for i in range(3):\n",
    "    P_series[i] = P_series[i].subs([(l1a, 0.0001), (l2a, 0.002), (l3a, 0.0015)])\n",
    "\n",
    "for i in range(3):\n",
    "    for j in range(3):\n",
    "        R_series[i][j] = R_series[i][j].subs([(l1a, 0.0001), (l2a, 0.002), (l3a, 0.0015)])"
   ]
  },
  {
   "cell_type": "markdown",
   "metadata": {},
   "source": [
    "## 結果を出力\n",
    "\n",
    "最後に自分で微小項や発散するを削除する必要あり"
   ]
  },
  {
   "cell_type": "code",
   "execution_count": 20,
   "metadata": {},
   "outputs": [],
   "source": [
    "cwd = str(Path().resolve())\n",
    "base = cwd + \"/maclaurin_2\"\n",
    "\n",
    "dir_name = base\n",
    "os.makedirs(dir_name, exist_ok=True)\n",
    "\n",
    "\n",
    "numpy_word = \"import numpy\\ndef f(q, xi):\\n    l1, l2, l3 = q[0,0], q[1,0], q[2,0]\\n\\n    return \"\n",
    "\n",
    "for i in range(3):\n",
    "    f = open(dir_name + \"/P_\" + str(i) + \".py\", 'w')\n",
    "    f.write(numpy_word)\n",
    "    f.write(NumPyPrinter().doprint(P_series[i]))\n",
    "    f.close()\n",
    "\n",
    "for i in range(3):\n",
    "    for j in range(3):\n",
    "        f = open(dir_name + \"/R_\" + str(i) + \"_\" + str(j) + \".py\", 'w')\n",
    "        f.write(numpy_word)\n",
    "        f.write(NumPyPrinter().doprint(R_series[i][j]))\n",
    "        f.close()"
   ]
  },
  {
   "cell_type": "code",
   "execution_count": 18,
   "metadata": {},
   "outputs": [
    {
     "data": {
      "text/latex": [
       "$\\displaystyle 0.5 \\left(l_{1} - 0.0001\\right)^{2} \\left(- 6.07837243596557 \\cdot 10^{-5} \\xi^{2} \\cos{\\left(1.42156017576933 \\cdot 10^{-5} \\xi \\right)} - 1.4723987711447 \\xi \\sin{\\left(1.42156017576933 \\cdot 10^{-5} \\xi \\right)} - 121438.163869571 \\cos{\\left(1.42156017576933 \\cdot 10^{-5} \\xi \\right)} + 121438.163869571\\right) + 0.5 \\left(l_{1} - 0.0001\\right) \\left(l_{2} - 0.002\\right) \\left(8.8412689977681 \\cdot 10^{-5} \\xi^{2} \\cos{\\left(1.42156017576933 \\cdot 10^{-5} \\xi \\right)} - 4.09059149510746 \\xi \\sin{\\left(1.42156017576933 \\cdot 10^{-5} \\xi \\right)} - 387780.362371481 \\cos{\\left(1.42156017576933 \\cdot 10^{-5} \\xi \\right)} + 387780.362371481\\right) + 0.5 \\left(l_{1} - 0.0001\\right) \\left(l_{3} - 0.0015\\right) \\left(3.31547587416304 \\cdot 10^{-5} \\xi^{2} \\cos{\\left(1.42156017576933 \\cdot 10^{-5} \\xi \\right)} + 7.03538903739686 \\xi \\sin{\\left(1.42156017576933 \\cdot 10^{-5} \\xi \\right)} + 630656.690110624 \\cos{\\left(1.42156017576933 \\cdot 10^{-5} \\xi \\right)} - 630656.690110624\\right) + \\left(l_{1} - 0.0001\\right) \\left(0.00754103754629469 \\xi \\sin{\\left(1.42156017576933 \\cdot 10^{-5} \\xi \\right)} - 73.0683388245297 \\cos{\\left(1.42156017576933 \\cdot 10^{-5} \\xi \\right)} + 73.0683388245297\\right) + 0.5 \\left(l_{2} - 0.002\\right)^{2} \\left(- 3.21500690827931 \\cdot 10^{-5} \\xi^{2} \\cos{\\left(1.42156017576933 \\cdot 10^{-5} \\xi \\right)} + 0.0899501794735671 \\xi \\sin{\\left(1.42156017576933 \\cdot 10^{-5} \\xi \\right)} - 133709.809902707 \\cos{\\left(1.42156017576933 \\cdot 10^{-5} \\xi \\right)} + 133709.809902707\\right) + 0.5 \\left(l_{2} - 0.002\\right) \\left(l_{3} - 0.0015\\right) \\left(- 2.41125518120948 \\cdot 10^{-5} \\xi^{2} \\cos{\\left(1.42156017576933 \\cdot 10^{-5} \\xi \\right)} + 3.91069113616032 \\xi \\sin{\\left(1.42156017576933 \\cdot 10^{-5} \\xi \\right)} + 655199.982176895 \\cos{\\left(1.42156017576933 \\cdot 10^{-5} \\xi \\right)} - 655199.982176895\\right) + \\left(l_{2} - 0.002\\right) \\left(- 0.00548439094275978 \\xi \\sin{\\left(1.42156017576933 \\cdot 10^{-5} \\xi \\right)} - 204.591348708683 \\cos{\\left(1.42156017576933 \\cdot 10^{-5} \\xi \\right)} + 204.591348708683\\right) + 0.5 \\left(l_{3} - 0.0015\\right)^{2} \\left(- 4.52110346476778 \\cdot 10^{-6} \\xi^{2} \\cos{\\left(1.42156017576933 \\cdot 10^{-5} \\xi \\right)} - 5.47304008677859 \\xi \\sin{\\left(1.42156017576933 \\cdot 10^{-5} \\xi \\right)} - 642928.33614376 \\cos{\\left(1.42156017576933 \\cdot 10^{-5} \\xi \\right)} + 642928.336143759\\right) + \\left(l_{3} - 0.0015\\right) \\left(- 0.00205664660353492 \\xi \\sin{\\left(1.42156017576933 \\cdot 10^{-5} \\xi \\right)} + 277.659687533213 \\cos{\\left(1.42156017576933 \\cdot 10^{-5} \\xi \\right)} - 277.659687533213\\right) + 0.935567010309278 \\cos{\\left(1.42156017576933 \\cdot 10^{-5} \\xi \\right)} + 0.0644329896907217$"
      ],
      "text/plain": [
       "0.5*(l1 - 0.0001)**2*(-6.07837243596557e-5*xi**2*cos(1.42156017576933e-5*xi) - 1.4723987711447*xi*sin(1.42156017576933e-5*xi) - 121438.163869571*cos(1.42156017576933e-5*xi) + 121438.163869571) + 0.5*(l1 - 0.0001)*(l2 - 0.002)*(8.8412689977681e-5*xi**2*cos(1.42156017576933e-5*xi) - 4.09059149510746*xi*sin(1.42156017576933e-5*xi) - 387780.362371481*cos(1.42156017576933e-5*xi) + 387780.362371481) + 0.5*(l1 - 0.0001)*(l3 - 0.0015)*(3.31547587416304e-5*xi**2*cos(1.42156017576933e-5*xi) + 7.03538903739686*xi*sin(1.42156017576933e-5*xi) + 630656.690110624*cos(1.42156017576933e-5*xi) - 630656.690110624) + (l1 - 0.0001)*(0.00754103754629469*xi*sin(1.42156017576933e-5*xi) - 73.0683388245297*cos(1.42156017576933e-5*xi) + 73.0683388245297) + 0.5*(l2 - 0.002)**2*(-3.21500690827931e-5*xi**2*cos(1.42156017576933e-5*xi) + 0.0899501794735671*xi*sin(1.42156017576933e-5*xi) - 133709.809902707*cos(1.42156017576933e-5*xi) + 133709.809902707) + 0.5*(l2 - 0.002)*(l3 - 0.0015)*(-2.41125518120948e-5*xi**2*cos(1.42156017576933e-5*xi) + 3.91069113616032*xi*sin(1.42156017576933e-5*xi) + 655199.982176895*cos(1.42156017576933e-5*xi) - 655199.982176895) + (l2 - 0.002)*(-0.00548439094275978*xi*sin(1.42156017576933e-5*xi) - 204.591348708683*cos(1.42156017576933e-5*xi) + 204.591348708683) + 0.5*(l3 - 0.0015)**2*(-4.52110346476778e-6*xi**2*cos(1.42156017576933e-5*xi) - 5.47304008677859*xi*sin(1.42156017576933e-5*xi) - 642928.33614376*cos(1.42156017576933e-5*xi) + 642928.336143759) + (l3 - 0.0015)*(-0.00205664660353492*xi*sin(1.42156017576933e-5*xi) + 277.659687533213*cos(1.42156017576933e-5*xi) - 277.659687533213) + 0.935567010309278*cos(1.42156017576933e-5*xi) + 0.0644329896907217"
      ]
     },
     "execution_count": 18,
     "metadata": {},
     "output_type": "execute_result"
    }
   ],
   "source": [
    "R_series[0][0]"
   ]
  }
 ],
 "metadata": {
  "interpreter": {
   "hash": "368756e83d2084993ac505becbe47825c8a72b0fc53c20a5043bb5b908d065dc"
  },
  "kernelspec": {
   "display_name": "Python 3.8.8 64-bit ('base': conda)",
   "language": "python",
   "name": "python3"
  },
  "language_info": {
   "codemirror_mode": {
    "name": "ipython",
    "version": 3
   },
   "file_extension": ".py",
   "mimetype": "text/x-python",
   "name": "python",
   "nbconvert_exporter": "python",
   "pygments_lexer": "ipython3",
   "version": "3.8.8"
  },
  "orig_nbformat": 4
 },
 "nbformat": 4,
 "nbformat_minor": 2
}
