{
 "cells": [
  {
   "cell_type": "markdown",
   "metadata": {},
   "source": [
    "# 低次の多変量テイラー展開式を導出"
   ]
  },
  {
   "cell_type": "code",
   "execution_count": 1,
   "metadata": {},
   "outputs": [],
   "source": [
    "import sympy as sy\n",
    "from sympy import diff\n",
    "import original_kinematics"
   ]
  },
  {
   "cell_type": "markdown",
   "metadata": {},
   "source": [
    "必要なシンボリック変数を宣言"
   ]
  },
  {
   "cell_type": "code",
   "execution_count": 2,
   "metadata": {},
   "outputs": [],
   "source": [
    "N = 3  # テイラー展開の次数\n",
    "\n",
    "# アクチュエータベクトル\n",
    "l1, l2, l3 = sy.symbols(\"l1, l2, l3\")\n",
    "q = sy.Matrix([[l1, l2, l3]]).T\n",
    "\n",
    "# ディスク位置を表すスカラ変数\n",
    "xi = sy.Symbol(\"xi\")"
   ]
  },
  {
   "cell_type": "markdown",
   "metadata": {},
   "source": [
    "テイラー展開する対象の式を導出"
   ]
  },
  {
   "cell_type": "code",
   "execution_count": 3,
   "metadata": {},
   "outputs": [],
   "source": [
    "kinema = original_kinematics.Local()\n",
    "\n",
    "P = kinema.P(q, xi)\n",
    "R = kinema.R(q, xi)\n"
   ]
  },
  {
   "cell_type": "markdown",
   "metadata": {},
   "source": [
    "テイラー展開式を導出"
   ]
  },
  {
   "cell_type": "code",
   "execution_count": 4,
   "metadata": {},
   "outputs": [
    {
     "data": {
      "text/latex": [
       "$\\displaystyle a^{2} + 2 a b + 2 a c + b^{2} + 2 b c + c^{2}$"
      ],
      "text/plain": [
       "a**2 + 2*a*b + 2*a*c + b**2 + 2*b*c + c**2"
      ]
     },
     "execution_count": 4,
     "metadata": {},
     "output_type": "execute_result"
    }
   ],
   "source": [
    "a, b, c = sy.symbols(\"a, b, c\")\n",
    "((a+b+c)**2).expand()"
   ]
  },
  {
   "cell_type": "code",
   "execution_count": 5,
   "metadata": {},
   "outputs": [
    {
     "data": {
      "text/latex": [
       "$\\displaystyle a^{3} + 3 a^{2} b + 3 a^{2} c + 3 a b^{2} + 6 a b c + 3 a c^{2} + b^{3} + 3 b^{2} c + 3 b c^{2} + c^{3}$"
      ],
      "text/plain": [
       "a**3 + 3*a**2*b + 3*a**2*c + 3*a*b**2 + 6*a*b*c + 3*a*c**2 + b**3 + 3*b**2*c + 3*b*c**2 + c**3"
      ]
     },
     "execution_count": 5,
     "metadata": {},
     "output_type": "execute_result"
    }
   ],
   "source": [
    "((a+b+c)**3).expand()"
   ]
  },
  {
   "cell_type": "markdown",
   "metadata": {},
   "source": [
    "テイラー展開（マクローリン展開）を実行"
   ]
  },
  {
   "cell_type": "code",
   "execution_count": 7,
   "metadata": {},
   "outputs": [],
   "source": [
    "q0 = sy.zeros(3, 1)\n",
    "def multi_maclaurin_2(f):\n",
    "    \"\"\"2次の多変数マクローリン展開\"\"\"\n",
    "    f0 = f.subs(q, q0)\n",
    "    \n",
    "    f1 = diff(f, l1).subs(q, q0)*l1 +\\\n",
    "        diff(f, l2).subs(q, q0)*l2 +\\\n",
    "            diff(f, l3).subs(q, q0)*l3\n",
    "    \n",
    "    f2 = 1/2*(\n",
    "        diff(diff(f, l1), l1).subs(q, q0)*l1**2 +\\\n",
    "            diff(diff(f, l2), l2).subs(q, q0)*l2**2 +\\\n",
    "                diff(diff(f, l3), l3).subs(q, q0)*l3**2 +\\\n",
    "                    2*diff(diff(f, l1), l2).subs(q, q0)*l1*l2 +\\\n",
    "                        2*diff(diff(f, l2), l3).subs(q, q0)*l2*l3 +\\\n",
    "                            2*diff(diff(f, l3), l1).subs(q, q0)*l3*l1\n",
    "    )\n",
    "    \n",
    "    return f0 + f1 + f2\n",
    "\n",
    "\n",
    "\n",
    "P_series = []\n",
    "for i in range(3):\n",
    "    P_series.append(\n",
    "        multi_maclaurin_2(P[i, 0])\n",
    "    )\n",
    "\n",
    "R_series = [[]]*3\n",
    "for i in range(3):\n",
    "    for j in range(3):\n",
    "        R_series[i].append(\n",
    "            multi_maclaurin_2(R[i, j])\n",
    "        )\n"
   ]
  }
 ],
 "metadata": {
  "interpreter": {
   "hash": "368756e83d2084993ac505becbe47825c8a72b0fc53c20a5043bb5b908d065dc"
  },
  "kernelspec": {
   "display_name": "Python 3.8.8 64-bit ('base': conda)",
   "language": "python",
   "name": "python3"
  },
  "language_info": {
   "codemirror_mode": {
    "name": "ipython",
    "version": 3
   },
   "file_extension": ".py",
   "mimetype": "text/x-python",
   "name": "python",
   "nbconvert_exporter": "python",
   "pygments_lexer": "ipython3",
   "version": "3.8.8"
  },
  "orig_nbformat": 4
 },
 "nbformat": 4,
 "nbformat_minor": 2
}
