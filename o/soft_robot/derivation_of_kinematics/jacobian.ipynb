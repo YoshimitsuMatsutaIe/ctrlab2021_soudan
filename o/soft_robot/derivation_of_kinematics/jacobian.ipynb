{
 "cells": [
  {
   "cell_type": "markdown",
   "metadata": {},
   "source": [
    "# ヤコビアン"
   ]
  },
  {
   "cell_type": "code",
   "execution_count": 1,
   "metadata": {},
   "outputs": [],
   "source": [
    "import sympy as sy\n",
    "from sympy.printing.numpy import NumPyPrinter\n",
    "from sympy import julia_code\n",
    "from sympy.utilities.codegen import codegen\n",
    "import tqdm\n",
    "import os\n",
    "from pathlib import Path\n",
    "\n",
    "from kinematics import Global"
   ]
  },
  {
   "cell_type": "code",
   "execution_count": 2,
   "metadata": {},
   "outputs": [
    {
     "name": "stdout",
     "output_type": "stream",
     "text": [
      "computing kinematics...\n",
      "Matrix([[q_large[0, 0]], [q_large[1, 0]], [q_large[2, 0]]])\n",
      "Matrix([[q_large[3, 0]], [q_large[4, 0]], [q_large[5, 0]]])\n",
      "Matrix([[q_large[6, 0]], [q_large[7, 0]], [q_large[8, 0]]])\n",
      "Matrix([[q_large[9, 0]], [q_large[10, 0]], [q_large[11, 0]]])\n",
      "Matrix([[q_large[12, 0]], [q_large[13, 0]], [q_large[14, 0]]])\n",
      "done computing kinematics!\n"
     ]
    }
   ],
   "source": [
    "N=5\n",
    "kinem = Global(N)\n",
    "kinem.set_J_v_simple()"
   ]
  },
  {
   "cell_type": "markdown",
   "metadata": {},
   "source": [
    "ヤコビアンを時間微分"
   ]
  },
  {
   "cell_type": "markdown",
   "metadata": {},
   "source": [
    "コード生成"
   ]
  },
  {
   "cell_type": "code",
   "execution_count": 3,
   "metadata": {},
   "outputs": [],
   "source": [
    "# Cコード生成\n",
    "cwd = str(Path().resolve())\n",
    "base = cwd + \"/derived\"\n",
    "dir_name = base + '/c_src/'\n",
    "os.makedirs(dir_name, exist_ok=True)\n",
    "\n",
    "xi = sy.Symbol(\"xi\")\n",
    "\n",
    "def gen_c(f, name, dir_name):\n",
    "    [(c_name, c_code), (h_name, c_header)] = codegen(\n",
    "        name_expr=(name, f),\n",
    "        language=\"C\",\n",
    "        project= name + \"project\",\n",
    "        to_files=False\n",
    "    )\n",
    "    \n",
    "    f = open(dir_name + c_name, 'w')\n",
    "    f.write(c_code)\n",
    "    f.close()\n",
    "\n",
    "    f = open(dir_name + h_name, 'w')\n",
    "    f.write(c_header)\n",
    "    f.close()\n",
    "\n",
    "\n",
    "os.makedirs(dir_name + \"Phi_s/\", exist_ok=True)\n",
    "for i, Phi in enumerate(kinem.Phi_s):\n",
    "    gen_c(Phi.subs(kinem.xi_large[i, 0], xi), \"Phi_\"+str(i), dir_name + \"Phi_s/\")\n",
    "\n",
    "\n",
    "os.makedirs(dir_name + \"J_s/\", exist_ok=True)\n",
    "for i, J in enumerate(kinem.J_v_simples):\n",
    "    gen_c(J.subs(kinem.xi_large[i, 0], xi), \"J_\"+str(i), dir_name + \"J_s/\")\n",
    "\n"
   ]
  },
  {
   "cell_type": "code",
   "execution_count": 4,
   "metadata": {},
   "outputs": [],
   "source": [
    "# # juliaコード生成\n",
    "# dir_name = base + '/julia_src'\n",
    "# os.makedirs(dir_name + \"/Phi\", exist_ok=True)\n",
    "# os.makedirs(dir_name + \"/J\", exist_ok=True)\n",
    "\n",
    "# julia_word = \"function f(q_large::Matrix{T}, xi_large::Matrix{T}) where T\\n    \"\n",
    "\n",
    "# for i, P in enumerate(kinem.Phi_s):\n",
    "#     name = dir_name + \"/Phi\" + \"/Phi_\" + str(i) + \".jl\"\n",
    "#     f = open(name, 'w')\n",
    "#     f.write(\"module \" + \"Phi_\" + str(i) + \"\\n\")\n",
    "#     f.write(julia_word)\n",
    "#     f.write(julia_code(P))\n",
    "#     f.write(\"\\nend\\nend\")\n",
    "#     f.close()\n",
    "\n",
    "\n",
    "# for i, J in enumerate(kinem.J_v_simples):\n",
    "#     name = dir_name + \"/J\" + \"/J_\" + str(i) + \".jl\"\n",
    "#     f = open(name, 'w')\n",
    "#     f.write(\"module \" + \"J_\" + str(i) + \"\\n\")\n",
    "#     f.write(julia_word)\n",
    "#     f.write(julia_code(J))\n",
    "#     f.write(\"\\nend\\nend\")\n",
    "#     f.close()"
   ]
  }
 ],
 "metadata": {
  "interpreter": {
   "hash": "f4dfc3534a11df64ca8ab5b1d0d5f00bece38226cd6557b9a8a26359d97dd2dd"
  },
  "kernelspec": {
   "display_name": "Python 3.8.8 64-bit ('base': conda)",
   "language": "python",
   "name": "python3"
  },
  "language_info": {
   "codemirror_mode": {
    "name": "ipython",
    "version": 3
   },
   "file_extension": ".py",
   "mimetype": "text/x-python",
   "name": "python",
   "nbconvert_exporter": "python",
   "pygments_lexer": "ipython3",
   "version": "3.8.8"
  },
  "orig_nbformat": 4
 },
 "nbformat": 4,
 "nbformat_minor": 2
}
