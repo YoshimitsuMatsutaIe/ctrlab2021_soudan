{
 "cells": [
  {
   "cell_type": "markdown",
   "metadata": {},
   "source": [
    "# ヤコビアン"
   ]
  },
  {
   "cell_type": "code",
   "execution_count": 1,
   "metadata": {},
   "outputs": [],
   "source": [
    "import sympy as sy\n",
    "from sympy.printing.numpy import NumPyPrinter\n",
    "from sympy import julia_code\n",
    "from sympy.utilities.codegen import codegen\n",
    "import tqdm\n",
    "import os\n",
    "from pathlib import Path\n",
    "\n",
    "from kinematics import Global"
   ]
  },
  {
   "cell_type": "code",
   "execution_count": 2,
   "metadata": {},
   "outputs": [
    {
     "name": "stdout",
     "output_type": "stream",
     "text": [
      "computing kinematics...\n",
      "Matrix([[q_large[0, 0]], [q_large[1, 0]], [q_large[2, 0]]])\n",
      "Matrix([[q_large[3, 0]], [q_large[4, 0]], [q_large[5, 0]]])\n",
      "Matrix([[q_large[6, 0]], [q_large[7, 0]], [q_large[8, 0]]])\n",
      "done computing kinematics!\n"
     ]
    }
   ],
   "source": [
    "kinem = Global(N=3)\n",
    "kinem.set_J_v_simple()"
   ]
  },
  {
   "cell_type": "markdown",
   "metadata": {},
   "source": [
    "ヤコビアンを時間微分"
   ]
  },
  {
   "cell_type": "markdown",
   "metadata": {},
   "source": [
    "コード生成"
   ]
  },
  {
   "cell_type": "code",
   "execution_count": 4,
   "metadata": {},
   "outputs": [],
   "source": [
    "# Cコード生成\n",
    "cwd = str(Path().resolve())\n",
    "base = cwd + \"/derived/N_is_\" + str(kinem.N)\n",
    "dir_name = base + '/c_src/'\n",
    "os.makedirs(dir_name, exist_ok=True)\n",
    "\n",
    "\n",
    "def gen_c(f, name, dir_name):\n",
    "    [(c_name, c_code), (h_name, c_header)] = codegen(\n",
    "        name_expr=(name, f),\n",
    "        language=\"C\",\n",
    "        project= name + \"project\",\n",
    "        to_files=False\n",
    "    )\n",
    "    \n",
    "    f = open(dir_name + c_name, 'w')\n",
    "    f.write(c_code)\n",
    "    f.close()\n",
    "\n",
    "    f = open(dir_name + h_name, 'w')\n",
    "    f.write(c_header)\n",
    "    f.close()\n",
    "\n",
    "\n",
    "os.makedirs(dir_name + \"Phi_s/\", exist_ok=True)\n",
    "for i, Phi in enumerate(kinem.Phi_s):\n",
    "    gen_c(Phi, \"Phi_\"+str(i), dir_name + \"Phi_s/\")\n",
    "\n",
    "\n",
    "os.makedirs(dir_name + \"J_s/\", exist_ok=True)\n",
    "for i, J in enumerate(kinem.J_v_simples):\n",
    "    gen_c(J, \"J_\"+str(i), dir_name + \"J_s/\")\n",
    "\n"
   ]
  }
 ],
 "metadata": {
  "interpreter": {
   "hash": "f4dfc3534a11df64ca8ab5b1d0d5f00bece38226cd6557b9a8a26359d97dd2dd"
  },
  "kernelspec": {
   "display_name": "Python 3.8.8 64-bit ('base': conda)",
   "language": "python",
   "name": "python3"
  },
  "language_info": {
   "codemirror_mode": {
    "name": "ipython",
    "version": 3
   },
   "file_extension": ".py",
   "mimetype": "text/x-python",
   "name": "python",
   "nbconvert_exporter": "python",
   "pygments_lexer": "ipython3",
   "version": "3.8.8"
  },
  "orig_nbformat": 4
 },
 "nbformat": 4,
 "nbformat_minor": 2
}
