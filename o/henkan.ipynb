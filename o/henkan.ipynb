{
 "cells": [
  {
   "cell_type": "code",
   "execution_count": 1,
   "metadata": {},
   "outputs": [],
   "source": [
    "import sympy as sy\n",
    "\n",
    "\n",
    "t = sy.Symbol(\"t\")\n",
    "l1, l2, l3 = sy.symbols(\"l1, l2, l3\")\n",
    "p1, p2, p3, p4, p5, p6, p7, p8, p9, p10, p11, p12, p13 = sy.symbols(\n",
    "    \"p1, p2, p3, p4, p5, p6, p7, p8, p9, p10, p11, p12, p13\"\n",
    ")\n",
    "sin_3t, cos_3t = sy.symbols(\"sin_3t, cos_3t\")\n",
    "\n",
    "\n",
    "qd_1 = p1*l1**4 - p2*l1**3*l2 - p2*l1**3*l3 + p3*l1**3 - p4*l1**2*l2*l3  - \\\n",
    "    p5*l1**2*l2 - p5*l1**2*l3 - p6*l1**2 + p1*l1*l2**3 + p8*l1*l2**2*l3  + \\\n",
    "        p5*l1*l2**2 + p8*l1*l2*l3**2 - p9*l1*l2 + p1*l1*l3**3 + p5*l1*l3**2 - \\\n",
    "            p9*l1*l3 - 4.0*l1 - p2*l2**4 - p2*l2**3*l3 - p10*l2**3 + p9*l2**2 -\\\n",
    "                    p2*l2*l3**3 + p6*l2*l3 + 2.0*l2 - p2*l3**4 - p10*l3**3 + p9*l3**2 + \\\n",
    "                        2.0*l3 - 0.1*sin_3t\n",
    "qd_2 = p2*p13*l1**3*l2 - p2*p13*l1**3*l3 + p10*p13*l1**2*l2 - p10*p13*l1**2*l3  -\\\n",
    "        p8*p13*l1*l2**2*l3 - p10*p13*l1*l2**2 + p8*p13*l1*l2*l3**2 - p9*p13*l1*l2 + \\\n",
    "            p10*p13*l1*l3**2 + p9*p13*l1*l3 + p2*p13*l2**4 - p2*p13*l2**3*l3 + \\\n",
    "                p10*p13*l2**3  - p3*p13*l2**2*l3 - p9*p13*l2**2 + p2*p13*l2*l3**3 + \\\n",
    "                    p3*p13*l2*l3**2 - 2.0*p13*l2 - p2*p13*l3**4 - p10*p13*l3**3 + \\\n",
    "                        p9*p13*l3**2 + 2.0*p13*l3 - 0.1*cos_3t\n",
    "qd_3 = -p7*l1**3 - p11*l1**2 + p10*l1*l2*l3 + p11*l1*l2 + p11*l1*l3 + l1/3 - \\\n",
    "    p7*l2**3 - p11*l2**2 + p11*l2*l3 + l2/3 - p7*l3**3 - p11*l3**2 + l3/3 + p12\n",
    "\n",
    "\n"
   ]
  },
  {
   "cell_type": "code",
   "execution_count": 2,
   "metadata": {},
   "outputs": [],
   "source": [
    "qd = sy.Matrix([qd_1, qd_2, qd_3])\n"
   ]
  }
 ],
 "metadata": {
  "interpreter": {
   "hash": "f4dfc3534a11df64ca8ab5b1d0d5f00bece38226cd6557b9a8a26359d97dd2dd"
  },
  "kernelspec": {
   "display_name": "Python 3.8.8 64-bit ('base': conda)",
   "language": "python",
   "name": "python3"
  },
  "language_info": {
   "codemirror_mode": {
    "name": "ipython",
    "version": 3
   },
   "file_extension": ".py",
   "mimetype": "text/x-python",
   "name": "python",
   "nbconvert_exporter": "python",
   "pygments_lexer": "ipython3",
   "version": "3.8.8"
  },
  "orig_nbformat": 4
 },
 "nbformat": 4,
 "nbformat_minor": 2
}
