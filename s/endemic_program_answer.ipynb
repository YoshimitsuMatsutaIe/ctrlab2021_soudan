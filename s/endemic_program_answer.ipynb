{
 "cells": [
  {
   "cell_type": "markdown",
   "metadata": {},
   "source": [
    "# MATLABでやったら解けた"
   ]
  },
  {
   "cell_type": "markdown",
   "metadata": {},
   "source": [
    "パラメータをセット  \n",
    "※適当においたので後で正しくセットしてください  "
   ]
  },
  {
   "cell_type": "code",
   "execution_count": 15,
   "metadata": {},
   "outputs": [],
   "source": [
    "LAMBDA = 1\n",
    "CONTACT_E = 1\n",
    "TOTAL = 1\n",
    "CONTACT_I = 1\n",
    "CONTACT_S1 = 1\n",
    "ALPHA = 1\n",
    "MU = 1\n",
    "RATE_W = 1\n",
    "GAMMA = 1\n",
    "THETA1 = 1\n",
    "THETA2 = 1\n",
    "SPAN1 = 1\n",
    "SPAN2 = 1\n",
    "SPAN12 = 1\n",
    "\n",
    "def eq1(S, E, I, R, S1):\n",
    "    return LAMBDA - (CONTACT_E*S*E/TOTAL+ CONTACT_I*S*I/TOTAL) - S*(SPAN1*THETA1+MU)\n",
    "def eq2(S, E, I, R, S1):\n",
    "    return (CONTACT_E*S*E/TOTAL+ CONTACT_I*S*I/TOTAL+CONTACT_S1*S1*I/TOTAL+CONTACT_S1*S1*E/TOTAL) - E*(MU+ALPHA)\n",
    "def eq3(S, E, I, R, S1):\n",
    "    return ALPHA*E - I*(RATE_W + MU + GAMMA)\n",
    "def eq4(S, E, I, R, S1):\n",
    "    return S1*SPAN2*THETA2*SPAN12 + GAMMA*I - R*MU\n",
    "def eq5(S, E, I, R, S1):\n",
    "    return S*SPAN1*THETA1- S1*(SPAN2*THETA2*SPAN12 + MU)-(CONTACT_S1*S1*I/TOTAL)-(CONTACT_S1*S1*E/TOTAL)\n",
    "\n",
    "def X(S, E, I, R, S1):\n",
    "    return [\n",
    "        eq1(S, E, I, R, S1),\n",
    "        eq2(S, E, I, R, S1),\n",
    "        eq3(S, E, I, R, S1),\n",
    "        eq4(S, E, I, R, S1),\n",
    "        eq5(S, E, I, R, S1),\n",
    "    ]"
   ]
  },
  {
   "cell_type": "markdown",
   "metadata": {},
   "source": [
    "## MATLABのSymbolic Math Toolboxで解いた結果  \n",
    "解が2つ出てきた  "
   ]
  },
  {
   "cell_type": "code",
   "execution_count": 16,
   "metadata": {},
   "outputs": [],
   "source": [
    "def endemic_sol_S():\n",
    "    out1 = [\n",
    "        LAMBDA/(MU+SPAN1*THETA1),\n",
    "        (MU**2*TOTAL-ALPHA*CONTACT_S1-CONTACT_S1*GAMMA-CONTACT_S1*MU-CONTACT_S1*RATE_W+ALPHA*GAMMA*TOTAL+ALPHA*MU*TOTAL+ALPHA*RATE_W*TOTAL+GAMMA*MU*TOTAL+MU*RATE_W*TOTAL)/(ALPHA*CONTACT_I+CONTACT_E*GAMMA+CONTACT_E*MU+CONTACT_E*RATE_W)\n",
    "    ]\n",
    "    return out1\n",
    "\n",
    "\n",
    "def endemic_sol_E():\n",
    "    t2 = MU**2\n",
    "    t3 = TOTAL**2\n",
    "    out1 = [\n",
    "        0.0,\n",
    "        -((GAMMA+MU+RATE_W)*(CONTACT_E*TOTAL*t2+ALPHA*CONTACT_I*MU*TOTAL+CONTACT_E*GAMMA*MU*TOTAL+CONTACT_E*MU*RATE_W*TOTAL-SPAN1*THETA1*t2*t3-ALPHA*GAMMA*SPAN1*THETA1*t3-ALPHA*MU*SPAN1*THETA1*t3-ALPHA*RATE_W*SPAN1*THETA1*t3-GAMMA*MU*SPAN1*THETA1*t3-MU*RATE_W*SPAN1*THETA1*t3+ALPHA*CONTACT_S1*SPAN1*THETA1*TOTAL+CONTACT_S1*GAMMA*SPAN1*THETA1*TOTAL+CONTACT_S1*MU*SPAN1*THETA1*TOTAL+CONTACT_S1*RATE_W*SPAN1*THETA1*TOTAL+ALPHA*CONTACT_I*SPAN2*SPAN12*THETA2*TOTAL+CONTACT_E*GAMMA*SPAN2*SPAN12*THETA2*TOTAL+CONTACT_E*MU*SPAN2*SPAN12*THETA2*TOTAL+CONTACT_E*RATE_W*SPAN2*SPAN12*THETA2*TOTAL))/(CONTACT_E*CONTACT_S1*t2+ALPHA**2*CONTACT_I*CONTACT_S1+CONTACT_E*CONTACT_S1*GAMMA**2+CONTACT_E*CONTACT_S1*RATE_W**2+ALPHA*CONTACT_E*CONTACT_S1*GAMMA+ALPHA*CONTACT_I*CONTACT_S1*GAMMA+ALPHA*CONTACT_E*CONTACT_S1*MU+ALPHA*CONTACT_I*CONTACT_S1*MU+ALPHA*CONTACT_E*CONTACT_S1*RATE_W+ALPHA*CONTACT_I*CONTACT_S1*RATE_W+CONTACT_E*CONTACT_S1*GAMMA*MU*2.0+CONTACT_E*CONTACT_S1*GAMMA*RATE_W*2.0+CONTACT_E*CONTACT_S1*MU*RATE_W*2.0)\n",
    "    ]\n",
    "    return out1\n",
    "\n",
    "\n",
    "def endemic_sol_I():\n",
    "    t2 = ALPHA**2\n",
    "    t3 = MU**2\n",
    "    t4 = TOTAL**2\n",
    "    out1 = [\n",
    "        0.0,\n",
    "        -(ALPHA*CONTACT_E*TOTAL*t3+CONTACT_I*MU*TOTAL*t2+CONTACT_S1*SPAN1*THETA1*TOTAL*t2-ALPHA*SPAN1*THETA1*t3*t4-GAMMA*SPAN1*THETA1*t2*t4-MU*SPAN1*THETA1*t2*t4-RATE_W*SPAN1*THETA1*t2*t4+ALPHA*CONTACT_E*GAMMA*MU*TOTAL+ALPHA*CONTACT_E*MU*RATE_W*TOTAL+ALPHA*CONTACT_S1*GAMMA*SPAN1*THETA1*TOTAL+ALPHA*CONTACT_S1*MU*SPAN1*THETA1*TOTAL+ALPHA*CONTACT_S1*RATE_W*SPAN1*THETA1*TOTAL-ALPHA*GAMMA*MU*SPAN1*THETA1*t4-ALPHA*MU*RATE_W*SPAN1*THETA1*t4+CONTACT_I*SPAN2*SPAN12*THETA2*TOTAL*t2+ALPHA*CONTACT_E*GAMMA*SPAN2*SPAN12*THETA2*TOTAL+ALPHA*CONTACT_E*MU*SPAN2*SPAN12*THETA2*TOTAL+ALPHA*CONTACT_E*RATE_W*SPAN2*SPAN12*THETA2*TOTAL)/(CONTACT_E*CONTACT_S1*t3+CONTACT_I*CONTACT_S1*t2+CONTACT_E*CONTACT_S1*GAMMA**2+CONTACT_E*CONTACT_S1*RATE_W**2+ALPHA*CONTACT_E*CONTACT_S1*GAMMA+ALPHA*CONTACT_I*CONTACT_S1*GAMMA+ALPHA*CONTACT_E*CONTACT_S1*MU+ALPHA*CONTACT_I*CONTACT_S1*MU+ALPHA*CONTACT_E*CONTACT_S1*RATE_W+ALPHA*CONTACT_I*CONTACT_S1*RATE_W+CONTACT_E*CONTACT_S1*GAMMA*MU*2.0+CONTACT_E*CONTACT_S1*GAMMA*RATE_W*2.0+CONTACT_E*CONTACT_S1*MU*RATE_W*2.0)\n",
    "    ]\n",
    "    return out1\n",
    "\n",
    "def endemic_sol_R():\n",
    "    t2 = ALPHA**2\n",
    "    t3 = GAMMA**2\n",
    "    t4 = MU**2\n",
    "    t5 = RATE_W**2\n",
    "    t6 = TOTAL**2\n",
    "    t7 = 1.0/MU\n",
    "    out1 = [\n",
    "        (LAMBDA*SPAN1*SPAN2*SPAN12*THETA1*THETA2*t7)/((MU+SPAN2*SPAN12*THETA2)*(MU+SPAN1*THETA1)),\n",
    "        (t7*(SPAN1*THETA1*t2*t3*t6-ALPHA*CONTACT_E*GAMMA*TOTAL*t4-ALPHA*CONTACT_E*MU*TOTAL*t3-CONTACT_I*GAMMA*MU*TOTAL*t2-ALPHA*CONTACT_E*GAMMA*MU*RATE_W*TOTAL-ALPHA*CONTACT_S1*SPAN1*THETA1*TOTAL*t3+CONTACT_E*CONTACT_S1*SPAN2*SPAN12*THETA2*t3+CONTACT_E*CONTACT_S1*SPAN2*SPAN12*THETA2*t4+CONTACT_E*CONTACT_S1*SPAN2*SPAN12*THETA2*t5+CONTACT_I*CONTACT_S1*SPAN2*SPAN12*THETA2*t2-CONTACT_S1*GAMMA*SPAN1*THETA1*TOTAL*t2+ALPHA*GAMMA*SPAN1*THETA1*t4*t6+ALPHA*MU*SPAN1*THETA1*t3*t6+GAMMA*MU*SPAN1*THETA1*t2*t6+GAMMA*RATE_W*SPAN1*THETA1*t2*t6+ALPHA*CONTACT_E*CONTACT_S1*GAMMA*SPAN2*SPAN12*THETA2+ALPHA*CONTACT_I*CONTACT_S1*GAMMA*SPAN2*SPAN12*THETA2+ALPHA*CONTACT_E*CONTACT_S1*MU*SPAN2*SPAN12*THETA2+ALPHA*CONTACT_I*CONTACT_S1*MU*SPAN2*SPAN12*THETA2+ALPHA*CONTACT_E*CONTACT_S1*RATE_W*SPAN2*SPAN12*THETA2+ALPHA*CONTACT_I*CONTACT_S1*RATE_W*SPAN2*SPAN12*THETA2-ALPHA*CONTACT_S1*GAMMA*MU*SPAN1*THETA1*TOTAL+CONTACT_E*CONTACT_S1*GAMMA*MU*SPAN2*SPAN12*THETA2*2.0-ALPHA*CONTACT_S1*GAMMA*RATE_W*SPAN1*THETA1*TOTAL+CONTACT_E*CONTACT_S1*GAMMA*RATE_W*SPAN2*SPAN12*THETA2*2.0+CONTACT_E*CONTACT_S1*MU*RATE_W*SPAN2*SPAN12*THETA2*2.0+ALPHA*GAMMA*MU*RATE_W*SPAN1*THETA1*t6-ALPHA*CONTACT_E*SPAN2*SPAN12*THETA2*TOTAL*t3-CONTACT_I*GAMMA*SPAN2*SPAN12*THETA2*TOTAL*t2-ALPHA*CONTACT_E*GAMMA*MU*SPAN2*SPAN12*THETA2*TOTAL-ALPHA*CONTACT_E*GAMMA*RATE_W*SPAN2*SPAN12*THETA2*TOTAL))/(CONTACT_E*CONTACT_S1*t3+CONTACT_E*CONTACT_S1*t4+CONTACT_E*CONTACT_S1*t5+CONTACT_I*CONTACT_S1*t2+ALPHA*CONTACT_E*CONTACT_S1*GAMMA+ALPHA*CONTACT_I*CONTACT_S1*GAMMA+ALPHA*CONTACT_E*CONTACT_S1*MU+ALPHA*CONTACT_I*CONTACT_S1*MU+ALPHA*CONTACT_E*CONTACT_S1*RATE_W+ALPHA*CONTACT_I*CONTACT_S1*RATE_W+CONTACT_E*CONTACT_S1*GAMMA*MU*2.0+CONTACT_E*CONTACT_S1*GAMMA*RATE_W*2.0+CONTACT_E*CONTACT_S1*MU*RATE_W*2.0)\n",
    "    ]\n",
    "    return out1\n",
    "\n",
    "def endemic_sol_S1():\n",
    "    t2 = SPAN1*THETA1\n",
    "    out1 = [\n",
    "        (LAMBDA*t2)/((MU+SPAN2*SPAN12*THETA2)*(MU+t2)),\n",
    "        1.0\n",
    "    ]\n",
    "    return out1"
   ]
  },
  {
   "cell_type": "markdown",
   "metadata": {},
   "source": [
    "## 解が正しいか検証"
   ]
  },
  {
   "cell_type": "code",
   "execution_count": 17,
   "metadata": {},
   "outputs": [],
   "source": [
    "S = endemic_sol_S()\n",
    "E = endemic_sol_E()\n",
    "I = endemic_sol_I()\n",
    "R = endemic_sol_R()\n",
    "S1 = endemic_sol_S1()"
   ]
  },
  {
   "cell_type": "markdown",
   "metadata": {},
   "source": [
    "1つめの解"
   ]
  },
  {
   "cell_type": "code",
   "execution_count": 18,
   "metadata": {},
   "outputs": [
    {
     "data": {
      "text/plain": [
       "[0.0, 0.0, 0.0, 0.0, 0.0]"
      ]
     },
     "execution_count": 18,
     "metadata": {},
     "output_type": "execute_result"
    }
   ],
   "source": [
    "kensyou = X(S[0], E[0], I[0], R[0], S1[0])\n",
    "kensyou"
   ]
  },
  {
   "cell_type": "markdown",
   "metadata": {},
   "source": [
    "2つめの解  \n",
    "※0になってないから間違い？"
   ]
  },
  {
   "cell_type": "code",
   "execution_count": 19,
   "metadata": {},
   "outputs": [
    {
     "data": {
      "text/plain": [
       "[0.75, 0.0, 0.0, 0.0, 0.0]"
      ]
     },
     "execution_count": 19,
     "metadata": {},
     "output_type": "execute_result"
    }
   ],
   "source": [
    "kensyou = X(S[1], E[1], I[1], R[1], S1[1])\n",
    "kensyou"
   ]
  }
 ],
 "metadata": {
  "interpreter": {
   "hash": "f4dfc3534a11df64ca8ab5b1d0d5f00bece38226cd6557b9a8a26359d97dd2dd"
  },
  "kernelspec": {
   "display_name": "Python 3.8.8 64-bit ('base': conda)",
   "language": "python",
   "name": "python3"
  },
  "language_info": {
   "codemirror_mode": {
    "name": "ipython",
    "version": 3
   },
   "file_extension": ".py",
   "mimetype": "text/x-python",
   "name": "python",
   "nbconvert_exporter": "python",
   "pygments_lexer": "ipython3",
   "version": "3.8.8"
  },
  "orig_nbformat": 4
 },
 "nbformat": 4,
 "nbformat_minor": 2
}
