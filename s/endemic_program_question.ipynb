{
 "cells": [
  {
   "cell_type": "markdown",
   "metadata": {},
   "source": [
    "卒研"
   ]
  },
  {
   "cell_type": "code",
   "execution_count": null,
   "metadata": {},
   "outputs": [],
   "source": [
    "import numpy as np\n",
    "import math as ma\n",
    "import sympy as sym\n",
    "\n",
    "# import scipy as sp\n",
    "# from scipy.integrate import solve_ivp\n",
    "# from scipy.integrate import odeint\n",
    "# import matplotlib.pyplot as plt\n",
    "# from numpy.typing import _128Bit, _16Bit \n",
    "\n",
    "\"\"\"パラメータの定義\"\"\"\n",
    "LAMBDA,CONTACT_E,TOTAL,CONTACT_I,CONTACT_S1,ALPHA,MU,RATE_W,GAMMA ,THETA1,THETA2,SPAN1,SPAN2,SPAN12,S,E,I,R,S1 = sym.symbols(\n",
    "    \"LAMBDA,CONTACT_E,TOTAL,CONTACT_I,CONTACT_S1,ALPHA,MU,RATE_W,GAMMA ,THETA1,THETA2,SPAN1,SPAN2,SPAN12,S,E,I,R,S1\"\n",
    ")\n",
    "\n",
    "#S,E,I,R,S1 =sym.symbols(\"S,E,I,R,S1\")\n",
    "\"\"\"\n",
    "LAMBDA = 16600 # per day \n",
    "#CONTACT = 0.03 \n",
    "CONTACT_E  = 0.08 \n",
    "CONTACT_I  = 0.12 \n",
    "CONTACT_S1  = 0.5 #(1/2)*(CONTACT_E + CONTACT_I )*(1-(85/100))\n",
    "THETA1 = 4.45*10**(-5) \n",
    "THETA2 = 4.88*10**(-5) \n",
    "#SEVERE = 0.016 \n",
    "MU = 2.92*10**(-5) \n",
    "ALPHA = 1/7 \n",
    "RATE_W = 0.01 # per day \n",
    "GAMMA = 1/10 # per day \n",
    "SPAN1 = 1/14 \n",
    "SPAN2 = 1/10 \n",
    "SPAN12 = 1/11 \n",
    "TOTAL = 8800000\n",
    "\"\"\"\n",
    "\n",
    "# 方程式の定義\n",
    "eq1 = LAMBDA - (CONTACT_E*S*E/TOTAL+ CONTACT_I*S*I/TOTAL) - S*(SPAN1*THETA1+MU)\n",
    "eq2 =  (CONTACT_E*S*E/TOTAL+ CONTACT_I*S*I/TOTAL+CONTACT_S1*S1*I/TOTAL+CONTACT_S1*S1*E/TOTAL) - E*(MU+ALPHA)\n",
    "eq3 =  ALPHA*E - I*(RATE_W + MU + GAMMA)\n",
    "eq4 =  S1*SPAN2*THETA2*SPAN12 + GAMMA*I - R*MU\n",
    "eq5 =  S*SPAN1*THETA1- S1*(SPAN2*THETA2*SPAN12 + MU)-(CONTACT_S1*S1*I/TOTAL)-(CONTACT_S1*S1*E/TOTAL)"
   ]
  },
  {
   "cell_type": "code",
   "execution_count": null,
   "metadata": {},
   "outputs": [],
   "source": [
    "eq1"
   ]
  },
  {
   "cell_type": "markdown",
   "metadata": {},
   "source": [
    "解を探す"
   ]
  },
  {
   "cell_type": "code",
   "execution_count": null,
   "metadata": {},
   "outputs": [],
   "source": [
    "# その１sym.solveの利用\n",
    "Sol1 = sym.solve([eq1,eq2,eq3,eq4,eq5],[S,E,I,R,S1]) \n",
    "print(Sol1)"
   ]
  },
  {
   "cell_type": "code",
   "execution_count": null,
   "metadata": {},
   "outputs": [],
   "source": [
    "# その2 scipyの利用 \n",
    "\"\"\"\n",
    "X[0] = S\n",
    "X[1] = E\n",
    "X[2] = I\n",
    "X[3] = R\n",
    "X[4] = S1\n",
    "\"\"\"\n",
    "\"\"\"\n",
    "def epidemic_model(X):\n",
    "    return [LAMBDA - (CONTACT_E*X[0]*X[1]/TOTAL+ CONTACT_I*X[0]*X[2]/TOTAL) - X[0]*(SPAN1*THETA1+MU),\n",
    "            (CONTACT_E*X[0]*X[1]/TOTAL+ CONTACT_I*X[0]*X[2]/TOTAL+CONTACT_S1*X[0]*X[2]/TOTAL+CONTACT_S1*X[4]*X[1]/TOTAL) - X[1]*(MU+ALPHA),\n",
    "            ALPHA*X[1] - X[2]*(RATE_W + MU + GAMMA),\n",
    "            X[4]*SPAN2*THETA2*SPAN12 + GAMMA*X[2] - X[3]*MU,\n",
    "            X[0]*SPAN1*THETA1 - X[4]*(SPAN2*THETA2*SPAN12 + MU)-(CONTACT_S1*X[4]*X[2]/TOTAL)-(CONTACT_S1*X[4]*X[1]/TOTAL)]\n",
    "#result = sp.optimize.root( epidemic_model, [3500000,2368,1856,5259708,36068], method=\"hybr\") \n",
    "result = sp.optimize.root( epidemic_model,  [3500000,2368,1856,5259708,36068], method=\"lm\") \n",
    "#result = sp.optimize.root( epidemic_model, [3500000,2368,1856,5259708,36068], method=\"broyden1\") \n",
    "#result = sp.optimize.root( epidemic_model, [3500000,2368,1856,5259708,36068], method=\"krylov\") \n",
    "#result = sp.optimize.root( epidemic_model, [3500000,2368,1856,5259708,36068], method=\"anderson\") \n",
    "#result = sp.optimize.root( epidemic_model, [3500000,2368,1856,5259708,36068], method=\"excitingmixing\") \n",
    "#result = sp.optimize.root( epidemic_model, [3500000,2368,1856,5259708,36068], method=\"diagbroyden\") \n",
    "print(result)\n",
    "\"\"\""
   ]
  }
 ],
 "metadata": {
  "interpreter": {
   "hash": "368756e83d2084993ac505becbe47825c8a72b0fc53c20a5043bb5b908d065dc"
  },
  "kernelspec": {
   "display_name": "Python 3.8.8 64-bit ('base': conda)",
   "language": "python",
   "name": "python3"
  },
  "language_info": {
   "codemirror_mode": {
    "name": "ipython",
    "version": 3
   },
   "file_extension": ".py",
   "mimetype": "text/x-python",
   "name": "python",
   "nbconvert_exporter": "python",
   "pygments_lexer": "ipython3",
   "version": "3.8.8"
  },
  "orig_nbformat": 4
 },
 "nbformat": 4,
 "nbformat_minor": 2
}
